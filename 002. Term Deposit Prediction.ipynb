{
 "cells": [
  {
   "cell_type": "markdown",
   "metadata": {},
   "source": [
    "# Importing Libraries"
   ]
  },
  {
   "cell_type": "code",
   "execution_count": 803,
   "metadata": {},
   "outputs": [],
   "source": [
    "import numpy as np\n",
    "import pandas as pd\n",
    "import matplotlib.pyplot as plt\n",
    "import seaborn as sns\n",
    "\n",
    "import warnings\n",
    "warnings.filterwarnings('ignore')"
   ]
  },
  {
   "cell_type": "markdown",
   "metadata": {},
   "source": [
    "# Loading and Reading the Dataset"
   ]
  },
  {
   "cell_type": "code",
   "execution_count": 804,
   "metadata": {},
   "outputs": [],
   "source": [
    "df = pd.read_csv(\"Marketing_train.csv\")"
   ]
  },
  {
   "cell_type": "code",
   "execution_count": 805,
   "metadata": {},
   "outputs": [
    {
     "data": {
      "text/html": [
       "<div>\n",
       "<style scoped>\n",
       "    .dataframe tbody tr th:only-of-type {\n",
       "        vertical-align: middle;\n",
       "    }\n",
       "\n",
       "    .dataframe tbody tr th {\n",
       "        vertical-align: top;\n",
       "    }\n",
       "\n",
       "    .dataframe thead th {\n",
       "        text-align: right;\n",
       "    }\n",
       "</style>\n",
       "<table border=\"1\" class=\"dataframe\">\n",
       "  <thead>\n",
       "    <tr style=\"text-align: right;\">\n",
       "      <th></th>\n",
       "      <th>custAge</th>\n",
       "      <th>profession</th>\n",
       "      <th>marital</th>\n",
       "      <th>schooling</th>\n",
       "      <th>default</th>\n",
       "      <th>housing</th>\n",
       "      <th>loan</th>\n",
       "      <th>contact</th>\n",
       "      <th>month</th>\n",
       "      <th>day_of_week</th>\n",
       "      <th>campaign</th>\n",
       "      <th>pdays</th>\n",
       "      <th>previous</th>\n",
       "      <th>poutcome</th>\n",
       "      <th>emp.var.rate</th>\n",
       "      <th>cons.price.idx</th>\n",
       "      <th>cons.conf.idx</th>\n",
       "      <th>euribor3m</th>\n",
       "      <th>nr.employed</th>\n",
       "      <th>responded</th>\n",
       "    </tr>\n",
       "  </thead>\n",
       "  <tbody>\n",
       "    <tr>\n",
       "      <th>0</th>\n",
       "      <td>55.0</td>\n",
       "      <td>admin.</td>\n",
       "      <td>single</td>\n",
       "      <td>university.degree</td>\n",
       "      <td>unknown</td>\n",
       "      <td>no</td>\n",
       "      <td>no</td>\n",
       "      <td>cellular</td>\n",
       "      <td>nov</td>\n",
       "      <td>mon</td>\n",
       "      <td>1</td>\n",
       "      <td>999</td>\n",
       "      <td>0</td>\n",
       "      <td>nonexistent</td>\n",
       "      <td>-0.1</td>\n",
       "      <td>93.200</td>\n",
       "      <td>-42.0</td>\n",
       "      <td>4.191</td>\n",
       "      <td>5195.8</td>\n",
       "      <td>no</td>\n",
       "    </tr>\n",
       "    <tr>\n",
       "      <th>1</th>\n",
       "      <td>NaN</td>\n",
       "      <td>blue-collar</td>\n",
       "      <td>married</td>\n",
       "      <td>NaN</td>\n",
       "      <td>no</td>\n",
       "      <td>no</td>\n",
       "      <td>no</td>\n",
       "      <td>cellular</td>\n",
       "      <td>jul</td>\n",
       "      <td>mon</td>\n",
       "      <td>1</td>\n",
       "      <td>999</td>\n",
       "      <td>0</td>\n",
       "      <td>nonexistent</td>\n",
       "      <td>1.4</td>\n",
       "      <td>93.918</td>\n",
       "      <td>-42.7</td>\n",
       "      <td>4.960</td>\n",
       "      <td>5228.1</td>\n",
       "      <td>no</td>\n",
       "    </tr>\n",
       "    <tr>\n",
       "      <th>2</th>\n",
       "      <td>42.0</td>\n",
       "      <td>technician</td>\n",
       "      <td>married</td>\n",
       "      <td>high.school</td>\n",
       "      <td>no</td>\n",
       "      <td>no</td>\n",
       "      <td>no</td>\n",
       "      <td>telephone</td>\n",
       "      <td>may</td>\n",
       "      <td>mon</td>\n",
       "      <td>1</td>\n",
       "      <td>999</td>\n",
       "      <td>0</td>\n",
       "      <td>nonexistent</td>\n",
       "      <td>1.1</td>\n",
       "      <td>93.994</td>\n",
       "      <td>-36.4</td>\n",
       "      <td>4.857</td>\n",
       "      <td>5191.0</td>\n",
       "      <td>no</td>\n",
       "    </tr>\n",
       "    <tr>\n",
       "      <th>3</th>\n",
       "      <td>55.0</td>\n",
       "      <td>management</td>\n",
       "      <td>divorced</td>\n",
       "      <td>NaN</td>\n",
       "      <td>unknown</td>\n",
       "      <td>yes</td>\n",
       "      <td>yes</td>\n",
       "      <td>cellular</td>\n",
       "      <td>jul</td>\n",
       "      <td>wed</td>\n",
       "      <td>2</td>\n",
       "      <td>999</td>\n",
       "      <td>0</td>\n",
       "      <td>nonexistent</td>\n",
       "      <td>1.4</td>\n",
       "      <td>93.918</td>\n",
       "      <td>-42.7</td>\n",
       "      <td>4.962</td>\n",
       "      <td>5228.1</td>\n",
       "      <td>no</td>\n",
       "    </tr>\n",
       "    <tr>\n",
       "      <th>4</th>\n",
       "      <td>NaN</td>\n",
       "      <td>admin.</td>\n",
       "      <td>divorced</td>\n",
       "      <td>university.degree</td>\n",
       "      <td>no</td>\n",
       "      <td>yes</td>\n",
       "      <td>no</td>\n",
       "      <td>cellular</td>\n",
       "      <td>may</td>\n",
       "      <td>tue</td>\n",
       "      <td>5</td>\n",
       "      <td>999</td>\n",
       "      <td>1</td>\n",
       "      <td>failure</td>\n",
       "      <td>-1.8</td>\n",
       "      <td>92.893</td>\n",
       "      <td>-46.2</td>\n",
       "      <td>1.291</td>\n",
       "      <td>5099.1</td>\n",
       "      <td>no</td>\n",
       "    </tr>\n",
       "  </tbody>\n",
       "</table>\n",
       "</div>"
      ],
      "text/plain": [
       "   custAge   profession   marital          schooling  default housing loan  \\\n",
       "0     55.0       admin.    single  university.degree  unknown      no   no   \n",
       "1      NaN  blue-collar   married                NaN       no      no   no   \n",
       "2     42.0   technician   married        high.school       no      no   no   \n",
       "3     55.0   management  divorced                NaN  unknown     yes  yes   \n",
       "4      NaN       admin.  divorced  university.degree       no     yes   no   \n",
       "\n",
       "     contact month day_of_week  campaign  pdays  previous     poutcome  \\\n",
       "0   cellular   nov         mon         1    999         0  nonexistent   \n",
       "1   cellular   jul         mon         1    999         0  nonexistent   \n",
       "2  telephone   may         mon         1    999         0  nonexistent   \n",
       "3   cellular   jul         wed         2    999         0  nonexistent   \n",
       "4   cellular   may         tue         5    999         1      failure   \n",
       "\n",
       "   emp.var.rate  cons.price.idx  cons.conf.idx  euribor3m  nr.employed  \\\n",
       "0          -0.1          93.200          -42.0      4.191       5195.8   \n",
       "1           1.4          93.918          -42.7      4.960       5228.1   \n",
       "2           1.1          93.994          -36.4      4.857       5191.0   \n",
       "3           1.4          93.918          -42.7      4.962       5228.1   \n",
       "4          -1.8          92.893          -46.2      1.291       5099.1   \n",
       "\n",
       "  responded  \n",
       "0        no  \n",
       "1        no  \n",
       "2        no  \n",
       "3        no  \n",
       "4        no  "
      ]
     },
     "execution_count": 805,
     "metadata": {},
     "output_type": "execute_result"
    }
   ],
   "source": [
    "df.head()"
   ]
  },
  {
   "cell_type": "markdown",
   "metadata": {},
   "source": [
    "# Basic Data Information"
   ]
  },
  {
   "cell_type": "markdown",
   "metadata": {},
   "source": [
    "#### Shape of Data"
   ]
  },
  {
   "cell_type": "code",
   "execution_count": 806,
   "metadata": {},
   "outputs": [
    {
     "data": {
      "text/plain": [
       "(7414, 20)"
      ]
     },
     "execution_count": 806,
     "metadata": {},
     "output_type": "execute_result"
    }
   ],
   "source": [
    "df.shape"
   ]
  },
  {
   "cell_type": "markdown",
   "metadata": {},
   "source": [
    "#### Data Information"
   ]
  },
  {
   "cell_type": "code",
   "execution_count": 807,
   "metadata": {
    "scrolled": false
   },
   "outputs": [
    {
     "name": "stdout",
     "output_type": "stream",
     "text": [
      "<class 'pandas.core.frame.DataFrame'>\n",
      "RangeIndex: 7414 entries, 0 to 7413\n",
      "Data columns (total 20 columns):\n",
      " #   Column          Non-Null Count  Dtype  \n",
      "---  ------          --------------  -----  \n",
      " 0   custAge         5610 non-null   float64\n",
      " 1   profession      7414 non-null   object \n",
      " 2   marital         7414 non-null   object \n",
      " 3   schooling       5259 non-null   object \n",
      " 4   default         7414 non-null   object \n",
      " 5   housing         7414 non-null   object \n",
      " 6   loan            7414 non-null   object \n",
      " 7   contact         7414 non-null   object \n",
      " 8   month           7414 non-null   object \n",
      " 9   day_of_week     6703 non-null   object \n",
      " 10  campaign        7414 non-null   int64  \n",
      " 11  pdays           7414 non-null   int64  \n",
      " 12  previous        7414 non-null   int64  \n",
      " 13  poutcome        7414 non-null   object \n",
      " 14  emp.var.rate    7414 non-null   float64\n",
      " 15  cons.price.idx  7414 non-null   float64\n",
      " 16  cons.conf.idx   7414 non-null   float64\n",
      " 17  euribor3m       7414 non-null   float64\n",
      " 18  nr.employed     7414 non-null   float64\n",
      " 19  responded       7414 non-null   object \n",
      "dtypes: float64(6), int64(3), object(11)\n",
      "memory usage: 1.1+ MB\n"
     ]
    }
   ],
   "source": [
    "df.info()"
   ]
  },
  {
   "cell_type": "markdown",
   "metadata": {},
   "source": [
    "#### Statistical Summary of Data"
   ]
  },
  {
   "cell_type": "code",
   "execution_count": 808,
   "metadata": {
    "scrolled": true
   },
   "outputs": [
    {
     "data": {
      "text/html": [
       "<div>\n",
       "<style scoped>\n",
       "    .dataframe tbody tr th:only-of-type {\n",
       "        vertical-align: middle;\n",
       "    }\n",
       "\n",
       "    .dataframe tbody tr th {\n",
       "        vertical-align: top;\n",
       "    }\n",
       "\n",
       "    .dataframe thead th {\n",
       "        text-align: right;\n",
       "    }\n",
       "</style>\n",
       "<table border=\"1\" class=\"dataframe\">\n",
       "  <thead>\n",
       "    <tr style=\"text-align: right;\">\n",
       "      <th></th>\n",
       "      <th>custAge</th>\n",
       "      <th>campaign</th>\n",
       "      <th>pdays</th>\n",
       "      <th>previous</th>\n",
       "      <th>emp.var.rate</th>\n",
       "      <th>cons.price.idx</th>\n",
       "      <th>cons.conf.idx</th>\n",
       "      <th>euribor3m</th>\n",
       "      <th>nr.employed</th>\n",
       "    </tr>\n",
       "  </thead>\n",
       "  <tbody>\n",
       "    <tr>\n",
       "      <th>count</th>\n",
       "      <td>5610.000000</td>\n",
       "      <td>7414.000000</td>\n",
       "      <td>7414.000000</td>\n",
       "      <td>7414.000000</td>\n",
       "      <td>7414.000000</td>\n",
       "      <td>7414.000000</td>\n",
       "      <td>7414.000000</td>\n",
       "      <td>7414.000000</td>\n",
       "      <td>7414.000000</td>\n",
       "    </tr>\n",
       "    <tr>\n",
       "      <th>mean</th>\n",
       "      <td>40.009804</td>\n",
       "      <td>2.518344</td>\n",
       "      <td>960.024548</td>\n",
       "      <td>0.184111</td>\n",
       "      <td>0.052091</td>\n",
       "      <td>93.570708</td>\n",
       "      <td>-40.561316</td>\n",
       "      <td>3.583141</td>\n",
       "      <td>5165.224251</td>\n",
       "    </tr>\n",
       "    <tr>\n",
       "      <th>std</th>\n",
       "      <td>10.574616</td>\n",
       "      <td>2.695055</td>\n",
       "      <td>192.845029</td>\n",
       "      <td>0.516775</td>\n",
       "      <td>1.568399</td>\n",
       "      <td>0.578345</td>\n",
       "      <td>4.649800</td>\n",
       "      <td>1.744865</td>\n",
       "      <td>73.108669</td>\n",
       "    </tr>\n",
       "    <tr>\n",
       "      <th>min</th>\n",
       "      <td>18.000000</td>\n",
       "      <td>1.000000</td>\n",
       "      <td>0.000000</td>\n",
       "      <td>0.000000</td>\n",
       "      <td>-3.400000</td>\n",
       "      <td>92.201000</td>\n",
       "      <td>-50.800000</td>\n",
       "      <td>0.634000</td>\n",
       "      <td>4963.600000</td>\n",
       "    </tr>\n",
       "    <tr>\n",
       "      <th>25%</th>\n",
       "      <td>32.000000</td>\n",
       "      <td>1.000000</td>\n",
       "      <td>999.000000</td>\n",
       "      <td>0.000000</td>\n",
       "      <td>-1.800000</td>\n",
       "      <td>93.075000</td>\n",
       "      <td>-42.700000</td>\n",
       "      <td>1.334000</td>\n",
       "      <td>5099.100000</td>\n",
       "    </tr>\n",
       "    <tr>\n",
       "      <th>50%</th>\n",
       "      <td>38.000000</td>\n",
       "      <td>2.000000</td>\n",
       "      <td>999.000000</td>\n",
       "      <td>0.000000</td>\n",
       "      <td>1.100000</td>\n",
       "      <td>93.444000</td>\n",
       "      <td>-41.800000</td>\n",
       "      <td>4.857000</td>\n",
       "      <td>5191.000000</td>\n",
       "    </tr>\n",
       "    <tr>\n",
       "      <th>75%</th>\n",
       "      <td>47.000000</td>\n",
       "      <td>3.000000</td>\n",
       "      <td>999.000000</td>\n",
       "      <td>0.000000</td>\n",
       "      <td>1.400000</td>\n",
       "      <td>93.994000</td>\n",
       "      <td>-36.400000</td>\n",
       "      <td>4.961000</td>\n",
       "      <td>5228.100000</td>\n",
       "    </tr>\n",
       "    <tr>\n",
       "      <th>max</th>\n",
       "      <td>94.000000</td>\n",
       "      <td>40.000000</td>\n",
       "      <td>999.000000</td>\n",
       "      <td>6.000000</td>\n",
       "      <td>1.400000</td>\n",
       "      <td>94.767000</td>\n",
       "      <td>-26.900000</td>\n",
       "      <td>5.045000</td>\n",
       "      <td>5228.100000</td>\n",
       "    </tr>\n",
       "  </tbody>\n",
       "</table>\n",
       "</div>"
      ],
      "text/plain": [
       "           custAge     campaign        pdays     previous  emp.var.rate  \\\n",
       "count  5610.000000  7414.000000  7414.000000  7414.000000   7414.000000   \n",
       "mean     40.009804     2.518344   960.024548     0.184111      0.052091   \n",
       "std      10.574616     2.695055   192.845029     0.516775      1.568399   \n",
       "min      18.000000     1.000000     0.000000     0.000000     -3.400000   \n",
       "25%      32.000000     1.000000   999.000000     0.000000     -1.800000   \n",
       "50%      38.000000     2.000000   999.000000     0.000000      1.100000   \n",
       "75%      47.000000     3.000000   999.000000     0.000000      1.400000   \n",
       "max      94.000000    40.000000   999.000000     6.000000      1.400000   \n",
       "\n",
       "       cons.price.idx  cons.conf.idx    euribor3m  nr.employed  \n",
       "count     7414.000000    7414.000000  7414.000000  7414.000000  \n",
       "mean        93.570708     -40.561316     3.583141  5165.224251  \n",
       "std          0.578345       4.649800     1.744865    73.108669  \n",
       "min         92.201000     -50.800000     0.634000  4963.600000  \n",
       "25%         93.075000     -42.700000     1.334000  5099.100000  \n",
       "50%         93.444000     -41.800000     4.857000  5191.000000  \n",
       "75%         93.994000     -36.400000     4.961000  5228.100000  \n",
       "max         94.767000     -26.900000     5.045000  5228.100000  "
      ]
     },
     "execution_count": 808,
     "metadata": {},
     "output_type": "execute_result"
    }
   ],
   "source": [
    "df.describe()"
   ]
  },
  {
   "cell_type": "markdown",
   "metadata": {},
   "source": [
    "#### Statistical Summary of Data (including Categorical Variables)"
   ]
  },
  {
   "cell_type": "code",
   "execution_count": 809,
   "metadata": {
    "scrolled": false
   },
   "outputs": [
    {
     "data": {
      "text/html": [
       "<div>\n",
       "<style scoped>\n",
       "    .dataframe tbody tr th:only-of-type {\n",
       "        vertical-align: middle;\n",
       "    }\n",
       "\n",
       "    .dataframe tbody tr th {\n",
       "        vertical-align: top;\n",
       "    }\n",
       "\n",
       "    .dataframe thead th {\n",
       "        text-align: right;\n",
       "    }\n",
       "</style>\n",
       "<table border=\"1\" class=\"dataframe\">\n",
       "  <thead>\n",
       "    <tr style=\"text-align: right;\">\n",
       "      <th></th>\n",
       "      <th>count</th>\n",
       "      <th>unique</th>\n",
       "      <th>top</th>\n",
       "      <th>freq</th>\n",
       "      <th>mean</th>\n",
       "      <th>std</th>\n",
       "      <th>min</th>\n",
       "      <th>25%</th>\n",
       "      <th>50%</th>\n",
       "      <th>75%</th>\n",
       "      <th>max</th>\n",
       "    </tr>\n",
       "  </thead>\n",
       "  <tbody>\n",
       "    <tr>\n",
       "      <th>custAge</th>\n",
       "      <td>5610</td>\n",
       "      <td>NaN</td>\n",
       "      <td>NaN</td>\n",
       "      <td>NaN</td>\n",
       "      <td>40.0098</td>\n",
       "      <td>10.5746</td>\n",
       "      <td>18</td>\n",
       "      <td>32</td>\n",
       "      <td>38</td>\n",
       "      <td>47</td>\n",
       "      <td>94</td>\n",
       "    </tr>\n",
       "    <tr>\n",
       "      <th>profession</th>\n",
       "      <td>7414</td>\n",
       "      <td>12</td>\n",
       "      <td>admin.</td>\n",
       "      <td>1885</td>\n",
       "      <td>NaN</td>\n",
       "      <td>NaN</td>\n",
       "      <td>NaN</td>\n",
       "      <td>NaN</td>\n",
       "      <td>NaN</td>\n",
       "      <td>NaN</td>\n",
       "      <td>NaN</td>\n",
       "    </tr>\n",
       "    <tr>\n",
       "      <th>marital</th>\n",
       "      <td>7414</td>\n",
       "      <td>4</td>\n",
       "      <td>married</td>\n",
       "      <td>4445</td>\n",
       "      <td>NaN</td>\n",
       "      <td>NaN</td>\n",
       "      <td>NaN</td>\n",
       "      <td>NaN</td>\n",
       "      <td>NaN</td>\n",
       "      <td>NaN</td>\n",
       "      <td>NaN</td>\n",
       "    </tr>\n",
       "    <tr>\n",
       "      <th>schooling</th>\n",
       "      <td>5259</td>\n",
       "      <td>8</td>\n",
       "      <td>university.degree</td>\n",
       "      <td>1554</td>\n",
       "      <td>NaN</td>\n",
       "      <td>NaN</td>\n",
       "      <td>NaN</td>\n",
       "      <td>NaN</td>\n",
       "      <td>NaN</td>\n",
       "      <td>NaN</td>\n",
       "      <td>NaN</td>\n",
       "    </tr>\n",
       "    <tr>\n",
       "      <th>default</th>\n",
       "      <td>7414</td>\n",
       "      <td>3</td>\n",
       "      <td>no</td>\n",
       "      <td>5981</td>\n",
       "      <td>NaN</td>\n",
       "      <td>NaN</td>\n",
       "      <td>NaN</td>\n",
       "      <td>NaN</td>\n",
       "      <td>NaN</td>\n",
       "      <td>NaN</td>\n",
       "      <td>NaN</td>\n",
       "    </tr>\n",
       "    <tr>\n",
       "      <th>housing</th>\n",
       "      <td>7414</td>\n",
       "      <td>3</td>\n",
       "      <td>yes</td>\n",
       "      <td>3840</td>\n",
       "      <td>NaN</td>\n",
       "      <td>NaN</td>\n",
       "      <td>NaN</td>\n",
       "      <td>NaN</td>\n",
       "      <td>NaN</td>\n",
       "      <td>NaN</td>\n",
       "      <td>NaN</td>\n",
       "    </tr>\n",
       "    <tr>\n",
       "      <th>loan</th>\n",
       "      <td>7414</td>\n",
       "      <td>3</td>\n",
       "      <td>no</td>\n",
       "      <td>6099</td>\n",
       "      <td>NaN</td>\n",
       "      <td>NaN</td>\n",
       "      <td>NaN</td>\n",
       "      <td>NaN</td>\n",
       "      <td>NaN</td>\n",
       "      <td>NaN</td>\n",
       "      <td>NaN</td>\n",
       "    </tr>\n",
       "    <tr>\n",
       "      <th>contact</th>\n",
       "      <td>7414</td>\n",
       "      <td>2</td>\n",
       "      <td>cellular</td>\n",
       "      <td>4731</td>\n",
       "      <td>NaN</td>\n",
       "      <td>NaN</td>\n",
       "      <td>NaN</td>\n",
       "      <td>NaN</td>\n",
       "      <td>NaN</td>\n",
       "      <td>NaN</td>\n",
       "      <td>NaN</td>\n",
       "    </tr>\n",
       "    <tr>\n",
       "      <th>month</th>\n",
       "      <td>7414</td>\n",
       "      <td>10</td>\n",
       "      <td>may</td>\n",
       "      <td>2529</td>\n",
       "      <td>NaN</td>\n",
       "      <td>NaN</td>\n",
       "      <td>NaN</td>\n",
       "      <td>NaN</td>\n",
       "      <td>NaN</td>\n",
       "      <td>NaN</td>\n",
       "      <td>NaN</td>\n",
       "    </tr>\n",
       "    <tr>\n",
       "      <th>day_of_week</th>\n",
       "      <td>6703</td>\n",
       "      <td>5</td>\n",
       "      <td>mon</td>\n",
       "      <td>1441</td>\n",
       "      <td>NaN</td>\n",
       "      <td>NaN</td>\n",
       "      <td>NaN</td>\n",
       "      <td>NaN</td>\n",
       "      <td>NaN</td>\n",
       "      <td>NaN</td>\n",
       "      <td>NaN</td>\n",
       "    </tr>\n",
       "    <tr>\n",
       "      <th>campaign</th>\n",
       "      <td>7414</td>\n",
       "      <td>NaN</td>\n",
       "      <td>NaN</td>\n",
       "      <td>NaN</td>\n",
       "      <td>2.51834</td>\n",
       "      <td>2.69506</td>\n",
       "      <td>1</td>\n",
       "      <td>1</td>\n",
       "      <td>2</td>\n",
       "      <td>3</td>\n",
       "      <td>40</td>\n",
       "    </tr>\n",
       "    <tr>\n",
       "      <th>pdays</th>\n",
       "      <td>7414</td>\n",
       "      <td>NaN</td>\n",
       "      <td>NaN</td>\n",
       "      <td>NaN</td>\n",
       "      <td>960.025</td>\n",
       "      <td>192.845</td>\n",
       "      <td>0</td>\n",
       "      <td>999</td>\n",
       "      <td>999</td>\n",
       "      <td>999</td>\n",
       "      <td>999</td>\n",
       "    </tr>\n",
       "    <tr>\n",
       "      <th>previous</th>\n",
       "      <td>7414</td>\n",
       "      <td>NaN</td>\n",
       "      <td>NaN</td>\n",
       "      <td>NaN</td>\n",
       "      <td>0.184111</td>\n",
       "      <td>0.516775</td>\n",
       "      <td>0</td>\n",
       "      <td>0</td>\n",
       "      <td>0</td>\n",
       "      <td>0</td>\n",
       "      <td>6</td>\n",
       "    </tr>\n",
       "    <tr>\n",
       "      <th>poutcome</th>\n",
       "      <td>7414</td>\n",
       "      <td>3</td>\n",
       "      <td>nonexistent</td>\n",
       "      <td>6350</td>\n",
       "      <td>NaN</td>\n",
       "      <td>NaN</td>\n",
       "      <td>NaN</td>\n",
       "      <td>NaN</td>\n",
       "      <td>NaN</td>\n",
       "      <td>NaN</td>\n",
       "      <td>NaN</td>\n",
       "    </tr>\n",
       "    <tr>\n",
       "      <th>emp.var.rate</th>\n",
       "      <td>7414</td>\n",
       "      <td>NaN</td>\n",
       "      <td>NaN</td>\n",
       "      <td>NaN</td>\n",
       "      <td>0.0520906</td>\n",
       "      <td>1.5684</td>\n",
       "      <td>-3.4</td>\n",
       "      <td>-1.8</td>\n",
       "      <td>1.1</td>\n",
       "      <td>1.4</td>\n",
       "      <td>1.4</td>\n",
       "    </tr>\n",
       "    <tr>\n",
       "      <th>cons.price.idx</th>\n",
       "      <td>7414</td>\n",
       "      <td>NaN</td>\n",
       "      <td>NaN</td>\n",
       "      <td>NaN</td>\n",
       "      <td>93.5707</td>\n",
       "      <td>0.578345</td>\n",
       "      <td>92.201</td>\n",
       "      <td>93.075</td>\n",
       "      <td>93.444</td>\n",
       "      <td>93.994</td>\n",
       "      <td>94.767</td>\n",
       "    </tr>\n",
       "    <tr>\n",
       "      <th>cons.conf.idx</th>\n",
       "      <td>7414</td>\n",
       "      <td>NaN</td>\n",
       "      <td>NaN</td>\n",
       "      <td>NaN</td>\n",
       "      <td>-40.5613</td>\n",
       "      <td>4.6498</td>\n",
       "      <td>-50.8</td>\n",
       "      <td>-42.7</td>\n",
       "      <td>-41.8</td>\n",
       "      <td>-36.4</td>\n",
       "      <td>-26.9</td>\n",
       "    </tr>\n",
       "    <tr>\n",
       "      <th>euribor3m</th>\n",
       "      <td>7414</td>\n",
       "      <td>NaN</td>\n",
       "      <td>NaN</td>\n",
       "      <td>NaN</td>\n",
       "      <td>3.58314</td>\n",
       "      <td>1.74486</td>\n",
       "      <td>0.634</td>\n",
       "      <td>1.334</td>\n",
       "      <td>4.857</td>\n",
       "      <td>4.961</td>\n",
       "      <td>5.045</td>\n",
       "    </tr>\n",
       "    <tr>\n",
       "      <th>nr.employed</th>\n",
       "      <td>7414</td>\n",
       "      <td>NaN</td>\n",
       "      <td>NaN</td>\n",
       "      <td>NaN</td>\n",
       "      <td>5165.22</td>\n",
       "      <td>73.1087</td>\n",
       "      <td>4963.6</td>\n",
       "      <td>5099.1</td>\n",
       "      <td>5191</td>\n",
       "      <td>5228.1</td>\n",
       "      <td>5228.1</td>\n",
       "    </tr>\n",
       "    <tr>\n",
       "      <th>responded</th>\n",
       "      <td>7414</td>\n",
       "      <td>2</td>\n",
       "      <td>no</td>\n",
       "      <td>6574</td>\n",
       "      <td>NaN</td>\n",
       "      <td>NaN</td>\n",
       "      <td>NaN</td>\n",
       "      <td>NaN</td>\n",
       "      <td>NaN</td>\n",
       "      <td>NaN</td>\n",
       "      <td>NaN</td>\n",
       "    </tr>\n",
       "  </tbody>\n",
       "</table>\n",
       "</div>"
      ],
      "text/plain": [
       "               count unique                top  freq       mean       std  \\\n",
       "custAge         5610    NaN                NaN   NaN    40.0098   10.5746   \n",
       "profession      7414     12             admin.  1885        NaN       NaN   \n",
       "marital         7414      4            married  4445        NaN       NaN   \n",
       "schooling       5259      8  university.degree  1554        NaN       NaN   \n",
       "default         7414      3                 no  5981        NaN       NaN   \n",
       "housing         7414      3                yes  3840        NaN       NaN   \n",
       "loan            7414      3                 no  6099        NaN       NaN   \n",
       "contact         7414      2           cellular  4731        NaN       NaN   \n",
       "month           7414     10                may  2529        NaN       NaN   \n",
       "day_of_week     6703      5                mon  1441        NaN       NaN   \n",
       "campaign        7414    NaN                NaN   NaN    2.51834   2.69506   \n",
       "pdays           7414    NaN                NaN   NaN    960.025   192.845   \n",
       "previous        7414    NaN                NaN   NaN   0.184111  0.516775   \n",
       "poutcome        7414      3        nonexistent  6350        NaN       NaN   \n",
       "emp.var.rate    7414    NaN                NaN   NaN  0.0520906    1.5684   \n",
       "cons.price.idx  7414    NaN                NaN   NaN    93.5707  0.578345   \n",
       "cons.conf.idx   7414    NaN                NaN   NaN   -40.5613    4.6498   \n",
       "euribor3m       7414    NaN                NaN   NaN    3.58314   1.74486   \n",
       "nr.employed     7414    NaN                NaN   NaN    5165.22   73.1087   \n",
       "responded       7414      2                 no  6574        NaN       NaN   \n",
       "\n",
       "                   min     25%     50%     75%     max  \n",
       "custAge             18      32      38      47      94  \n",
       "profession         NaN     NaN     NaN     NaN     NaN  \n",
       "marital            NaN     NaN     NaN     NaN     NaN  \n",
       "schooling          NaN     NaN     NaN     NaN     NaN  \n",
       "default            NaN     NaN     NaN     NaN     NaN  \n",
       "housing            NaN     NaN     NaN     NaN     NaN  \n",
       "loan               NaN     NaN     NaN     NaN     NaN  \n",
       "contact            NaN     NaN     NaN     NaN     NaN  \n",
       "month              NaN     NaN     NaN     NaN     NaN  \n",
       "day_of_week        NaN     NaN     NaN     NaN     NaN  \n",
       "campaign             1       1       2       3      40  \n",
       "pdays                0     999     999     999     999  \n",
       "previous             0       0       0       0       6  \n",
       "poutcome           NaN     NaN     NaN     NaN     NaN  \n",
       "emp.var.rate      -3.4    -1.8     1.1     1.4     1.4  \n",
       "cons.price.idx  92.201  93.075  93.444  93.994  94.767  \n",
       "cons.conf.idx    -50.8   -42.7   -41.8   -36.4   -26.9  \n",
       "euribor3m        0.634   1.334   4.857   4.961   5.045  \n",
       "nr.employed     4963.6  5099.1    5191  5228.1  5228.1  \n",
       "responded          NaN     NaN     NaN     NaN     NaN  "
      ]
     },
     "execution_count": 809,
     "metadata": {},
     "output_type": "execute_result"
    }
   ],
   "source": [
    "df.describe(include='all').T"
   ]
  },
  {
   "cell_type": "markdown",
   "metadata": {},
   "source": [
    "#### Primary Observations from Descriptive Analysis"
   ]
  },
  {
   "cell_type": "markdown",
   "metadata": {},
   "source": [
    "##### Primary Observation from the dataset shows that:\n",
    "###### 1. From target vriable 'y', about 88.7% Customers did not opted for TD.\n",
    "###### 2. About 99.9% people contacted were not defaulters for Loan\n",
    "###### 3. About 53% Customers already having Housing Loan\n",
    "###### 4. More than half of Customers i.e. 63% of Customers were contacted on Cellular Phone\n",
    "###### 5. About 61% Customers contacted were married\n",
    "###### 6. About 85% Customers laready having Personal Loan\n",
    "###### 7. In Duration Column, there is a huge difference between the 75th percentile value and Maximum Value, thus, there is a possibility of outlier"
   ]
  },
  {
   "cell_type": "markdown",
   "metadata": {},
   "source": [
    "#### Data Types of Variables from Data"
   ]
  },
  {
   "cell_type": "code",
   "execution_count": 810,
   "metadata": {
    "scrolled": false
   },
   "outputs": [
    {
     "data": {
      "text/plain": [
       "custAge           float64\n",
       "profession         object\n",
       "marital            object\n",
       "schooling          object\n",
       "default            object\n",
       "housing            object\n",
       "loan               object\n",
       "contact            object\n",
       "month              object\n",
       "day_of_week        object\n",
       "campaign            int64\n",
       "pdays               int64\n",
       "previous            int64\n",
       "poutcome           object\n",
       "emp.var.rate      float64\n",
       "cons.price.idx    float64\n",
       "cons.conf.idx     float64\n",
       "euribor3m         float64\n",
       "nr.employed       float64\n",
       "responded          object\n",
       "dtype: object"
      ]
     },
     "execution_count": 810,
     "metadata": {},
     "output_type": "execute_result"
    }
   ],
   "source": [
    "df.dtypes"
   ]
  },
  {
   "cell_type": "markdown",
   "metadata": {},
   "source": [
    "#### Numeric Columns of Data"
   ]
  },
  {
   "cell_type": "code",
   "execution_count": 811,
   "metadata": {},
   "outputs": [
    {
     "data": {
      "text/plain": [
       "Index(['custAge', 'campaign', 'pdays', 'previous', 'emp.var.rate',\n",
       "       'cons.price.idx', 'cons.conf.idx', 'euribor3m', 'nr.employed'],\n",
       "      dtype='object')"
      ]
     },
     "execution_count": 811,
     "metadata": {},
     "output_type": "execute_result"
    }
   ],
   "source": [
    "df.select_dtypes(include = np.number).columns"
   ]
  },
  {
   "cell_type": "markdown",
   "metadata": {},
   "source": [
    "#### Categorical Columns of Data"
   ]
  },
  {
   "cell_type": "code",
   "execution_count": 812,
   "metadata": {},
   "outputs": [
    {
     "data": {
      "text/plain": [
       "Index(['profession', 'marital', 'schooling', 'default', 'housing', 'loan',\n",
       "       'contact', 'month', 'day_of_week', 'poutcome', 'responded'],\n",
       "      dtype='object')"
      ]
     },
     "execution_count": 812,
     "metadata": {},
     "output_type": "execute_result"
    }
   ],
   "source": [
    "df.select_dtypes(include = 'object').columns"
   ]
  },
  {
   "cell_type": "markdown",
   "metadata": {},
   "source": [
    "## Handling Duplicated Data"
   ]
  },
  {
   "cell_type": "code",
   "execution_count": 813,
   "metadata": {},
   "outputs": [
    {
     "data": {
      "text/plain": [
       "27"
      ]
     },
     "execution_count": 813,
     "metadata": {},
     "output_type": "execute_result"
    }
   ],
   "source": [
    "df.duplicated().sum()"
   ]
  },
  {
   "cell_type": "code",
   "execution_count": 814,
   "metadata": {},
   "outputs": [],
   "source": [
    "df = df.drop_duplicates()"
   ]
  },
  {
   "cell_type": "markdown",
   "metadata": {},
   "source": [
    "## Handling Missing Values"
   ]
  },
  {
   "cell_type": "markdown",
   "metadata": {},
   "source": [
    "#### Number of Missing Values"
   ]
  },
  {
   "cell_type": "code",
   "execution_count": 815,
   "metadata": {
    "scrolled": false
   },
   "outputs": [
    {
     "data": {
      "text/plain": [
       "custAge           1791\n",
       "profession           0\n",
       "marital              0\n",
       "schooling         2147\n",
       "default              0\n",
       "housing              0\n",
       "loan                 0\n",
       "contact              0\n",
       "month                0\n",
       "day_of_week        709\n",
       "campaign             0\n",
       "pdays                0\n",
       "previous             0\n",
       "poutcome             0\n",
       "emp.var.rate         0\n",
       "cons.price.idx       0\n",
       "cons.conf.idx        0\n",
       "euribor3m            0\n",
       "nr.employed          0\n",
       "responded            0\n",
       "dtype: int64"
      ]
     },
     "execution_count": 815,
     "metadata": {},
     "output_type": "execute_result"
    }
   ],
   "source": [
    "df.isna().sum()"
   ]
  },
  {
   "cell_type": "markdown",
   "metadata": {},
   "source": [
    "#### Percentage of Missing Values"
   ]
  },
  {
   "cell_type": "code",
   "execution_count": 816,
   "metadata": {
    "scrolled": false
   },
   "outputs": [
    {
     "name": "stdout",
     "output_type": "stream",
     "text": [
      "custAge           24.245296\n",
      "profession         0.000000\n",
      "marital            0.000000\n",
      "schooling         29.064573\n",
      "default            0.000000\n",
      "housing            0.000000\n",
      "loan               0.000000\n",
      "contact            0.000000\n",
      "month              0.000000\n",
      "day_of_week        9.597942\n",
      "campaign           0.000000\n",
      "pdays              0.000000\n",
      "previous           0.000000\n",
      "poutcome           0.000000\n",
      "emp.var.rate       0.000000\n",
      "cons.price.idx     0.000000\n",
      "cons.conf.idx      0.000000\n",
      "euribor3m          0.000000\n",
      "nr.employed        0.000000\n",
      "responded          0.000000\n",
      "dtype: float64\n"
     ]
    }
   ],
   "source": [
    "percent = (df.isna().sum()/len(df))*100\n",
    "print(percent)"
   ]
  },
  {
   "cell_type": "markdown",
   "metadata": {},
   "source": [
    "##### Since, 'schooling' column constitutes 30% of missing values, thus instead of dropping, we will fill the NA values. Filling NA Values of 'schooling' column with Mode of 'schooling' column"
   ]
  },
  {
   "cell_type": "code",
   "execution_count": 817,
   "metadata": {},
   "outputs": [
    {
     "data": {
      "text/plain": [
       "0    university.degree\n",
       "dtype: object"
      ]
     },
     "execution_count": 817,
     "metadata": {},
     "output_type": "execute_result"
    }
   ],
   "source": [
    "df['schooling'].mode()"
   ]
  },
  {
   "cell_type": "code",
   "execution_count": 818,
   "metadata": {},
   "outputs": [],
   "source": [
    "df['schooling'] = df['schooling'].fillna(df['schooling'].mode()[0])"
   ]
  },
  {
   "cell_type": "code",
   "execution_count": 819,
   "metadata": {},
   "outputs": [
    {
     "data": {
      "text/plain": [
       "0"
      ]
     },
     "execution_count": 819,
     "metadata": {},
     "output_type": "execute_result"
    }
   ],
   "source": [
    "df['schooling'].isna().sum()"
   ]
  },
  {
   "cell_type": "markdown",
   "metadata": {},
   "source": [
    "##### Filling NA values of 'custAge' column instead of dropping it as NA values in this column constitutes about 30% total data, thus it would be a loss of information. Thus, filling NA values of 'custAge' column with mean of 'custAge' column"
   ]
  },
  {
   "cell_type": "code",
   "execution_count": 820,
   "metadata": {},
   "outputs": [
    {
     "data": {
      "text/plain": [
       "40.02466047176555"
      ]
     },
     "execution_count": 820,
     "metadata": {},
     "output_type": "execute_result"
    }
   ],
   "source": [
    "df['custAge'].mean()"
   ]
  },
  {
   "cell_type": "code",
   "execution_count": 821,
   "metadata": {},
   "outputs": [],
   "source": [
    "df['custAge'] = df['custAge'].fillna(df['custAge'].mean())"
   ]
  },
  {
   "cell_type": "markdown",
   "metadata": {},
   "source": [
    "##### Dropping NA of 'day_of_week' as it has about 709, thus can drop those values and it wont affect the model later."
   ]
  },
  {
   "cell_type": "code",
   "execution_count": 822,
   "metadata": {},
   "outputs": [],
   "source": [
    "df_no_na = df.dropna(axis = 0)"
   ]
  },
  {
   "cell_type": "code",
   "execution_count": 823,
   "metadata": {},
   "outputs": [],
   "source": [
    "#Effective Number of Rows"
   ]
  },
  {
   "cell_type": "markdown",
   "metadata": {},
   "source": [
    "# Effective Shape of Data after Treating Duplicates and Missing Values"
   ]
  },
  {
   "cell_type": "code",
   "execution_count": 824,
   "metadata": {},
   "outputs": [
    {
     "data": {
      "text/plain": [
       "6678"
      ]
     },
     "execution_count": 824,
     "metadata": {},
     "output_type": "execute_result"
    }
   ],
   "source": [
    "df_no_na.shape[0]"
   ]
  },
  {
   "cell_type": "markdown",
   "metadata": {},
   "source": [
    "# Exploratory Data Analysis"
   ]
  },
  {
   "cell_type": "markdown",
   "metadata": {},
   "source": [
    "#### Defining functions for groupby, Countplots, Distplots, Boxplots for Univariate and Bi-variate Analysis"
   ]
  },
  {
   "cell_type": "code",
   "execution_count": 825,
   "metadata": {},
   "outputs": [],
   "source": [
    "# Function for Count Plot of Variables\n",
    "def countp(x, data):\n",
    "    plt.figure(figsize = (10,8))\n",
    "    sns.countplot(x = x, data = data, palette='autumn')"
   ]
  },
  {
   "cell_type": "code",
   "execution_count": 826,
   "metadata": {},
   "outputs": [],
   "source": [
    "# Function for Count Plot of Variables with Target Variable 'y'\n",
    "def countp_y(x, data):\n",
    "    plt.figure(figsize = (10,8))\n",
    "    sns.countplot(x = x, data = data, hue = 'responded', palette = 'Oranges_r')"
   ]
  },
  {
   "cell_type": "code",
   "execution_count": 827,
   "metadata": {},
   "outputs": [],
   "source": [
    "#Groupby Function\n",
    "def grpby(x):\n",
    "    return df_no_na.groupby(x)[x].count()"
   ]
  },
  {
   "cell_type": "code",
   "execution_count": 828,
   "metadata": {},
   "outputs": [],
   "source": [
    "# Count by Percentage\n",
    "\n",
    "def per(x, data):\n",
    "    return round(data[x].value_counts(normalize=True,sort=False).mul(100),2)"
   ]
  },
  {
   "cell_type": "code",
   "execution_count": 829,
   "metadata": {},
   "outputs": [],
   "source": [
    "#Groupby Function with Target Variable 'y'\n",
    "def grpby_y(x):\n",
    "    return df_no_na.groupby([x, 'responded'])[x].count()"
   ]
  },
  {
   "cell_type": "code",
   "execution_count": 830,
   "metadata": {},
   "outputs": [],
   "source": [
    "#Function for distplot\n",
    "def dist(x, data):\n",
    "    plt.figure(figsize = (10,8))\n",
    "    sns.distplot(data[x])"
   ]
  },
  {
   "cell_type": "code",
   "execution_count": 831,
   "metadata": {},
   "outputs": [],
   "source": [
    "#Function for Box Plot of Classes of Target Variable 'y'\n",
    "def box(x, data):\n",
    "    plt.figure(figsize = (10,8))\n",
    "    sns.boxplot(x = 'responded', y = x, data = data)"
   ]
  },
  {
   "cell_type": "markdown",
   "metadata": {},
   "source": [
    "### Analysis of percentage turnout of marketing campaign"
   ]
  },
  {
   "cell_type": "code",
   "execution_count": 832,
   "metadata": {},
   "outputs": [
    {
     "name": "stdout",
     "output_type": "stream",
     "text": [
      "responded\n",
      "no     5926\n",
      "yes     752\n",
      "Name: responded, dtype: int64\n",
      "\n",
      "yes    11.26\n",
      "no     88.74\n",
      "Name: responded, dtype: float64\n"
     ]
    }
   ],
   "source": [
    "print(grpby('responded'))\n",
    "print(\"\")\n",
    "print(round(df_no_na['responded'].value_counts(normalize=True,sort=False).mul(100),2))"
   ]
  },
  {
   "cell_type": "code",
   "execution_count": 833,
   "metadata": {
    "scrolled": false
   },
   "outputs": [
    {
     "data": {
      "image/png": "[encoded data removed]",
      "text/plain": [
       "<Figure size 720x576 with 1 Axes>"
      ]
     },
     "metadata": {
      "needs_background": "light"
     },
     "output_type": "display_data"
    }
   ],
   "source": [
    "countp(df_no_na['responded'], df_no_na)\n",
    "\n",
    "plt.xlabel(\"Opted for TD?\")\n",
    "plt.ylabel(\"Frequency\")\n",
    "plt.title(\"Distribution of Customers Opted or Not Opted for TD\")\n",
    "\n",
    "plt.show()"
   ]
  },
  {
   "cell_type": "markdown",
   "metadata": {},
   "source": [
    "#### About 88.7% people have not responded to the marketing campaign while 11.3% have responded to the marketing campaign\n",
    "\n",
    "#### Thus, campaign had shown poor performance"
   ]
  },
  {
   "cell_type": "markdown",
   "metadata": {},
   "source": [
    "## Analysis of Right mode to contact the customers (telephone or mobile)"
   ]
  },
  {
   "cell_type": "markdown",
   "metadata": {},
   "source": [
    "#### Counts and Percentages of each category of 'contact' variable"
   ]
  },
  {
   "cell_type": "code",
   "execution_count": 834,
   "metadata": {},
   "outputs": [
    {
     "name": "stdout",
     "output_type": "stream",
     "text": [
      "contact\n",
      "cellular     4264\n",
      "telephone    2414\n",
      "Name: contact, dtype: int64\n",
      "\n",
      "telephone    36.15\n",
      "cellular     63.85\n",
      "Name: contact, dtype: float64\n"
     ]
    }
   ],
   "source": [
    "print(grpby('contact'))\n",
    "print(\"\")\n",
    "print(per('contact', df_no_na))"
   ]
  },
  {
   "cell_type": "markdown",
   "metadata": {},
   "source": [
    "#### Univariate and Bi-variate Count Plots of 'contact' variable"
   ]
  },
  {
   "cell_type": "code",
   "execution_count": 835,
   "metadata": {},
   "outputs": [
    {
     "data": {
      "image/png": "[encoded data removed]",
      "text/plain": [
       "<Figure size 720x576 with 1 Axes>"
      ]
     },
     "metadata": {
      "needs_background": "light"
     },
     "output_type": "display_data"
    }
   ],
   "source": [
    "countp('contact', df_no_na)\n",
    "\n",
    "plt.xlabel(\"Mode of Contact\")\n",
    "plt.ylabel(\"Frequency\")\n",
    "plt.title(\"Distribution of Mode of Contact Made to Customers\")\n",
    "\n",
    "plt.show()"
   ]
  },
  {
   "cell_type": "code",
   "execution_count": 836,
   "metadata": {},
   "outputs": [
    {
     "data": {
      "image/png": "[encoded data removed]",
      "text/plain": [
       "<Figure size 720x576 with 1 Axes>"
      ]
     },
     "metadata": {
      "needs_background": "light"
     },
     "output_type": "display_data"
    }
   ],
   "source": [
    "countp_y('contact', df_no_na)\n",
    "\n",
    "plt.xlabel(\"Mode of Contact\")\n",
    "plt.ylabel(\"Frequency\")\n",
    "plt.title(\"Distribution of Mode of Contact Made to Customers opted or not opted for TD\")\n",
    "\n",
    "plt.show()"
   ]
  },
  {
   "cell_type": "markdown",
   "metadata": {},
   "source": [
    "#### More than half of the people were contacted on their Mobile Phones, and it's understandable that one must always be near to his or her phone than in comparision to landlines which are unmovable and cannot be answerable everytim. Thus, we should work upon contacting people on their cellular phones."
   ]
  },
  {
   "cell_type": "markdown",
   "metadata": {},
   "source": [
    "## Analysis on attempts made to turn a person into successful depositor"
   ]
  },
  {
   "cell_type": "markdown",
   "metadata": {},
   "source": [
    "#### Distribution of 'campaign' column"
   ]
  },
  {
   "cell_type": "code",
   "execution_count": 837,
   "metadata": {},
   "outputs": [
    {
     "data": {
      "image/png": "[encoded data removed]",
      "text/plain": [
       "<Figure size 720x576 with 1 Axes>"
      ]
     },
     "metadata": {
      "needs_background": "light"
     },
     "output_type": "display_data"
    }
   ],
   "source": [
    "dist('campaign', df_no_na)\n",
    "\n",
    "plt.xlabel(\"Number of Contacts Performed for this Campaign\")\n",
    "plt.title('Distribution of Contacts Peformed to Customers for this Campaign')\n",
    "plt.show()"
   ]
  },
  {
   "cell_type": "markdown",
   "metadata": {},
   "source": [
    "#### Bi-variate analysis of 'campaign' vs target variable 'responded' "
   ]
  },
  {
   "cell_type": "code",
   "execution_count": 838,
   "metadata": {},
   "outputs": [
    {
     "data": {
      "image/png": "[encoded data removed]",
      "text/plain": [
       "<Figure size 720x576 with 1 Axes>"
      ]
     },
     "metadata": {
      "needs_background": "light"
     },
     "output_type": "display_data"
    }
   ],
   "source": [
    "box('campaign', df_no_na)\n",
    "\n",
    "plt.xlabel(\"Opted?\")\n",
    "plt.ylabel(\"Number of Conatcts Made\")\n",
    "plt.title('Box Plot of Contacts Peformed to Customers for this Campaign')\n",
    "\n",
    "plt.show()"
   ]
  },
  {
   "cell_type": "markdown",
   "metadata": {},
   "source": [
    "#### Describing the 'campaign' variable"
   ]
  },
  {
   "cell_type": "code",
   "execution_count": 839,
   "metadata": {},
   "outputs": [
    {
     "data": {
      "text/plain": [
       "count    7387.00000\n",
       "mean        2.52281\n",
       "std         2.69877\n",
       "min         1.00000\n",
       "25%         1.00000\n",
       "50%         2.00000\n",
       "75%         3.00000\n",
       "max        40.00000\n",
       "Name: campaign, dtype: float64"
      ]
     },
     "execution_count": 839,
     "metadata": {},
     "output_type": "execute_result"
    }
   ],
   "source": [
    "df['campaign'].describe()"
   ]
  },
  {
   "cell_type": "markdown",
   "metadata": {},
   "source": [
    "#### Most of the people have been contacted lss than 5 times. Also, People who have turned into succesfull depositor were contacted less number of times than those who didnot opted for term deposit"
   ]
  },
  {
   "cell_type": "markdown",
   "metadata": {},
   "source": [
    "## Analysis of marital status and its impact on the campaign’s success."
   ]
  },
  {
   "cell_type": "markdown",
   "metadata": {},
   "source": [
    "#### Counts and Percentages of each category of 'marital' variable"
   ]
  },
  {
   "cell_type": "code",
   "execution_count": 840,
   "metadata": {},
   "outputs": [
    {
     "data": {
      "text/plain": [
       "marital\n",
       "divorced     771\n",
       "married     4001\n",
       "single      1898\n",
       "unknown        8\n",
       "Name: marital, dtype: int64"
      ]
     },
     "execution_count": 840,
     "metadata": {},
     "output_type": "execute_result"
    }
   ],
   "source": [
    "grpby('marital')"
   ]
  },
  {
   "cell_type": "code",
   "execution_count": 841,
   "metadata": {},
   "outputs": [
    {
     "data": {
      "text/plain": [
       "unknown      0.12\n",
       "divorced    11.55\n",
       "single      28.42\n",
       "married     59.91\n",
       "Name: marital, dtype: float64"
      ]
     },
     "execution_count": 841,
     "metadata": {},
     "output_type": "execute_result"
    }
   ],
   "source": [
    "per('marital', df_no_na)"
   ]
  },
  {
   "cell_type": "markdown",
   "metadata": {},
   "source": [
    "#### Univariate and Bi-variate Count Plots of 'marital' variable"
   ]
  },
  {
   "cell_type": "code",
   "execution_count": 842,
   "metadata": {},
   "outputs": [
    {
     "data": {
      "image/png": "[encoded data removed]",
      "text/plain": [
       "<Figure size 720x576 with 1 Axes>"
      ]
     },
     "metadata": {
      "needs_background": "light"
     },
     "output_type": "display_data"
    }
   ],
   "source": [
    "countp('marital', df_no_na)\n",
    "\n",
    "plt.xlabel(\"Marital Status\")\n",
    "plt.ylabel(\"Frequency\")\n",
    "plt.title(\"Marital Status of Customers\")\n",
    "plt.show()"
   ]
  },
  {
   "cell_type": "code",
   "execution_count": 843,
   "metadata": {},
   "outputs": [
    {
     "data": {
      "image/png": "[encoded data removed]",
      "text/plain": [
       "<Figure size 720x576 with 1 Axes>"
      ]
     },
     "metadata": {
      "needs_background": "light"
     },
     "output_type": "display_data"
    }
   ],
   "source": [
    "countp_y('marital', df_no_na)\n",
    "\n",
    "plt.xlabel(\"Customers Opted for TD\")\n",
    "plt.ylabel(\"Frequency\")\n",
    "plt.title(\"Distribution of Marital Status of Customers opted or not opted for Term Deposit\")\n",
    "plt.show()"
   ]
  },
  {
   "cell_type": "markdown",
   "metadata": {},
   "source": [
    "##### Distributing the 'marital' variable, it is evident that Married Customers had opted for TD most number of time. \n",
    "##### Also, Married Customers are the ones who had NOT opted for the Term Deposit. This may be because Number of Married Customers are more than Singles and Divorced.\n",
    "##### Single Customers had opted for Term Deposit than Divoced Customers"
   ]
  },
  {
   "cell_type": "markdown",
   "metadata": {},
   "source": [
    "## Analysis of existing loans and its impact on the campaign’s success."
   ]
  },
  {
   "cell_type": "markdown",
   "metadata": {},
   "source": [
    "#### Personal Loans"
   ]
  },
  {
   "cell_type": "markdown",
   "metadata": {},
   "source": [
    "#### Counts and Percentages of each category of 'loan' variable\n"
   ]
  },
  {
   "cell_type": "code",
   "execution_count": 844,
   "metadata": {},
   "outputs": [
    {
     "data": {
      "text/plain": [
       "loan\n",
       "no         5478\n",
       "unknown     152\n",
       "yes        1048\n",
       "Name: loan, dtype: int64"
      ]
     },
     "execution_count": 844,
     "metadata": {},
     "output_type": "execute_result"
    }
   ],
   "source": [
    "grpby('loan')"
   ]
  },
  {
   "cell_type": "code",
   "execution_count": 845,
   "metadata": {},
   "outputs": [
    {
     "data": {
      "text/plain": [
       "unknown     2.28\n",
       "yes        15.69\n",
       "no         82.03\n",
       "Name: loan, dtype: float64"
      ]
     },
     "execution_count": 845,
     "metadata": {},
     "output_type": "execute_result"
    }
   ],
   "source": [
    "per('loan', df_no_na)"
   ]
  },
  {
   "cell_type": "markdown",
   "metadata": {},
   "source": [
    "#### Univariate and Bi-variate Count Plots of 'loan' variable"
   ]
  },
  {
   "cell_type": "code",
   "execution_count": 846,
   "metadata": {},
   "outputs": [
    {
     "data": {
      "image/png": "[encoded data removed]",
      "text/plain": [
       "<Figure size 720x576 with 1 Axes>"
      ]
     },
     "metadata": {
      "needs_background": "light"
     },
     "output_type": "display_data"
    }
   ],
   "source": [
    "countp('loan', df_no_na)\n",
    "\n",
    "plt.xlabel(\"Has Personal Loan\")\n",
    "plt.ylabel(\"Frequency\")\n",
    "plt.title(\"Distribution of Personal Loan hold by Customers\")\n",
    "\n",
    "plt.show()"
   ]
  },
  {
   "cell_type": "code",
   "execution_count": 847,
   "metadata": {},
   "outputs": [
    {
     "data": {
      "image/png": "[encoded data removed]",
      "text/plain": [
       "<Figure size 720x576 with 1 Axes>"
      ]
     },
     "metadata": {
      "needs_background": "light"
     },
     "output_type": "display_data"
    }
   ],
   "source": [
    "countp_y('loan', df_no_na)\n",
    "\n",
    "plt.xlabel(\"Has Personal Loan\")\n",
    "plt.ylabel(\"Frequency\")\n",
    "plt.title(\"Distribution of Personal Loan hold by Customers opted or not opted for TD\")\n",
    "\n",
    "plt.show()"
   ]
  },
  {
   "cell_type": "markdown",
   "metadata": {},
   "source": [
    "##### More number of people had opted for TD had no Perosnal Load simply because most of the people were not having Personal Loanm"
   ]
  },
  {
   "cell_type": "markdown",
   "metadata": {},
   "source": [
    "#### Home Loan"
   ]
  },
  {
   "cell_type": "markdown",
   "metadata": {},
   "source": [
    "#### Counts and Percentages of each category of 'housing' variable"
   ]
  },
  {
   "cell_type": "code",
   "execution_count": 848,
   "metadata": {},
   "outputs": [
    {
     "data": {
      "text/plain": [
       "housing\n",
       "no         3042\n",
       "unknown     152\n",
       "yes        3484\n",
       "Name: housing, dtype: int64"
      ]
     },
     "execution_count": 848,
     "metadata": {},
     "output_type": "execute_result"
    }
   ],
   "source": [
    "grpby('housing')"
   ]
  },
  {
   "cell_type": "code",
   "execution_count": 849,
   "metadata": {},
   "outputs": [
    {
     "data": {
      "text/plain": [
       "unknown     2.28\n",
       "yes        52.17\n",
       "no         45.55\n",
       "Name: housing, dtype: float64"
      ]
     },
     "execution_count": 849,
     "metadata": {},
     "output_type": "execute_result"
    }
   ],
   "source": [
    "per('housing', df_no_na)"
   ]
  },
  {
   "cell_type": "markdown",
   "metadata": {},
   "source": [
    "#### Univariate and Bi-variate Count Plots of 'housing' variable"
   ]
  },
  {
   "cell_type": "code",
   "execution_count": 850,
   "metadata": {},
   "outputs": [
    {
     "data": {
      "image/png": "[encoded data removed]",
      "text/plain": [
       "<Figure size 720x576 with 1 Axes>"
      ]
     },
     "metadata": {
      "needs_background": "light"
     },
     "output_type": "display_data"
    }
   ],
   "source": [
    "countp('housing', df_no_na)\n",
    "\n",
    "plt.xlabel(\"Has Housing Loan\")\n",
    "plt.ylabel(\"Frequency\")\n",
    "plt.title(\"Distribution of Housing Loan hold by Customers\")\n",
    "\n",
    "plt.show()"
   ]
  },
  {
   "cell_type": "code",
   "execution_count": 851,
   "metadata": {},
   "outputs": [
    {
     "data": {
      "image/png": "[encoded data removed]",
      "text/plain": [
       "<Figure size 720x576 with 1 Axes>"
      ]
     },
     "metadata": {
      "needs_background": "light"
     },
     "output_type": "display_data"
    }
   ],
   "source": [
    "countp_y('housing', df_no_na)\n",
    "\n",
    "plt.xlabel(\"Has Housing Loan\")\n",
    "plt.ylabel(\"Frequency\")\n",
    "plt.title(\"Distribution of Housing Loan hold by Customers opted or not opted for TD\")\n",
    "plt.show()"
   ]
  },
  {
   "cell_type": "markdown",
   "metadata": {},
   "source": [
    "#### Credit Default"
   ]
  },
  {
   "cell_type": "markdown",
   "metadata": {},
   "source": [
    "#### Counts and Percentages of each category of 'default' variable"
   ]
  },
  {
   "cell_type": "code",
   "execution_count": 852,
   "metadata": {},
   "outputs": [
    {
     "data": {
      "text/plain": [
       "default\n",
       "no         5393\n",
       "unknown    1284\n",
       "yes           1\n",
       "Name: default, dtype: int64"
      ]
     },
     "execution_count": 852,
     "metadata": {},
     "output_type": "execute_result"
    }
   ],
   "source": [
    "grpby('default')"
   ]
  },
  {
   "cell_type": "code",
   "execution_count": 853,
   "metadata": {},
   "outputs": [
    {
     "data": {
      "image/png": "[encoded data removed]",
      "text/plain": [
       "<Figure size 720x576 with 1 Axes>"
      ]
     },
     "metadata": {
      "needs_background": "light"
     },
     "output_type": "display_data"
    }
   ],
   "source": [
    "countp('default', df)\n",
    "\n",
    "plt.xlabel(\"Has Credit Deafult\")\n",
    "plt.ylabel(\"Frequency\")\n",
    "plt.title(\"Distribution of Credit Default by Customers\")\n",
    "\n",
    "plt.show()"
   ]
  },
  {
   "cell_type": "code",
   "execution_count": 854,
   "metadata": {},
   "outputs": [
    {
     "data": {
      "image/png": "[encoded data removed]",
      "text/plain": [
       "<Figure size 720x576 with 1 Axes>"
      ]
     },
     "metadata": {
      "needs_background": "light"
     },
     "output_type": "display_data"
    }
   ],
   "source": [
    "countp_y('default', df)\n",
    "\n",
    "\n",
    "plt.xlabel(\"Has Credit Deafult\")\n",
    "plt.ylabel(\"Frequency\")\n",
    "plt.title(\"Distribution of Credit Default by Customers opted or not opted for TD\")\n",
    "\n",
    "plt.show()"
   ]
  },
  {
   "cell_type": "markdown",
   "metadata": {},
   "source": [
    "## Analysis of education and its impact on the campaign’s success."
   ]
  },
  {
   "cell_type": "markdown",
   "metadata": {},
   "source": [
    "#### Counts and Percentages of each category of 'schooling' variable"
   ]
  },
  {
   "cell_type": "code",
   "execution_count": 855,
   "metadata": {},
   "outputs": [
    {
     "data": {
      "text/plain": [
       "schooling\n",
       "basic.4y                485\n",
       "basic.6y                252\n",
       "basic.9y                702\n",
       "high.school            1088\n",
       "illiterate                1\n",
       "professional.course     601\n",
       "university.degree      3338\n",
       "unknown                 211\n",
       "Name: schooling, dtype: int64"
      ]
     },
     "execution_count": 855,
     "metadata": {},
     "output_type": "execute_result"
    }
   ],
   "source": [
    "grpby('schooling')"
   ]
  },
  {
   "cell_type": "code",
   "execution_count": 856,
   "metadata": {},
   "outputs": [
    {
     "data": {
      "text/plain": [
       "unknown                 3.16\n",
       "basic.4y                7.26\n",
       "illiterate              0.01\n",
       "professional.course     9.00\n",
       "high.school            16.29\n",
       "basic.6y                3.77\n",
       "basic.9y               10.51\n",
       "university.degree      49.99\n",
       "Name: schooling, dtype: float64"
      ]
     },
     "execution_count": 856,
     "metadata": {},
     "output_type": "execute_result"
    }
   ],
   "source": [
    "per('schooling', df_no_na)"
   ]
  },
  {
   "cell_type": "markdown",
   "metadata": {},
   "source": [
    "#### Univariate and Bi-variate Count Plots of 'schooling' variable"
   ]
  },
  {
   "cell_type": "code",
   "execution_count": 857,
   "metadata": {},
   "outputs": [
    {
     "data": {
      "image/png": "[encoded data removed]",
      "text/plain": [
       "<Figure size 720x576 with 1 Axes>"
      ]
     },
     "metadata": {
      "needs_background": "light"
     },
     "output_type": "display_data"
    }
   ],
   "source": [
    "countp('schooling', df_no_na)\n",
    "\n",
    "plt.xticks(rotation = 90)\n",
    "plt.xlabel(\"Education Qualification of Customers\")\n",
    "plt.ylabel(\"Frequency\")\n",
    "plt.title(\"Distribution of Education Qualification of Customers\")\n",
    "\n",
    "plt.show()"
   ]
  },
  {
   "cell_type": "code",
   "execution_count": 858,
   "metadata": {},
   "outputs": [
    {
     "data": {
      "image/png": "[encoded data removed]",
      "text/plain": [
       "<Figure size 720x576 with 1 Axes>"
      ]
     },
     "metadata": {
      "needs_background": "light"
     },
     "output_type": "display_data"
    }
   ],
   "source": [
    "countp_y('schooling', df_no_na)\n",
    "\n",
    "plt.xticks(rotation = 90)\n",
    "plt.xlabel(\"Education Qualification of Customers\")\n",
    "plt.ylabel(\"Frequency\")\n",
    "plt.title(\"Distribution of Education Qualification of Customers opted or not opted for TD\")\n",
    "\n",
    "plt.show()"
   ]
  },
  {
   "cell_type": "markdown",
   "metadata": {},
   "source": [
    "##### Customers holding an University Degree has opted for TD most than other classes of 'education' variable\n",
    "##### Number of Customers having Education Qualification of basic 9y and those having professional course are almost same, but more number of Professional Course holders have opted for TD while more number of Basic 9y Customers hadd declined the TD"
   ]
  },
  {
   "cell_type": "markdown",
   "metadata": {},
   "source": [
    "## Analysis of profession and its impact on the campaign’s success."
   ]
  },
  {
   "cell_type": "markdown",
   "metadata": {},
   "source": [
    "#### Counts and Percentages of each category of 'profession' variable"
   ]
  },
  {
   "cell_type": "code",
   "execution_count": 859,
   "metadata": {},
   "outputs": [
    {
     "name": "stdout",
     "output_type": "stream",
     "text": [
      "profession\n",
      "admin.           1688\n",
      "blue-collar      1485\n",
      "entrepreneur      250\n",
      "housemaid         173\n",
      "management        494\n",
      "retired           279\n",
      "self-employed     225\n",
      "services          651\n",
      "student           132\n",
      "technician       1087\n",
      "unemployed        159\n",
      "unknown            55\n",
      "Name: profession, dtype: int64\n",
      "\n",
      "unknown           0.82\n",
      "services          9.75\n",
      "unemployed        2.38\n",
      "entrepreneur      3.74\n",
      "blue-collar      22.24\n",
      "retired           4.18\n",
      "self-employed     3.37\n",
      "management        7.40\n",
      "technician       16.28\n",
      "student           1.98\n",
      "housemaid         2.59\n",
      "admin.           25.28\n",
      "Name: profession, dtype: float64\n"
     ]
    }
   ],
   "source": [
    "print(grpby('profession'))\n",
    "print('')\n",
    "print(per('profession', df_no_na))"
   ]
  },
  {
   "cell_type": "markdown",
   "metadata": {},
   "source": [
    "#### Univariate and Bi-variate Count Plots of 'profession' variable"
   ]
  },
  {
   "cell_type": "code",
   "execution_count": 860,
   "metadata": {},
   "outputs": [
    {
     "data": {
      "image/png": "[encoded data removed]",
      "text/plain": [
       "<Figure size 720x576 with 1 Axes>"
      ]
     },
     "metadata": {
      "needs_background": "light"
     },
     "output_type": "display_data"
    },
    {
     "data": {
      "image/png": "[encoded data removed]",
      "text/plain": [
       "<Figure size 720x576 with 1 Axes>"
      ]
     },
     "metadata": {
      "needs_background": "light"
     },
     "output_type": "display_data"
    }
   ],
   "source": [
    "countp('profession', df_no_na)\n",
    "plt.xticks(rotation = 90)\n",
    "plt.xticks(rotation = 90)\n",
    "plt.xlabel(\"Jobs of Customers\")\n",
    "plt.ylabel(\"Frequency\")\n",
    "plt.title(\"Distribution of Jobs of Customers\")\n",
    "\n",
    "countp_y('profession', df_no_na)\n",
    "plt.xticks(rotation = 90)\n",
    "plt.xticks(rotation = 90)\n",
    "plt.xlabel(\"Jobs of Customers\")\n",
    "plt.ylabel(\"Frequency\")\n",
    "plt.title(\"Distribution of Jobs of Customers opted or not opted for Term Deposit\")\n",
    "\n",
    "\n",
    "plt.show()"
   ]
  },
  {
   "cell_type": "markdown",
   "metadata": {},
   "source": [
    "##### From the above plot, it is evident that the customers who having job of admin have the highest rate of subscribing a term deposit. Also they are also the highest in not taking the Term Deposit. This is maybe because admin class constitute most of our data in job variable.\n",
    "\n",
    "##### From the Top 3 classes of 'job' variable, blue-collar class has more number of Customers not subscribing than technician class but techincian class has more number of Customers than blue-collar class"
   ]
  },
  {
   "cell_type": "markdown",
   "metadata": {},
   "source": [
    "# Analysis of Socio Economic Variables"
   ]
  },
  {
   "cell_type": "markdown",
   "metadata": {},
   "source": [
    "## Analysis of cons.price.idx and its impact on the campaign’s success."
   ]
  },
  {
   "cell_type": "code",
   "execution_count": 861,
   "metadata": {},
   "outputs": [
    {
     "data": {
      "image/png": "[encoded data removed]",
      "text/plain": [
       "<Figure size 720x576 with 1 Axes>"
      ]
     },
     "metadata": {
      "needs_background": "light"
     },
     "output_type": "display_data"
    },
    {
     "data": {
      "image/png": "[encoded data removed]",
      "text/plain": [
       "<Figure size 720x576 with 1 Axes>"
      ]
     },
     "metadata": {
      "needs_background": "light"
     },
     "output_type": "display_data"
    }
   ],
   "source": [
    "box('cons.price.idx', df_no_na)\n",
    "\n",
    "plt.xlabel(\"Opted?\")\n",
    "plt.ylabel(\"Comsumer Price Index\")\n",
    "plt.title('Box Plot of Comsumer Price Index (Monthly)')\n",
    "\n",
    "\n",
    "dist('cons.price.idx', df_no_na)\n",
    "\n",
    "plt.xlabel(\"Comsumer Price Index\")\n",
    "plt.title('Distribution of Comsumer Price Index (Monthly)')\n",
    "\n",
    "plt.show()"
   ]
  },
  {
   "cell_type": "markdown",
   "metadata": {},
   "source": [
    "## Analysis of cons.conf.idx and its impact on the campaign’s success."
   ]
  },
  {
   "cell_type": "code",
   "execution_count": 862,
   "metadata": {},
   "outputs": [
    {
     "data": {
      "image/png": "[encoded data removed]",
      "text/plain": [
       "<Figure size 720x576 with 1 Axes>"
      ]
     },
     "metadata": {
      "needs_background": "light"
     },
     "output_type": "display_data"
    },
    {
     "data": {
      "image/png": "[encoded data removed]",
      "text/plain": [
       "<Figure size 720x576 with 1 Axes>"
      ]
     },
     "metadata": {
      "needs_background": "light"
     },
     "output_type": "display_data"
    }
   ],
   "source": [
    "box('cons.conf.idx', df_no_na)\n",
    "\n",
    "plt.xlabel(\"Opted?\")\n",
    "plt.ylabel(\"Comsumer Price Index\")\n",
    "plt.title('Box Plot of Comsumer Price Index (Monthly)')\n",
    "dist('cons.price.idx', df_no_na)\n",
    "\n",
    "plt.xlabel(\"Comsumer Price Index\")\n",
    "plt.title('Distribution of Comsumer Price Index (Monthly)')\n",
    "\n",
    "plt.show()"
   ]
  },
  {
   "cell_type": "markdown",
   "metadata": {},
   "source": [
    "## Correlation Matrix of Variables"
   ]
  },
  {
   "cell_type": "code",
   "execution_count": 863,
   "metadata": {},
   "outputs": [
    {
     "data": {
      "image/png": "[encoded data removed]",
      "text/plain": [
       "<Figure size 720x432 with 2 Axes>"
      ]
     },
     "metadata": {
      "needs_background": "light"
     },
     "output_type": "display_data"
    }
   ],
   "source": [
    "plt.figure(figsize = (10,6))\n",
    "sns.heatmap(df_no_na.corr(), annot = True, cmap = 'YlOrBr')\n",
    "\n",
    "plt.title(\"Correlation Matrix of Categorical Variables\")\n",
    "\n",
    "plt.show()"
   ]
  },
  {
   "cell_type": "markdown",
   "metadata": {},
   "source": [
    "##### Socio Economic Variables are pretty correlated with each others"
   ]
  },
  {
   "cell_type": "markdown",
   "metadata": {},
   "source": [
    "# EDA Conclusions"
   ]
  },
  {
   "cell_type": "markdown",
   "metadata": {},
   "source": [
    "1. Most of the Customers opted for TD were Married beacuase most of the Customers taken into consideration were Married.\n",
    "    * Suggestion - Thus, Bank can introduce offers and schemes for Students and Divorced Customers to achieve success.\n",
    "2. From the Top 3 classes of 'job' variable, blue-collar class has more number of Customers not subscribing to TD than technician class but techincian class has more number of Customers opting for TD than blue-collar class.\n",
    "    * Suggestion Bank can introduce offers to Students, as Student class shown a positive response among those contacted.\n",
    "3. Number of Customers having Education Qualification of basic 9y and professional course are almost same, but more number of Professional Course holders have opted for TD while more number of Basic 9y Customers hadd declined the TD.\n",
    "    * Suggestion - Bank cna work upon Basic 9y Education Customers to increase the succes rate. Also, can work upon the High School Customers as they show poor performance for opting TD in comparision to total number of High School Customers\n",
    "4. People having Personal Loan did not shown much interest in TD, while Customers not having any Personal Loan shown a good response.\n",
    "    * Suggestion - Bank can introduce better deposit options like Monthly or Bi-weekly so that Loan Holders can spend on Term Deposit\n",
    "5. People having Credit Default did not opted for Term Deposit as they would have instead paid their Loan\n",
    "\n",
    "6. Most of the people were having age in range of 30 to 40."
   ]
  },
  {
   "cell_type": "markdown",
   "metadata": {},
   "source": [
    "## Outlier Analysis for Numeric Variables"
   ]
  },
  {
   "cell_type": "markdown",
   "metadata": {},
   "source": [
    "#### Defining function for distplots"
   ]
  },
  {
   "cell_type": "code",
   "execution_count": 864,
   "metadata": {},
   "outputs": [],
   "source": [
    "def dist(data, x):\n",
    "    return sns.distplot(data[x])"
   ]
  },
  {
   "cell_type": "markdown",
   "metadata": {},
   "source": [
    "#### Outlier Analysis of custAge"
   ]
  },
  {
   "cell_type": "code",
   "execution_count": 865,
   "metadata": {},
   "outputs": [],
   "source": [
    "# Interquartile range, IQR = Q3 - Q1\n",
    "# lower 1.5*IQR whisker = Q1 - 1.5 * IQR \n",
    "# Upper 1.5*IQR whisker = Q3 + 1.5 * IQR"
   ]
  },
  {
   "cell_type": "code",
   "execution_count": 866,
   "metadata": {},
   "outputs": [
    {
     "name": "stdout",
     "output_type": "stream",
     "text": [
      "Q1:  34.0\n",
      "Q2:  40.02466047176555\n",
      "Q3:  44.0\n"
     ]
    }
   ],
   "source": [
    "#Age\n",
    "\n",
    "print('Q1: ', df_no_na['custAge'].quantile(q = 0.25))\n",
    "print('Q2: ', df_no_na['custAge'].quantile(q = 0.50))\n",
    "print('Q3: ', df_no_na['custAge'].quantile(q = 0.75))"
   ]
  },
  {
   "cell_type": "code",
   "execution_count": 867,
   "metadata": {},
   "outputs": [],
   "source": [
    "q3_age = df_no_na['custAge'].quantile(q = 0.75)\n",
    "q1_age = df_no_na['custAge'].quantile(q = 0.25)\n",
    "\n",
    "iqr = q3_age - q1_age\n",
    "\n",
    "out_up = q3_age + (1.5*iqr)\n",
    "out_low = q1_age - (1.5*iqr)\n",
    "\n",
    "df_no_ot = df_no_na[(df_no_na['custAge'] > out_low) & (df_no_na['custAge'] < out_up)]"
   ]
  },
  {
   "cell_type": "markdown",
   "metadata": {},
   "source": [
    "##### Creating Bins for custAge"
   ]
  },
  {
   "cell_type": "code",
   "execution_count": 868,
   "metadata": {},
   "outputs": [
    {
     "data": {
      "text/html": [
       "<div>\n",
       "<style scoped>\n",
       "    .dataframe tbody tr th:only-of-type {\n",
       "        vertical-align: middle;\n",
       "    }\n",
       "\n",
       "    .dataframe tbody tr th {\n",
       "        vertical-align: top;\n",
       "    }\n",
       "\n",
       "    .dataframe thead th {\n",
       "        text-align: right;\n",
       "    }\n",
       "</style>\n",
       "<table border=\"1\" class=\"dataframe\">\n",
       "  <thead>\n",
       "    <tr style=\"text-align: right;\">\n",
       "      <th></th>\n",
       "      <th>custAge</th>\n",
       "      <th>profession</th>\n",
       "      <th>marital</th>\n",
       "      <th>schooling</th>\n",
       "      <th>default</th>\n",
       "      <th>housing</th>\n",
       "      <th>loan</th>\n",
       "      <th>contact</th>\n",
       "      <th>month</th>\n",
       "      <th>day_of_week</th>\n",
       "      <th>campaign</th>\n",
       "      <th>pdays</th>\n",
       "      <th>previous</th>\n",
       "      <th>poutcome</th>\n",
       "      <th>emp.var.rate</th>\n",
       "      <th>cons.price.idx</th>\n",
       "      <th>cons.conf.idx</th>\n",
       "      <th>euribor3m</th>\n",
       "      <th>nr.employed</th>\n",
       "      <th>responded</th>\n",
       "    </tr>\n",
       "  </thead>\n",
       "  <tbody>\n",
       "    <tr>\n",
       "      <th>0</th>\n",
       "      <td>3.0</td>\n",
       "      <td>admin.</td>\n",
       "      <td>single</td>\n",
       "      <td>university.degree</td>\n",
       "      <td>unknown</td>\n",
       "      <td>no</td>\n",
       "      <td>no</td>\n",
       "      <td>cellular</td>\n",
       "      <td>nov</td>\n",
       "      <td>mon</td>\n",
       "      <td>1</td>\n",
       "      <td>999</td>\n",
       "      <td>0</td>\n",
       "      <td>nonexistent</td>\n",
       "      <td>-0.1</td>\n",
       "      <td>93.200</td>\n",
       "      <td>-42.0</td>\n",
       "      <td>4.191</td>\n",
       "      <td>5195.8</td>\n",
       "      <td>no</td>\n",
       "    </tr>\n",
       "    <tr>\n",
       "      <th>1</th>\n",
       "      <td>2.0</td>\n",
       "      <td>blue-collar</td>\n",
       "      <td>married</td>\n",
       "      <td>university.degree</td>\n",
       "      <td>no</td>\n",
       "      <td>no</td>\n",
       "      <td>no</td>\n",
       "      <td>cellular</td>\n",
       "      <td>jul</td>\n",
       "      <td>mon</td>\n",
       "      <td>1</td>\n",
       "      <td>999</td>\n",
       "      <td>0</td>\n",
       "      <td>nonexistent</td>\n",
       "      <td>1.4</td>\n",
       "      <td>93.918</td>\n",
       "      <td>-42.7</td>\n",
       "      <td>4.960</td>\n",
       "      <td>5228.1</td>\n",
       "      <td>no</td>\n",
       "    </tr>\n",
       "    <tr>\n",
       "      <th>2</th>\n",
       "      <td>2.0</td>\n",
       "      <td>technician</td>\n",
       "      <td>married</td>\n",
       "      <td>high.school</td>\n",
       "      <td>no</td>\n",
       "      <td>no</td>\n",
       "      <td>no</td>\n",
       "      <td>telephone</td>\n",
       "      <td>may</td>\n",
       "      <td>mon</td>\n",
       "      <td>1</td>\n",
       "      <td>999</td>\n",
       "      <td>0</td>\n",
       "      <td>nonexistent</td>\n",
       "      <td>1.1</td>\n",
       "      <td>93.994</td>\n",
       "      <td>-36.4</td>\n",
       "      <td>4.857</td>\n",
       "      <td>5191.0</td>\n",
       "      <td>no</td>\n",
       "    </tr>\n",
       "    <tr>\n",
       "      <th>3</th>\n",
       "      <td>3.0</td>\n",
       "      <td>management</td>\n",
       "      <td>divorced</td>\n",
       "      <td>university.degree</td>\n",
       "      <td>unknown</td>\n",
       "      <td>yes</td>\n",
       "      <td>yes</td>\n",
       "      <td>cellular</td>\n",
       "      <td>jul</td>\n",
       "      <td>wed</td>\n",
       "      <td>2</td>\n",
       "      <td>999</td>\n",
       "      <td>0</td>\n",
       "      <td>nonexistent</td>\n",
       "      <td>1.4</td>\n",
       "      <td>93.918</td>\n",
       "      <td>-42.7</td>\n",
       "      <td>4.962</td>\n",
       "      <td>5228.1</td>\n",
       "      <td>no</td>\n",
       "    </tr>\n",
       "    <tr>\n",
       "      <th>4</th>\n",
       "      <td>2.0</td>\n",
       "      <td>admin.</td>\n",
       "      <td>divorced</td>\n",
       "      <td>university.degree</td>\n",
       "      <td>no</td>\n",
       "      <td>yes</td>\n",
       "      <td>no</td>\n",
       "      <td>cellular</td>\n",
       "      <td>may</td>\n",
       "      <td>tue</td>\n",
       "      <td>5</td>\n",
       "      <td>999</td>\n",
       "      <td>1</td>\n",
       "      <td>failure</td>\n",
       "      <td>-1.8</td>\n",
       "      <td>92.893</td>\n",
       "      <td>-46.2</td>\n",
       "      <td>1.291</td>\n",
       "      <td>5099.1</td>\n",
       "      <td>no</td>\n",
       "    </tr>\n",
       "    <tr>\n",
       "      <th>...</th>\n",
       "      <td>...</td>\n",
       "      <td>...</td>\n",
       "      <td>...</td>\n",
       "      <td>...</td>\n",
       "      <td>...</td>\n",
       "      <td>...</td>\n",
       "      <td>...</td>\n",
       "      <td>...</td>\n",
       "      <td>...</td>\n",
       "      <td>...</td>\n",
       "      <td>...</td>\n",
       "      <td>...</td>\n",
       "      <td>...</td>\n",
       "      <td>...</td>\n",
       "      <td>...</td>\n",
       "      <td>...</td>\n",
       "      <td>...</td>\n",
       "      <td>...</td>\n",
       "      <td>...</td>\n",
       "      <td>...</td>\n",
       "    </tr>\n",
       "    <tr>\n",
       "      <th>7409</th>\n",
       "      <td>2.0</td>\n",
       "      <td>blue-collar</td>\n",
       "      <td>single</td>\n",
       "      <td>high.school</td>\n",
       "      <td>no</td>\n",
       "      <td>no</td>\n",
       "      <td>no</td>\n",
       "      <td>telephone</td>\n",
       "      <td>may</td>\n",
       "      <td>wed</td>\n",
       "      <td>3</td>\n",
       "      <td>999</td>\n",
       "      <td>0</td>\n",
       "      <td>nonexistent</td>\n",
       "      <td>1.1</td>\n",
       "      <td>93.994</td>\n",
       "      <td>-36.4</td>\n",
       "      <td>4.859</td>\n",
       "      <td>5191.0</td>\n",
       "      <td>no</td>\n",
       "    </tr>\n",
       "    <tr>\n",
       "      <th>7410</th>\n",
       "      <td>2.0</td>\n",
       "      <td>blue-collar</td>\n",
       "      <td>married</td>\n",
       "      <td>basic.4y</td>\n",
       "      <td>unknown</td>\n",
       "      <td>no</td>\n",
       "      <td>no</td>\n",
       "      <td>telephone</td>\n",
       "      <td>jul</td>\n",
       "      <td>tue</td>\n",
       "      <td>3</td>\n",
       "      <td>999</td>\n",
       "      <td>0</td>\n",
       "      <td>nonexistent</td>\n",
       "      <td>1.4</td>\n",
       "      <td>93.918</td>\n",
       "      <td>-42.7</td>\n",
       "      <td>4.961</td>\n",
       "      <td>5228.1</td>\n",
       "      <td>no</td>\n",
       "    </tr>\n",
       "    <tr>\n",
       "      <th>7411</th>\n",
       "      <td>1.0</td>\n",
       "      <td>blue-collar</td>\n",
       "      <td>single</td>\n",
       "      <td>university.degree</td>\n",
       "      <td>no</td>\n",
       "      <td>no</td>\n",
       "      <td>no</td>\n",
       "      <td>cellular</td>\n",
       "      <td>may</td>\n",
       "      <td>fri</td>\n",
       "      <td>2</td>\n",
       "      <td>999</td>\n",
       "      <td>1</td>\n",
       "      <td>failure</td>\n",
       "      <td>-1.8</td>\n",
       "      <td>92.893</td>\n",
       "      <td>-46.2</td>\n",
       "      <td>1.250</td>\n",
       "      <td>5099.1</td>\n",
       "      <td>no</td>\n",
       "    </tr>\n",
       "    <tr>\n",
       "      <th>7412</th>\n",
       "      <td>3.0</td>\n",
       "      <td>unemployed</td>\n",
       "      <td>divorced</td>\n",
       "      <td>high.school</td>\n",
       "      <td>unknown</td>\n",
       "      <td>yes</td>\n",
       "      <td>no</td>\n",
       "      <td>cellular</td>\n",
       "      <td>nov</td>\n",
       "      <td>thu</td>\n",
       "      <td>2</td>\n",
       "      <td>999</td>\n",
       "      <td>0</td>\n",
       "      <td>nonexistent</td>\n",
       "      <td>-0.1</td>\n",
       "      <td>93.200</td>\n",
       "      <td>-42.0</td>\n",
       "      <td>4.076</td>\n",
       "      <td>5195.8</td>\n",
       "      <td>no</td>\n",
       "    </tr>\n",
       "    <tr>\n",
       "      <th>7413</th>\n",
       "      <td>2.0</td>\n",
       "      <td>blue-collar</td>\n",
       "      <td>married</td>\n",
       "      <td>high.school</td>\n",
       "      <td>no</td>\n",
       "      <td>yes</td>\n",
       "      <td>no</td>\n",
       "      <td>telephone</td>\n",
       "      <td>may</td>\n",
       "      <td>fri</td>\n",
       "      <td>1</td>\n",
       "      <td>999</td>\n",
       "      <td>0</td>\n",
       "      <td>nonexistent</td>\n",
       "      <td>1.1</td>\n",
       "      <td>93.994</td>\n",
       "      <td>-36.4</td>\n",
       "      <td>4.864</td>\n",
       "      <td>5191.0</td>\n",
       "      <td>no</td>\n",
       "    </tr>\n",
       "  </tbody>\n",
       "</table>\n",
       "<p>6452 rows × 20 columns</p>\n",
       "</div>"
      ],
      "text/plain": [
       "      custAge   profession   marital          schooling  default housing loan  \\\n",
       "0         3.0       admin.    single  university.degree  unknown      no   no   \n",
       "1         2.0  blue-collar   married  university.degree       no      no   no   \n",
       "2         2.0   technician   married        high.school       no      no   no   \n",
       "3         3.0   management  divorced  university.degree  unknown     yes  yes   \n",
       "4         2.0       admin.  divorced  university.degree       no     yes   no   \n",
       "...       ...          ...       ...                ...      ...     ...  ...   \n",
       "7409      2.0  blue-collar    single        high.school       no      no   no   \n",
       "7410      2.0  blue-collar   married           basic.4y  unknown      no   no   \n",
       "7411      1.0  blue-collar    single  university.degree       no      no   no   \n",
       "7412      3.0   unemployed  divorced        high.school  unknown     yes   no   \n",
       "7413      2.0  blue-collar   married        high.school       no     yes   no   \n",
       "\n",
       "        contact month day_of_week  campaign  pdays  previous     poutcome  \\\n",
       "0      cellular   nov         mon         1    999         0  nonexistent   \n",
       "1      cellular   jul         mon         1    999         0  nonexistent   \n",
       "2     telephone   may         mon         1    999         0  nonexistent   \n",
       "3      cellular   jul         wed         2    999         0  nonexistent   \n",
       "4      cellular   may         tue         5    999         1      failure   \n",
       "...         ...   ...         ...       ...    ...       ...          ...   \n",
       "7409  telephone   may         wed         3    999         0  nonexistent   \n",
       "7410  telephone   jul         tue         3    999         0  nonexistent   \n",
       "7411   cellular   may         fri         2    999         1      failure   \n",
       "7412   cellular   nov         thu         2    999         0  nonexistent   \n",
       "7413  telephone   may         fri         1    999         0  nonexistent   \n",
       "\n",
       "      emp.var.rate  cons.price.idx  cons.conf.idx  euribor3m  nr.employed  \\\n",
       "0             -0.1          93.200          -42.0      4.191       5195.8   \n",
       "1              1.4          93.918          -42.7      4.960       5228.1   \n",
       "2              1.1          93.994          -36.4      4.857       5191.0   \n",
       "3              1.4          93.918          -42.7      4.962       5228.1   \n",
       "4             -1.8          92.893          -46.2      1.291       5099.1   \n",
       "...            ...             ...            ...        ...          ...   \n",
       "7409           1.1          93.994          -36.4      4.859       5191.0   \n",
       "7410           1.4          93.918          -42.7      4.961       5228.1   \n",
       "7411          -1.8          92.893          -46.2      1.250       5099.1   \n",
       "7412          -0.1          93.200          -42.0      4.076       5195.8   \n",
       "7413           1.1          93.994          -36.4      4.864       5191.0   \n",
       "\n",
       "     responded  \n",
       "0           no  \n",
       "1           no  \n",
       "2           no  \n",
       "3           no  \n",
       "4           no  \n",
       "...        ...  \n",
       "7409        no  \n",
       "7410        no  \n",
       "7411        no  \n",
       "7412        no  \n",
       "7413        no  \n",
       "\n",
       "[6452 rows x 20 columns]"
      ]
     },
     "execution_count": 868,
     "metadata": {},
     "output_type": "execute_result"
    }
   ],
   "source": [
    "def age(dataframe):\n",
    "    dataframe.loc[dataframe['custAge'] <= 32, 'custAge'] = 1\n",
    "    dataframe.loc[(dataframe['custAge'] > 32) & (dataframe['custAge'] <= 47), 'custAge'] = 2\n",
    "    dataframe.loc[(dataframe['custAge'] > 47) & (dataframe['custAge'] <= 70), 'custAge'] = 3\n",
    "    dataframe.loc[(dataframe['custAge'] > 70) & (dataframe['custAge'] <= 98), 'custAge'] = 4\n",
    "           \n",
    "    return dataframe\n",
    "\n",
    "age(df_no_ot)"
   ]
  },
  {
   "cell_type": "code",
   "execution_count": 869,
   "metadata": {},
   "outputs": [
    {
     "data": {
      "text/plain": [
       "<AxesSubplot:xlabel='custAge', ylabel='Density'>"
      ]
     },
     "execution_count": 869,
     "metadata": {},
     "output_type": "execute_result"
    },
    {
     "data": {
      "image/png": "[encoded data removed]",
      "text/plain": [
       "<Figure size 432x288 with 1 Axes>"
      ]
     },
     "metadata": {
      "needs_background": "light"
     },
     "output_type": "display_data"
    }
   ],
   "source": [
    "dist(df_no_ot, 'custAge')"
   ]
  },
  {
   "cell_type": "markdown",
   "metadata": {},
   "source": [
    "#### Outlier Analysis of pdays"
   ]
  },
  {
   "cell_type": "code",
   "execution_count": 870,
   "metadata": {},
   "outputs": [
    {
     "name": "stdout",
     "output_type": "stream",
     "text": [
      "pdays\n",
      "0         2\n",
      "1         3\n",
      "2        12\n",
      "3        76\n",
      "4        20\n",
      "5         7\n",
      "6        80\n",
      "7        13\n",
      "8         3\n",
      "9        14\n",
      "10        7\n",
      "11        3\n",
      "12       10\n",
      "13        5\n",
      "14        3\n",
      "15        4\n",
      "16        2\n",
      "17        2\n",
      "21        1\n",
      "22        1\n",
      "999    6410\n",
      "Name: pdays, dtype: int64\n",
      "\n",
      "0       0.03\n",
      "4       0.25\n",
      "8       0.05\n",
      "12      0.14\n",
      "16      0.03\n",
      "1       0.05\n",
      "5       0.09\n",
      "9       0.15\n",
      "13      0.06\n",
      "17      0.03\n",
      "2       0.17\n",
      "6       1.08\n",
      "10      0.09\n",
      "14      0.05\n",
      "22      0.02\n",
      "3       0.98\n",
      "7       0.19\n",
      "11      0.05\n",
      "15      0.06\n",
      "999    96.44\n",
      "Name: pdays, dtype: float64\n"
     ]
    }
   ],
   "source": [
    "print(grpby('pdays'))\n",
    "print('')\n",
    "print(per('pdays', df_no_ot))"
   ]
  },
  {
   "cell_type": "markdown",
   "metadata": {},
   "source": [
    "##### Since, 96% of the records has pdays = 999 which is an absurd amount, thus removing the column as it may bias the model"
   ]
  },
  {
   "cell_type": "code",
   "execution_count": 871,
   "metadata": {},
   "outputs": [
    {
     "data": {
      "image/png": "[encoded data removed]",
      "text/plain": [
       "<Figure size 432x288 with 1 Axes>"
      ]
     },
     "metadata": {
      "needs_background": "light"
     },
     "output_type": "display_data"
    }
   ],
   "source": [
    "sns.distplot(df_no_ot['pdays']);"
   ]
  },
  {
   "cell_type": "code",
   "execution_count": 872,
   "metadata": {},
   "outputs": [],
   "source": [
    "df_no_ot_2 = df_no_ot.drop('pdays', axis = 1)"
   ]
  },
  {
   "cell_type": "markdown",
   "metadata": {},
   "source": [
    "#### Outlier Analysis of 'previous'"
   ]
  },
  {
   "cell_type": "code",
   "execution_count": 873,
   "metadata": {},
   "outputs": [
    {
     "data": {
      "text/plain": [
       "<AxesSubplot:xlabel='previous', ylabel='Density'>"
      ]
     },
     "execution_count": 873,
     "metadata": {},
     "output_type": "execute_result"
    },
    {
     "data": {
      "image/png": "[encoded data removed]",
      "text/plain": [
       "<Figure size 432x288 with 1 Axes>"
      ]
     },
     "metadata": {
      "needs_background": "light"
     },
     "output_type": "display_data"
    }
   ],
   "source": [
    "dist(df_no_ot_2, 'previous')"
   ]
  },
  {
   "cell_type": "code",
   "execution_count": 874,
   "metadata": {},
   "outputs": [
    {
     "data": {
      "text/plain": [
       "0    86.00\n",
       "4     0.12\n",
       "1    11.47\n",
       "5     0.09\n",
       "2     1.84\n",
       "3     0.46\n",
       "Name: previous, dtype: float64"
      ]
     },
     "execution_count": 874,
     "metadata": {},
     "output_type": "execute_result"
    }
   ],
   "source": [
    "per('previous', df_no_ot_2)"
   ]
  },
  {
   "cell_type": "markdown",
   "metadata": {},
   "source": [
    "##### Since, category '0' of this column has 86% of values, thus removing the column as it may create bias to the model"
   ]
  },
  {
   "cell_type": "code",
   "execution_count": 875,
   "metadata": {},
   "outputs": [],
   "source": [
    "df_no_ot_3 = df_no_ot_2.drop('previous', axis = 1)"
   ]
  },
  {
   "cell_type": "markdown",
   "metadata": {},
   "source": [
    "# Label Encoding"
   ]
  },
  {
   "cell_type": "code",
   "execution_count": 876,
   "metadata": {},
   "outputs": [],
   "source": [
    "from sklearn.preprocessing import LabelEncoder\n",
    "\n",
    "labelencoder_X = LabelEncoder()\n",
    "\n",
    "df_no_ot_3['profession']      = labelencoder_X.fit_transform(df_no_ot_3['profession']) \n",
    "df_no_ot_3['marital']  = labelencoder_X.fit_transform(df_no_ot_3['marital']) \n",
    "df_no_ot_3['schooling']= labelencoder_X.fit_transform(df_no_ot_3['schooling']) \n",
    "df_no_ot_3['default']  = labelencoder_X.fit_transform(df_no_ot_3['default']) \n",
    "df_no_ot_3['housing']  = labelencoder_X.fit_transform(df_no_ot_3['housing']) \n",
    "df_no_ot_3['loan']     = labelencoder_X.fit_transform(df_no_ot_3['loan']) \n",
    "df_no_ot_3['contact']     = labelencoder_X.fit_transform(df_no_ot_3['contact']) \n",
    "df_no_ot_3['month']       = labelencoder_X.fit_transform(df_no_ot_3['month']) \n",
    "df_no_ot_3['day_of_week'] = labelencoder_X.fit_transform(df_no_ot_3['day_of_week']) \n",
    "df_no_ot_3['poutcome'] = labelencoder_X.fit_transform(df_no_ot_3['poutcome'])"
   ]
  },
  {
   "cell_type": "markdown",
   "metadata": {},
   "source": [
    "# Specifying Inputs and Outputs"
   ]
  },
  {
   "cell_type": "code",
   "execution_count": 877,
   "metadata": {},
   "outputs": [],
   "source": [
    "df_final = df_no_ot_3.copy()"
   ]
  },
  {
   "cell_type": "code",
   "execution_count": 878,
   "metadata": {},
   "outputs": [],
   "source": [
    "df_final['responded'] = df_final['responded'].map({'yes': 1, 'no':0})"
   ]
  },
  {
   "cell_type": "code",
   "execution_count": 879,
   "metadata": {},
   "outputs": [],
   "source": [
    "inp = df_final.iloc[: , :-1]"
   ]
  },
  {
   "cell_type": "code",
   "execution_count": 880,
   "metadata": {},
   "outputs": [],
   "source": [
    "y = df_final['responded']"
   ]
  },
  {
   "cell_type": "markdown",
   "metadata": {},
   "source": [
    "# Train - Test Split to Data"
   ]
  },
  {
   "cell_type": "code",
   "execution_count": 881,
   "metadata": {},
   "outputs": [],
   "source": [
    "from sklearn.model_selection import train_test_split\n",
    "\n",
    "x_train, x_test, y_train, y_test = train_test_split(inp, y, train_size = 0.8, random_state = 42)"
   ]
  },
  {
   "cell_type": "markdown",
   "metadata": {},
   "source": [
    "# Scaling the Data"
   ]
  },
  {
   "cell_type": "code",
   "execution_count": 882,
   "metadata": {},
   "outputs": [],
   "source": [
    "from sklearn.preprocessing import StandardScaler\n",
    "\n",
    "scaler = StandardScaler()\n",
    "\n",
    "x_train_sc = scaler.fit_transform(x_train)\n",
    "x_test_sc = scaler.transform(x_test)"
   ]
  },
  {
   "cell_type": "markdown",
   "metadata": {},
   "source": [
    "# Model Building (Without Sampling the Data)"
   ]
  },
  {
   "cell_type": "markdown",
   "metadata": {},
   "source": [
    "## 1. Logistic Regression"
   ]
  },
  {
   "cell_type": "code",
   "execution_count": 883,
   "metadata": {},
   "outputs": [],
   "source": [
    "from sklearn.linear_model import LogisticRegression"
   ]
  },
  {
   "cell_type": "code",
   "execution_count": 884,
   "metadata": {},
   "outputs": [],
   "source": [
    "log_reg = LogisticRegression(max_iter = 250)"
   ]
  },
  {
   "cell_type": "code",
   "execution_count": 885,
   "metadata": {},
   "outputs": [
    {
     "data": {
      "text/plain": [
       "LogisticRegression(max_iter=250)"
      ]
     },
     "execution_count": 885,
     "metadata": {},
     "output_type": "execute_result"
    }
   ],
   "source": [
    "log_reg.fit(x_train_sc, y_train)"
   ]
  },
  {
   "cell_type": "code",
   "execution_count": 886,
   "metadata": {},
   "outputs": [],
   "source": [
    "y_pred = log_reg.predict(x_test_sc)"
   ]
  },
  {
   "cell_type": "code",
   "execution_count": 887,
   "metadata": {},
   "outputs": [],
   "source": [
    "from sklearn import metrics\n",
    "from sklearn.model_selection import cross_val_score"
   ]
  },
  {
   "cell_type": "code",
   "execution_count": 888,
   "metadata": {},
   "outputs": [],
   "source": [
    "def confusion_matrix(actuals, predicted):\n",
    "    cm = metrics.confusion_matrix(actuals, predicted, [1,0])\n",
    "    sns.heatmap(cm, annot = True, fmt = '.2f', xticklabels = ['yes', 'no'], yticklabels = ['yes', 'no'])\n",
    "\n",
    "    plt.ylabel(\"Actual Labels\")\n",
    "    plt.xlabel(\"Predicted Labels\")\n",
    "\n",
    "    plt.show()"
   ]
  },
  {
   "cell_type": "code",
   "execution_count": 889,
   "metadata": {},
   "outputs": [
    {
     "data": {
      "image/png": "[encoded data removed]",
      "text/plain": [
       "<Figure size 432x288 with 2 Axes>"
      ]
     },
     "metadata": {
      "needs_background": "light"
     },
     "output_type": "display_data"
    }
   ],
   "source": [
    "confusion_matrix(y_test, y_pred)"
   ]
  },
  {
   "cell_type": "code",
   "execution_count": 890,
   "metadata": {},
   "outputs": [
    {
     "name": "stdout",
     "output_type": "stream",
     "text": [
      "              precision    recall  f1-score   support\n",
      "\n",
      "           0       0.93      0.98      0.95      1168\n",
      "           1       0.63      0.26      0.37       123\n",
      "\n",
      "    accuracy                           0.91      1291\n",
      "   macro avg       0.78      0.62      0.66      1291\n",
      "weighted avg       0.90      0.91      0.90      1291\n",
      "\n"
     ]
    }
   ],
   "source": [
    "print(metrics.classification_report(y_test, y_pred))"
   ]
  },
  {
   "cell_type": "code",
   "execution_count": 891,
   "metadata": {},
   "outputs": [],
   "source": [
    "log_reg_Acc = metrics.accuracy_score(y_test, log_reg.predict(x_test_sc))\n",
    "log_reg_P = metrics.precision_score(y_test, log_reg.predict(x_test_sc))\n",
    "log_reg_R = metrics.recall_score(y_test, log_reg.predict(x_test_sc))"
   ]
  },
  {
   "cell_type": "markdown",
   "metadata": {},
   "source": [
    "## KNN Classifier"
   ]
  },
  {
   "cell_type": "code",
   "execution_count": 892,
   "metadata": {},
   "outputs": [],
   "source": [
    "from sklearn.neighbors import KNeighborsClassifier\n",
    "\n",
    "knn = KNeighborsClassifier(n_neighbors=22)\n",
    "\n",
    "knn.fit(x_train_sc, y_train)\n",
    "knnpred = knn.predict(x_test_sc)"
   ]
  },
  {
   "cell_type": "code",
   "execution_count": 893,
   "metadata": {},
   "outputs": [
    {
     "data": {
      "image/png": "[encoded data removed]",
      "text/plain": [
       "<Figure size 432x288 with 2 Axes>"
      ]
     },
     "metadata": {
      "needs_background": "light"
     },
     "output_type": "display_data"
    }
   ],
   "source": [
    "confusion_matrix(y_test, knnpred)"
   ]
  },
  {
   "cell_type": "code",
   "execution_count": 894,
   "metadata": {},
   "outputs": [
    {
     "name": "stdout",
     "output_type": "stream",
     "text": [
      "              precision    recall  f1-score   support\n",
      "\n",
      "           0       0.92      0.98      0.95      1168\n",
      "           1       0.55      0.18      0.27       123\n",
      "\n",
      "    accuracy                           0.91      1291\n",
      "   macro avg       0.73      0.58      0.61      1291\n",
      "weighted avg       0.88      0.91      0.89      1291\n",
      "\n"
     ]
    }
   ],
   "source": [
    "print(metrics.classification_report(y_test, knnpred))"
   ]
  },
  {
   "cell_type": "code",
   "execution_count": 895,
   "metadata": {},
   "outputs": [],
   "source": [
    "knn_Acc = metrics.accuracy_score(y_test, knn.predict(x_test_sc))\n",
    "knn_P = metrics.precision_score(y_test, knn.predict(x_test_sc))\n",
    "knn_R = metrics.recall_score(y_test, knn.predict(x_test_sc))"
   ]
  },
  {
   "cell_type": "code",
   "execution_count": null,
   "metadata": {},
   "outputs": [],
   "source": []
  },
  {
   "cell_type": "code",
   "execution_count": 896,
   "metadata": {},
   "outputs": [],
   "source": [
    "from sklearn.model_selection import KFold"
   ]
  },
  {
   "cell_type": "code",
   "execution_count": 897,
   "metadata": {},
   "outputs": [],
   "source": [
    "k_fold = KFold(n_splits=10, shuffle=True, random_state=0)"
   ]
  },
  {
   "cell_type": "code",
   "execution_count": 898,
   "metadata": {},
   "outputs": [
    {
     "data": {
      "text/plain": [
       "0.9025381224416356"
      ]
     },
     "execution_count": 898,
     "metadata": {},
     "output_type": "execute_result"
    }
   ],
   "source": [
    "KNNCV = (cross_val_score(knn, x_train_sc, y_train, cv=k_fold, n_jobs=1, scoring = 'accuracy').mean())\n",
    "KNNCV"
   ]
  },
  {
   "cell_type": "markdown",
   "metadata": {},
   "source": [
    "## 3. Decision Tree Classifier"
   ]
  },
  {
   "cell_type": "code",
   "execution_count": 899,
   "metadata": {},
   "outputs": [],
   "source": [
    "# Decision Tree"
   ]
  },
  {
   "cell_type": "code",
   "execution_count": 900,
   "metadata": {},
   "outputs": [],
   "source": [
    "from sklearn.tree import DecisionTreeClassifier"
   ]
  },
  {
   "cell_type": "code",
   "execution_count": 901,
   "metadata": {},
   "outputs": [
    {
     "data": {
      "text/plain": [
       "DecisionTreeClassifier()"
      ]
     },
     "execution_count": 901,
     "metadata": {},
     "output_type": "execute_result"
    }
   ],
   "source": [
    "dtree = DecisionTreeClassifier(criterion='gini')\n",
    "dtree.fit(x_train_sc, y_train)"
   ]
  },
  {
   "cell_type": "code",
   "execution_count": 902,
   "metadata": {},
   "outputs": [],
   "source": [
    "dtreepred = dtree.predict(x_test_sc)"
   ]
  },
  {
   "cell_type": "code",
   "execution_count": 903,
   "metadata": {},
   "outputs": [
    {
     "data": {
      "image/png": "[encoded data removed]",
      "text/plain": [
       "<Figure size 432x288 with 2 Axes>"
      ]
     },
     "metadata": {
      "needs_background": "light"
     },
     "output_type": "display_data"
    }
   ],
   "source": [
    "confusion_matrix(y_test, dtreepred)"
   ]
  },
  {
   "cell_type": "code",
   "execution_count": 904,
   "metadata": {},
   "outputs": [
    {
     "name": "stdout",
     "output_type": "stream",
     "text": [
      "              precision    recall  f1-score   support\n",
      "\n",
      "           0       0.93      0.89      0.91      1168\n",
      "           1       0.27      0.38      0.32       123\n",
      "\n",
      "    accuracy                           0.84      1291\n",
      "   macro avg       0.60      0.64      0.61      1291\n",
      "weighted avg       0.87      0.84      0.86      1291\n",
      "\n"
     ]
    }
   ],
   "source": [
    "print(metrics.classification_report(y_test, dtree_pred))"
   ]
  },
  {
   "cell_type": "code",
   "execution_count": 905,
   "metadata": {},
   "outputs": [],
   "source": [
    "dtree_Acc = metrics.accuracy_score(y_test, dtree.predict(x_test_sc))\n",
    "dtree_P = metrics.precision_score(y_test, dtree.predict(x_test_sc))\n",
    "dtree_R = metrics.recall_score(y_test, dtree.predict(x_test_sc))"
   ]
  },
  {
   "cell_type": "code",
   "execution_count": 906,
   "metadata": {},
   "outputs": [
    {
     "data": {
      "text/plain": [
       "0.832209902088675"
      ]
     },
     "execution_count": 906,
     "metadata": {},
     "output_type": "execute_result"
    }
   ],
   "source": [
    "DTREECV = (cross_val_score(dtree, x_train, y_train, cv=k_fold, n_jobs=1, scoring = 'accuracy').mean())\n",
    "DTREECV"
   ]
  },
  {
   "cell_type": "markdown",
   "metadata": {},
   "source": [
    "## ROC - AuC Analysis for Used Classification Models (Without Sampling)"
   ]
  },
  {
   "cell_type": "code",
   "execution_count": 907,
   "metadata": {},
   "outputs": [
    {
     "data": {
      "image/png": "[encoded data removed]",
      "text/plain": [
       "<Figure size 1440x432 with 3 Axes>"
      ]
     },
     "metadata": {
      "needs_background": "light"
     },
     "output_type": "display_data"
    }
   ],
   "source": [
    "from sklearn.metrics import roc_auc_score\n",
    "from sklearn.metrics import roc_curve\n",
    "\n",
    "fig, ax_arr = plt.subplots(nrows = 1, ncols = 3, figsize = (20,6))\n",
    "\n",
    "#LOGMODEL\n",
    "probs = log_reg.predict_proba(x_test_sc)\n",
    "preds = probs[:,1]\n",
    "fprlog, tprlog, thresholdlog = metrics.roc_curve(y_test, preds)\n",
    "roc_auclog = metrics.auc(fprlog, tprlog)\n",
    "\n",
    "ax_arr[0].plot(fprlog, tprlog, 'b', label = 'AUC = %0.2f' % roc_auclog)\n",
    "ax_arr[0].plot([0, 1], [0, 1],'r--')\n",
    "ax_arr[0].set_title('Receiver Operating Characteristic Logistic ',fontsize=10)\n",
    "ax_arr[0].set_ylabel('True Positive Rate',fontsize=20)\n",
    "ax_arr[0].set_xlabel('False Positive Rate',fontsize=15)\n",
    "ax_arr[0].legend(loc = 'lower right', prop={'size': 16})\n",
    "\n",
    "probs = knn.predict_proba(x_test_sc)\n",
    "preds = probs[:,1]\n",
    "fprknn, tprknn, thresholdknn = metrics.roc_curve(y_test, preds)\n",
    "roc_aucknn = metrics.auc(fprknn, tprknn)\n",
    "\n",
    "ax_arr[1].plot(fprknn, tprknn, 'b', label = 'AUC = %0.2f' % roc_aucknn)\n",
    "ax_arr[1].plot([0, 1], [0, 1],'r--')\n",
    "ax_arr[1].set_title('Receiver Operating Characteristic KNN ',fontsize=10)\n",
    "ax_arr[1].set_ylabel('True Positive Rate',fontsize=20)\n",
    "ax_arr[1].set_xlabel('False Positive Rate',fontsize=15)\n",
    "ax_arr[1].legend(loc = 'lower right', prop={'size': 16})\n",
    "\n",
    "#DECISION TREE ---------------------\n",
    "probs = dtree.predict_proba(x_test_sc)\n",
    "preds = probs[:,1]\n",
    "fprdtree, tprdtree, thresholddtree = metrics.roc_curve(y_test, preds)\n",
    "roc_aucdtree = metrics.auc(fprdtree, tprdtree)\n",
    "\n",
    "ax_arr[2].plot(fprdtree, tprdtree, 'b', label = 'AUC = %0.2f' % roc_aucdtree)\n",
    "ax_arr[2].plot([0, 1], [0, 1],'r--')\n",
    "ax_arr[2].set_title('Receiver Operating Characteristic Decision Tree ',fontsize=10)\n",
    "ax_arr[2].set_ylabel('True Positive Rate',fontsize=20)\n",
    "ax_arr[2].set_xlabel('False Positive Rate',fontsize=15)\n",
    "ax_arr[2].legend(loc = 'lower right', prop={'size': 16})\n",
    "\n",
    "plt.show()"
   ]
  },
  {
   "cell_type": "markdown",
   "metadata": {},
   "source": [
    "# Performance Metrics Summary for Used Models (without Sampling)"
   ]
  },
  {
   "cell_type": "code",
   "execution_count": 908,
   "metadata": {},
   "outputs": [
    {
     "data": {
      "text/html": [
       "<div>\n",
       "<style scoped>\n",
       "    .dataframe tbody tr th:only-of-type {\n",
       "        vertical-align: middle;\n",
       "    }\n",
       "\n",
       "    .dataframe tbody tr th {\n",
       "        vertical-align: top;\n",
       "    }\n",
       "\n",
       "    .dataframe thead th {\n",
       "        text-align: right;\n",
       "    }\n",
       "</style>\n",
       "<table border=\"1\" class=\"dataframe\">\n",
       "  <thead>\n",
       "    <tr style=\"text-align: right;\">\n",
       "      <th></th>\n",
       "      <th>Models</th>\n",
       "      <th>Precision Score</th>\n",
       "      <th>Accuracy Score</th>\n",
       "      <th>Recall Score</th>\n",
       "      <th>ROC-AuC</th>\n",
       "    </tr>\n",
       "  </thead>\n",
       "  <tbody>\n",
       "    <tr>\n",
       "      <th>0</th>\n",
       "      <td>Logistic Regressor</td>\n",
       "      <td>0.627451</td>\n",
       "      <td>0.914795</td>\n",
       "      <td>0.260163</td>\n",
       "      <td>0.822983</td>\n",
       "    </tr>\n",
       "    <tr>\n",
       "      <th>1</th>\n",
       "      <td>KNN-Classifier</td>\n",
       "      <td>0.550000</td>\n",
       "      <td>0.907823</td>\n",
       "      <td>0.178862</td>\n",
       "      <td>0.797667</td>\n",
       "    </tr>\n",
       "    <tr>\n",
       "      <th>2</th>\n",
       "      <td>Decision Tree Classifier</td>\n",
       "      <td>0.247059</td>\n",
       "      <td>0.838110</td>\n",
       "      <td>0.341463</td>\n",
       "      <td>0.611990</td>\n",
       "    </tr>\n",
       "  </tbody>\n",
       "</table>\n",
       "</div>"
      ],
      "text/plain": [
       "                     Models  Precision Score  Accuracy Score  Recall Score  \\\n",
       "0        Logistic Regressor         0.627451        0.914795      0.260163   \n",
       "1            KNN-Classifier         0.550000        0.907823      0.178862   \n",
       "2  Decision Tree Classifier         0.247059        0.838110      0.341463   \n",
       "\n",
       "    ROC-AuC  \n",
       "0  0.822983  \n",
       "1  0.797667  \n",
       "2  0.611990  "
      ]
     },
     "execution_count": 908,
     "metadata": {},
     "output_type": "execute_result"
    }
   ],
   "source": [
    "models = pd.DataFrame({\n",
    "                'Models': ['Logistic Regressor', 'KNN-Classifier', 'Decision Tree Classifier'],\n",
    "                'Precision Score':  [log_reg_P, knn_P, dtree_P],\n",
    "                'Accuracy Score': [log_reg_Acc, knn_Acc, dtree_Acc],\n",
    "                'Recall Score': [log_reg_R, knn_R, dtree_R],\n",
    "                'ROC-AuC': [roc_auclog, roc_aucknn, roc_aucdtree]\n",
    "})\n",
    "\n",
    "models.sort_values(by='ROC-AuC', ascending = False).reset_index(drop = True)"
   ]
  },
  {
   "cell_type": "markdown",
   "metadata": {},
   "source": [
    "# Upsampling the Data"
   ]
  },
  {
   "cell_type": "code",
   "execution_count": 909,
   "metadata": {},
   "outputs": [],
   "source": [
    "from sklearn.utils import resample\n",
    "from imblearn.over_sampling import SMOTE"
   ]
  },
  {
   "cell_type": "code",
   "execution_count": 910,
   "metadata": {},
   "outputs": [],
   "source": [
    "sm = SMOTE(random_state=12)\n",
    "x_train_sm, y_train_sm = sm.fit_resample(x_train_sc, y_train)"
   ]
  },
  {
   "cell_type": "markdown",
   "metadata": {},
   "source": [
    "# Model Building (With Sampling the Data)"
   ]
  },
  {
   "cell_type": "markdown",
   "metadata": {},
   "source": [
    "## 1. Logistic Regression"
   ]
  },
  {
   "cell_type": "code",
   "execution_count": 911,
   "metadata": {},
   "outputs": [],
   "source": [
    "log_reg_sm = LogisticRegression(max_iter=5000)"
   ]
  },
  {
   "cell_type": "code",
   "execution_count": 912,
   "metadata": {},
   "outputs": [
    {
     "data": {
      "text/plain": [
       "LogisticRegression(max_iter=5000)"
      ]
     },
     "execution_count": 912,
     "metadata": {},
     "output_type": "execute_result"
    }
   ],
   "source": [
    "log_reg_sm.fit(x_train_sm,y_train_sm)"
   ]
  },
  {
   "cell_type": "code",
   "execution_count": 913,
   "metadata": {},
   "outputs": [
    {
     "name": "stdout",
     "output_type": "stream",
     "text": [
      "              precision    recall  f1-score   support\n",
      "\n",
      "           0       0.96      0.80      0.88      1168\n",
      "           1       0.28      0.72      0.40       123\n",
      "\n",
      "    accuracy                           0.79      1291\n",
      "   macro avg       0.62      0.76      0.64      1291\n",
      "weighted avg       0.90      0.79      0.83      1291\n",
      "\n"
     ]
    }
   ],
   "source": [
    "print(metrics.classification_report(y_test,log_reg_sm.predict(x_test_sc)))"
   ]
  },
  {
   "cell_type": "code",
   "execution_count": 914,
   "metadata": {},
   "outputs": [
    {
     "data": {
      "image/png": "[encoded data removed]",
      "text/plain": [
       "<Figure size 432x288 with 2 Axes>"
      ]
     },
     "metadata": {
      "needs_background": "light"
     },
     "output_type": "display_data"
    }
   ],
   "source": [
    "confusion_matrix(y_test, log_reg_sm.predict(x_test_sc))"
   ]
  },
  {
   "cell_type": "code",
   "execution_count": 915,
   "metadata": {},
   "outputs": [],
   "source": [
    "log_reg_sm_Acc = metrics.accuracy_score(y_test, log_reg_sm.predict(x_test_sc))\n",
    "log_reg_sm_P = metrics.precision_score(y_test, log_reg_sm.predict(x_test_sc))\n",
    "log_reg_sm_R = metrics.recall_score(y_test, log_reg_sm.predict(x_test_sc))"
   ]
  },
  {
   "cell_type": "markdown",
   "metadata": {},
   "source": [
    "## 2. KNN - Classifier"
   ]
  },
  {
   "cell_type": "code",
   "execution_count": 916,
   "metadata": {},
   "outputs": [],
   "source": [
    "knn_sm = KNeighborsClassifier(n_neighbors=22)"
   ]
  },
  {
   "cell_type": "code",
   "execution_count": 917,
   "metadata": {},
   "outputs": [
    {
     "data": {
      "text/plain": [
       "KNeighborsClassifier(n_neighbors=22)"
      ]
     },
     "execution_count": 917,
     "metadata": {},
     "output_type": "execute_result"
    }
   ],
   "source": [
    "knn_sm.fit(x_train_sm, y_train_sm)"
   ]
  },
  {
   "cell_type": "code",
   "execution_count": 918,
   "metadata": {},
   "outputs": [
    {
     "name": "stdout",
     "output_type": "stream",
     "text": [
      "              precision    recall  f1-score   support\n",
      "\n",
      "           0       0.96      0.69      0.81      1168\n",
      "           1       0.20      0.75      0.32       123\n",
      "\n",
      "    accuracy                           0.70      1291\n",
      "   macro avg       0.58      0.72      0.56      1291\n",
      "weighted avg       0.89      0.70      0.76      1291\n",
      "\n"
     ]
    }
   ],
   "source": [
    "print(metrics.classification_report(y_test, knn_sm.predict(x_test_sc)))"
   ]
  },
  {
   "cell_type": "code",
   "execution_count": 919,
   "metadata": {},
   "outputs": [
    {
     "data": {
      "image/png": "[encoded data removed]",
      "text/plain": [
       "<Figure size 432x288 with 2 Axes>"
      ]
     },
     "metadata": {
      "needs_background": "light"
     },
     "output_type": "display_data"
    }
   ],
   "source": [
    "confusion_matrix(y_test, knn_sm.predict(x_test_sc))"
   ]
  },
  {
   "cell_type": "code",
   "execution_count": 920,
   "metadata": {},
   "outputs": [],
   "source": [
    "KNN_sm_Acc = metrics.accuracy_score(y_test, knn_sm.predict(x_test_sc))\n",
    "KNN_sm_P = metrics.precision_score(y_test, knn_sm.predict(x_test_sc))\n",
    "KNN_sm_R = metrics.recall_score(y_test, knn_sm.predict(x_test_sc))"
   ]
  },
  {
   "cell_type": "markdown",
   "metadata": {},
   "source": [
    "## 3. Deicsion Tree Classifier"
   ]
  },
  {
   "cell_type": "code",
   "execution_count": 921,
   "metadata": {},
   "outputs": [],
   "source": [
    "dtree_sm = DecisionTreeClassifier(criterion='gini')"
   ]
  },
  {
   "cell_type": "code",
   "execution_count": 922,
   "metadata": {},
   "outputs": [
    {
     "data": {
      "text/plain": [
       "DecisionTreeClassifier()"
      ]
     },
     "execution_count": 922,
     "metadata": {},
     "output_type": "execute_result"
    }
   ],
   "source": [
    "dtree_sm.fit(x_train_sm, y_train_sm)"
   ]
  },
  {
   "cell_type": "code",
   "execution_count": 923,
   "metadata": {},
   "outputs": [
    {
     "name": "stdout",
     "output_type": "stream",
     "text": [
      "              precision    recall  f1-score   support\n",
      "\n",
      "           0       0.93      0.88      0.91      1168\n",
      "           1       0.26      0.40      0.32       123\n",
      "\n",
      "    accuracy                           0.84      1291\n",
      "   macro avg       0.60      0.64      0.61      1291\n",
      "weighted avg       0.87      0.84      0.85      1291\n",
      "\n"
     ]
    }
   ],
   "source": [
    "print(metrics.classification_report(y_test, dtree_sm.predict(x_test_sc)))"
   ]
  },
  {
   "cell_type": "code",
   "execution_count": 924,
   "metadata": {},
   "outputs": [
    {
     "data": {
      "image/png": "[encoded data removed]",
      "text/plain": [
       "<Figure size 432x288 with 2 Axes>"
      ]
     },
     "metadata": {
      "needs_background": "light"
     },
     "output_type": "display_data"
    }
   ],
   "source": [
    "confusion_matrix(y_test, dtree_sm.predict(x_test_sc))"
   ]
  },
  {
   "cell_type": "code",
   "execution_count": 925,
   "metadata": {},
   "outputs": [],
   "source": [
    "dtree_sm_Acc = metrics.accuracy_score(y_test,dtree_sm.predict(x_test_sc))\n",
    "dtree_sm_P = metrics.precision_score(y_test,dtree_sm.predict(x_test_sc))\n",
    "dtree_sm_R = metrics.recall_score(y_test,dtree_sm.predict(x_test_sc))"
   ]
  },
  {
   "cell_type": "markdown",
   "metadata": {},
   "source": [
    "## ROC - AuC Analysis for Used Classification Models (Sampled Data)"
   ]
  },
  {
   "cell_type": "code",
   "execution_count": 926,
   "metadata": {},
   "outputs": [
    {
     "data": {
      "image/png": "[encoded data removed]",
      "text/plain": [
       "<Figure size 1440x432 with 3 Axes>"
      ]
     },
     "metadata": {
      "needs_background": "light"
     },
     "output_type": "display_data"
    }
   ],
   "source": [
    "fig, ax_arr = plt.subplots(nrows = 1, ncols = 3, figsize = (20,6))\n",
    "\n",
    "#LOGMODEL\n",
    "probs = log_reg_sm.predict_proba(x_test_sc)\n",
    "preds = probs[:,1]\n",
    "fprlog, tprlog, thresholdlog = metrics.roc_curve(y_test, preds)\n",
    "roc_auclog_sm = metrics.auc(fprlog, tprlog)\n",
    "\n",
    "ax_arr[0].plot(fprlog, tprlog, 'b', label = 'AUC = %0.2f' % roc_auclog_sm)\n",
    "ax_arr[0].plot([0, 1], [0, 1],'r--')\n",
    "ax_arr[0].set_title('Receiver Operating Characteristic Logistic ',fontsize=10)\n",
    "ax_arr[0].set_ylabel('True Positive Rate',fontsize=20)\n",
    "ax_arr[0].set_xlabel('False Positive Rate',fontsize=15)\n",
    "ax_arr[0].legend(loc = 'lower right', prop={'size': 16})\n",
    "\n",
    "probs = knn_sm.predict_proba(x_test_sc)\n",
    "preds = probs[:,1]\n",
    "fprknn, tprknn, thresholdknn = metrics.roc_curve(y_test, preds)\n",
    "roc_aucknn_sm = metrics.auc(fprknn, tprknn)\n",
    "\n",
    "ax_arr[1].plot(fprknn, tprknn, 'b', label = 'AUC = %0.2f' % roc_aucknn_sm)\n",
    "ax_arr[1].plot([0, 1], [0, 1],'r--')\n",
    "ax_arr[1].set_title('Receiver Operating Characteristic KNN ',fontsize=10)\n",
    "ax_arr[1].set_ylabel('True Positive Rate',fontsize=20)\n",
    "ax_arr[1].set_xlabel('False Positive Rate',fontsize=15)\n",
    "ax_arr[1].legend(loc = 'lower right', prop={'size': 16})\n",
    "\n",
    "#DECISION TREE ---------------------\n",
    "probs = dtree_sm.predict_proba(x_test_sc)\n",
    "preds = probs[:,1]\n",
    "fprdtree, tprdtree, thresholddtree = metrics.roc_curve(y_test, preds)\n",
    "roc_aucdtree_sm = metrics.auc(fprdtree, tprdtree)\n",
    "\n",
    "ax_arr[2].plot(fprdtree, tprdtree, 'b', label = 'AUC = %0.2f' % roc_aucdtree_sm)\n",
    "ax_arr[2].plot([0, 1], [0, 1],'r--')\n",
    "ax_arr[2].set_title('Receiver Operating Characteristic Decision Tree ',fontsize=10)\n",
    "ax_arr[2].set_ylabel('True Positive Rate',fontsize=20)\n",
    "ax_arr[2].set_xlabel('False Positive Rate',fontsize=15)\n",
    "ax_arr[2].legend(loc = 'lower right', prop={'size': 16})\n",
    "\n",
    "plt.show()"
   ]
  },
  {
   "cell_type": "markdown",
   "metadata": {},
   "source": [
    "# Performance Metrics Summary for Used Models (Sampled Data)"
   ]
  },
  {
   "cell_type": "code",
   "execution_count": 927,
   "metadata": {},
   "outputs": [
    {
     "data": {
      "text/html": [
       "<div>\n",
       "<style scoped>\n",
       "    .dataframe tbody tr th:only-of-type {\n",
       "        vertical-align: middle;\n",
       "    }\n",
       "\n",
       "    .dataframe tbody tr th {\n",
       "        vertical-align: top;\n",
       "    }\n",
       "\n",
       "    .dataframe thead th {\n",
       "        text-align: right;\n",
       "    }\n",
       "</style>\n",
       "<table border=\"1\" class=\"dataframe\">\n",
       "  <thead>\n",
       "    <tr style=\"text-align: right;\">\n",
       "      <th></th>\n",
       "      <th>Models</th>\n",
       "      <th>Precision Score (Up Sampled)</th>\n",
       "      <th>Accuracy Score (Up Sampled)</th>\n",
       "      <th>Recall Score (Up Sampled)</th>\n",
       "      <th>ROC-AuC (Up Sampled)</th>\n",
       "    </tr>\n",
       "  </thead>\n",
       "  <tbody>\n",
       "    <tr>\n",
       "      <th>0</th>\n",
       "      <td>Logistic Regressor</td>\n",
       "      <td>0.275862</td>\n",
       "      <td>0.793958</td>\n",
       "      <td>0.715447</td>\n",
       "      <td>0.824800</td>\n",
       "    </tr>\n",
       "    <tr>\n",
       "      <th>1</th>\n",
       "      <td>KNN-Classifier</td>\n",
       "      <td>0.203991</td>\n",
       "      <td>0.697909</td>\n",
       "      <td>0.747967</td>\n",
       "      <td>0.793748</td>\n",
       "    </tr>\n",
       "    <tr>\n",
       "      <th>2</th>\n",
       "      <td>Decision Tree Classifier</td>\n",
       "      <td>0.263441</td>\n",
       "      <td>0.836561</td>\n",
       "      <td>0.398374</td>\n",
       "      <td>0.637707</td>\n",
       "    </tr>\n",
       "  </tbody>\n",
       "</table>\n",
       "</div>"
      ],
      "text/plain": [
       "                     Models  Precision Score (Up Sampled)  \\\n",
       "0        Logistic Regressor                      0.275862   \n",
       "1            KNN-Classifier                      0.203991   \n",
       "2  Decision Tree Classifier                      0.263441   \n",
       "\n",
       "   Accuracy Score (Up Sampled)  Recall Score (Up Sampled)  \\\n",
       "0                     0.793958                   0.715447   \n",
       "1                     0.697909                   0.747967   \n",
       "2                     0.836561                   0.398374   \n",
       "\n",
       "   ROC-AuC (Up Sampled)  \n",
       "0              0.824800  \n",
       "1              0.793748  \n",
       "2              0.637707  "
      ]
     },
     "execution_count": 927,
     "metadata": {},
     "output_type": "execute_result"
    }
   ],
   "source": [
    "models_sm = pd.DataFrame({\n",
    "                'Models': ['Logistic Regressor', 'KNN-Classifier', 'Decision Tree Classifier'],\n",
    "                'Precision Score (Up Sampled)':  [log_reg_sm_P, KNN_sm_P, dtree_sm_P],\n",
    "                'Accuracy Score (Up Sampled)': [log_reg_sm_Acc, KNN_sm_Acc, dtree_sm_Acc],\n",
    "                'Recall Score (Up Sampled)': [log_reg_sm_R, KNN_sm_R, dtree_sm_R],\n",
    "                'ROC-AuC (Up Sampled)' : [roc_auclog_sm, roc_aucknn_sm, roc_aucdtree_sm]\n",
    "})\n",
    "\n",
    "models_sm.sort_values(by='ROC-AuC (Up Sampled)', ascending=False).reset_index(drop = True)"
   ]
  },
  {
   "cell_type": "code",
   "execution_count": 928,
   "metadata": {},
   "outputs": [
    {
     "data": {
      "text/html": [
       "<div>\n",
       "<style scoped>\n",
       "    .dataframe tbody tr th:only-of-type {\n",
       "        vertical-align: middle;\n",
       "    }\n",
       "\n",
       "    .dataframe tbody tr th {\n",
       "        vertical-align: top;\n",
       "    }\n",
       "\n",
       "    .dataframe thead th {\n",
       "        text-align: right;\n",
       "    }\n",
       "</style>\n",
       "<table border=\"1\" class=\"dataframe\">\n",
       "  <thead>\n",
       "    <tr style=\"text-align: right;\">\n",
       "      <th></th>\n",
       "      <th>Models</th>\n",
       "      <th>Precision Score</th>\n",
       "      <th>Accuracy Score</th>\n",
       "      <th>Recall Score</th>\n",
       "      <th>ROC-AuC</th>\n",
       "    </tr>\n",
       "  </thead>\n",
       "  <tbody>\n",
       "    <tr>\n",
       "      <th>0</th>\n",
       "      <td>Logistic Regressor</td>\n",
       "      <td>0.627451</td>\n",
       "      <td>0.914795</td>\n",
       "      <td>0.260163</td>\n",
       "      <td>0.822983</td>\n",
       "    </tr>\n",
       "    <tr>\n",
       "      <th>1</th>\n",
       "      <td>KNN-Classifier</td>\n",
       "      <td>0.550000</td>\n",
       "      <td>0.907823</td>\n",
       "      <td>0.178862</td>\n",
       "      <td>0.797667</td>\n",
       "    </tr>\n",
       "    <tr>\n",
       "      <th>2</th>\n",
       "      <td>Decision Tree Classifier</td>\n",
       "      <td>0.247059</td>\n",
       "      <td>0.838110</td>\n",
       "      <td>0.341463</td>\n",
       "      <td>0.611990</td>\n",
       "    </tr>\n",
       "  </tbody>\n",
       "</table>\n",
       "</div>"
      ],
      "text/plain": [
       "                     Models  Precision Score  Accuracy Score  Recall Score  \\\n",
       "0        Logistic Regressor         0.627451        0.914795      0.260163   \n",
       "1            KNN-Classifier         0.550000        0.907823      0.178862   \n",
       "2  Decision Tree Classifier         0.247059        0.838110      0.341463   \n",
       "\n",
       "    ROC-AuC  \n",
       "0  0.822983  \n",
       "1  0.797667  \n",
       "2  0.611990  "
      ]
     },
     "execution_count": 928,
     "metadata": {},
     "output_type": "execute_result"
    }
   ],
   "source": [
    "models.sort_values(by='ROC-AuC', ascending=False).reset_index(drop = True)"
   ]
  },
  {
   "cell_type": "markdown",
   "metadata": {},
   "source": [
    "# Predictive Analysis Conclusions"
   ]
  },
  {
   "cell_type": "markdown",
   "metadata": {},
   "source": [
    "- Thus, based on the Summary of Unsampled and Sampled data of 3 Models, Recall Score has been lifted up after up-sampling for Logistic Regression and KNN Classifier, but significant changes has been observed for DecisionTree Classifier\n",
    "\n",
    "- Before and After the Sampling, Decision Tree Classsifier metric are very less affected.\n",
    "\n",
    "- In the Outlier analysis, 'pdays' and 'previous' columsn are removed, adding these columsn may increase the metrics but need to handle those missing values or should request the new data.\n",
    "\n",
    "- Most of the rows of 'pdays' columns were having value '999' which is unclear what they represent. It might be NA or No to the 'pdays', thus the importance of the variable is not cleared.\n",
    "\n",
    "- In the column 'custAge', missing data has been imputed with Mean of 'custAge'. New Missing value treatment might improve the Model Performance Metrics.\n",
    "\n",
    "- Without sampling the data, The model was overfitted thus Sccuracy of finding '1s' was very less, thus applied Over sampling.\n",
    "\n",
    "- Can also perform Under sampling with the caution that Under Sampling might remove important information.\n",
    "\n",
    "- ROC-AuC score haven't shown significant change before and after smapling the data\n",
    "\n",
    "- Decision Tree Classifier has shown poor performance, thus can completely avoid it for the new data."
   ]
  }
 ],
 "metadata": {
  "kernelspec": {
   "display_name": "Python 3",
   "language": "python",
   "name": "python3"
  },
  "language_info": {
   "codemirror_mode": {
    "name": "ipython",
    "version": 3
   },
   "file_extension": ".py",
   "mimetype": "text/x-python",
   "name": "python",
   "nbconvert_exporter": "python",
   "pygments_lexer": "ipython3",
   "version": "3.8.5"
  }
 },
 "nbformat": 4,
 "nbformat_minor": 4
}
