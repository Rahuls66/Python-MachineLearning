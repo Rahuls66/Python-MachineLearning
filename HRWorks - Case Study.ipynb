{
 "cells": [
  {
   "cell_type": "code",
   "execution_count": 32,
   "metadata": {},
   "outputs": [],
   "source": [
    "import numpy as np\n",
    "import pandas as pd\n",
    "import matplotlib.pyplot as plt\n",
    "import seaborn as sns\n",
    "import warnings\n",
    "warnings.filterwarnings(\"ignore\")\n",
    "\n",
    "from sklearn.preprocessing import LabelEncoder\n",
    "from sklearn.preprocessing import StandardScaler\n",
    "from sklearn.model_selection import train_test_split\n",
    "from sklearn import metrics\n",
    "from sklearn.linear_model import LogisticRegression\n",
    "from sklearn.tree import DecisionTreeClassifier\n",
    "from sklearn.model_selection import GridSearchCV\n",
    "from sklearn.ensemble import RandomForestClassifier\n",
    "from sklearn.neighbors import KNeighborsClassifier\n",
    "\n",
    "from imblearn.over_sampling import SMOTE\n",
    "\n",
    "\n",
    "pd.set_option('display.float_format', lambda x: '%.5f' % x)"
   ]
  },
  {
   "cell_type": "code",
   "execution_count": 33,
   "metadata": {},
   "outputs": [],
   "source": [
    "df = pd.read_csv(\"hr_data.csv\")"
   ]
  },
  {
   "cell_type": "code",
   "execution_count": 34,
   "metadata": {},
   "outputs": [
    {
     "data": {
      "text/html": [
       "<div>\n",
       "<style scoped>\n",
       "    .dataframe tbody tr th:only-of-type {\n",
       "        vertical-align: middle;\n",
       "    }\n",
       "\n",
       "    .dataframe tbody tr th {\n",
       "        vertical-align: top;\n",
       "    }\n",
       "\n",
       "    .dataframe thead th {\n",
       "        text-align: right;\n",
       "    }\n",
       "</style>\n",
       "<table border=\"1\" class=\"dataframe\">\n",
       "  <thead>\n",
       "    <tr style=\"text-align: right;\">\n",
       "      <th></th>\n",
       "      <th>SLNO</th>\n",
       "      <th>Candidate Ref</th>\n",
       "      <th>DOJ Extended</th>\n",
       "      <th>Duration to accept offer</th>\n",
       "      <th>Notice period</th>\n",
       "      <th>Offered band</th>\n",
       "      <th>Pecent hike expected in CTC</th>\n",
       "      <th>Percent hike offered in CTC</th>\n",
       "      <th>Percent difference CTC</th>\n",
       "      <th>Joining Bonus</th>\n",
       "      <th>Candidate relocate actual</th>\n",
       "      <th>Gender</th>\n",
       "      <th>Candidate Source</th>\n",
       "      <th>Rex in Yrs</th>\n",
       "      <th>LOB</th>\n",
       "      <th>Location</th>\n",
       "      <th>Age</th>\n",
       "      <th>Status</th>\n",
       "    </tr>\n",
       "  </thead>\n",
       "  <tbody>\n",
       "    <tr>\n",
       "      <th>0</th>\n",
       "      <td>1</td>\n",
       "      <td>2110407</td>\n",
       "      <td>Yes</td>\n",
       "      <td>14</td>\n",
       "      <td>30</td>\n",
       "      <td>E2</td>\n",
       "      <td>-20.79000</td>\n",
       "      <td>13.16000</td>\n",
       "      <td>42.86000</td>\n",
       "      <td>No</td>\n",
       "      <td>No</td>\n",
       "      <td>Female</td>\n",
       "      <td>Agency</td>\n",
       "      <td>7</td>\n",
       "      <td>ERS</td>\n",
       "      <td>Noida</td>\n",
       "      <td>34.00000</td>\n",
       "      <td>Joined</td>\n",
       "    </tr>\n",
       "    <tr>\n",
       "      <th>1</th>\n",
       "      <td>2</td>\n",
       "      <td>2112635</td>\n",
       "      <td>No</td>\n",
       "      <td>18</td>\n",
       "      <td>30</td>\n",
       "      <td>E2</td>\n",
       "      <td>50.00000</td>\n",
       "      <td>320.00000</td>\n",
       "      <td>180.00000</td>\n",
       "      <td>No</td>\n",
       "      <td>No</td>\n",
       "      <td>Male</td>\n",
       "      <td>Employee Referral</td>\n",
       "      <td>8</td>\n",
       "      <td>INFRA</td>\n",
       "      <td>Chennai</td>\n",
       "      <td>34.00000</td>\n",
       "      <td>Joined</td>\n",
       "    </tr>\n",
       "    <tr>\n",
       "      <th>2</th>\n",
       "      <td>3</td>\n",
       "      <td>2112838</td>\n",
       "      <td>No</td>\n",
       "      <td>3</td>\n",
       "      <td>45</td>\n",
       "      <td>E2</td>\n",
       "      <td>42.84000</td>\n",
       "      <td>42.84000</td>\n",
       "      <td>0.00000</td>\n",
       "      <td>No</td>\n",
       "      <td>No</td>\n",
       "      <td>Male</td>\n",
       "      <td>Agency</td>\n",
       "      <td>4</td>\n",
       "      <td>INFRA</td>\n",
       "      <td>Noida</td>\n",
       "      <td>27.00000</td>\n",
       "      <td>Joined</td>\n",
       "    </tr>\n",
       "    <tr>\n",
       "      <th>3</th>\n",
       "      <td>4</td>\n",
       "      <td>2115021</td>\n",
       "      <td>No</td>\n",
       "      <td>26</td>\n",
       "      <td>30</td>\n",
       "      <td>E2</td>\n",
       "      <td>42.84000</td>\n",
       "      <td>42.84000</td>\n",
       "      <td>0.00000</td>\n",
       "      <td>No</td>\n",
       "      <td>No</td>\n",
       "      <td>Male</td>\n",
       "      <td>Employee Referral</td>\n",
       "      <td>4</td>\n",
       "      <td>INFRA</td>\n",
       "      <td>Noida</td>\n",
       "      <td>34.00000</td>\n",
       "      <td>Joined</td>\n",
       "    </tr>\n",
       "    <tr>\n",
       "      <th>4</th>\n",
       "      <td>5</td>\n",
       "      <td>2115125</td>\n",
       "      <td>Yes</td>\n",
       "      <td>1</td>\n",
       "      <td>120</td>\n",
       "      <td>E2</td>\n",
       "      <td>42.59000</td>\n",
       "      <td>42.59000</td>\n",
       "      <td>0.00000</td>\n",
       "      <td>No</td>\n",
       "      <td>Yes</td>\n",
       "      <td>Male</td>\n",
       "      <td>Employee Referral</td>\n",
       "      <td>6</td>\n",
       "      <td>INFRA</td>\n",
       "      <td>Noida</td>\n",
       "      <td>34.00000</td>\n",
       "      <td>Joined</td>\n",
       "    </tr>\n",
       "  </tbody>\n",
       "</table>\n",
       "</div>"
      ],
      "text/plain": [
       "   SLNO  Candidate Ref DOJ Extended  Duration to accept offer  Notice period  \\\n",
       "0     1        2110407          Yes                        14             30   \n",
       "1     2        2112635           No                        18             30   \n",
       "2     3        2112838           No                         3             45   \n",
       "3     4        2115021           No                        26             30   \n",
       "4     5        2115125          Yes                         1            120   \n",
       "\n",
       "  Offered band  Pecent hike expected in CTC  Percent hike offered in CTC  \\\n",
       "0           E2                    -20.79000                     13.16000   \n",
       "1           E2                     50.00000                    320.00000   \n",
       "2           E2                     42.84000                     42.84000   \n",
       "3           E2                     42.84000                     42.84000   \n",
       "4           E2                     42.59000                     42.59000   \n",
       "\n",
       "   Percent difference CTC Joining Bonus Candidate relocate actual  Gender  \\\n",
       "0                42.86000            No                        No  Female   \n",
       "1               180.00000            No                        No    Male   \n",
       "2                 0.00000            No                        No    Male   \n",
       "3                 0.00000            No                        No    Male   \n",
       "4                 0.00000            No                       Yes    Male   \n",
       "\n",
       "    Candidate Source  Rex in Yrs    LOB Location      Age  Status  \n",
       "0             Agency           7    ERS    Noida 34.00000  Joined  \n",
       "1  Employee Referral           8  INFRA  Chennai 34.00000  Joined  \n",
       "2             Agency           4  INFRA    Noida 27.00000  Joined  \n",
       "3  Employee Referral           4  INFRA    Noida 34.00000  Joined  \n",
       "4  Employee Referral           6  INFRA    Noida 34.00000  Joined  "
      ]
     },
     "execution_count": 34,
     "metadata": {},
     "output_type": "execute_result"
    }
   ],
   "source": [
    "df.head()"
   ]
  },
  {
   "cell_type": "code",
   "execution_count": 35,
   "metadata": {},
   "outputs": [
    {
     "data": {
      "text/plain": [
       "(8995, 18)"
      ]
     },
     "execution_count": 35,
     "metadata": {},
     "output_type": "execute_result"
    }
   ],
   "source": [
    "df.shape"
   ]
  },
  {
   "cell_type": "code",
   "execution_count": 36,
   "metadata": {},
   "outputs": [
    {
     "name": "stdout",
     "output_type": "stream",
     "text": [
      "<class 'pandas.core.frame.DataFrame'>\n",
      "RangeIndex: 8995 entries, 0 to 8994\n",
      "Data columns (total 18 columns):\n",
      " #   Column                       Non-Null Count  Dtype  \n",
      "---  ------                       --------------  -----  \n",
      " 0   SLNO                         8995 non-null   int64  \n",
      " 1   Candidate Ref                8995 non-null   int64  \n",
      " 2   DOJ Extended                 8995 non-null   object \n",
      " 3   Duration to accept offer     8995 non-null   int64  \n",
      " 4   Notice period                8995 non-null   int64  \n",
      " 5   Offered band                 8982 non-null   object \n",
      " 6   Pecent hike expected in CTC  8995 non-null   float64\n",
      " 7   Percent hike offered in CTC  8995 non-null   float64\n",
      " 8   Percent difference CTC       8995 non-null   float64\n",
      " 9   Joining Bonus                8995 non-null   object \n",
      " 10  Candidate relocate actual    8995 non-null   object \n",
      " 11  Gender                       8995 non-null   object \n",
      " 12  Candidate Source             8995 non-null   object \n",
      " 13  Rex in Yrs                   8995 non-null   int64  \n",
      " 14  LOB                          8995 non-null   object \n",
      " 15  Location                     8995 non-null   object \n",
      " 16  Age                          8980 non-null   float64\n",
      " 17  Status                       8995 non-null   object \n",
      "dtypes: float64(4), int64(5), object(9)\n",
      "memory usage: 1.2+ MB\n"
     ]
    }
   ],
   "source": [
    "df.info()"
   ]
  },
  {
   "cell_type": "markdown",
   "metadata": {},
   "source": [
    "## 1. Identify and define the problem statement clearly also mention why it is necessary for an organisation to solve the problem."
   ]
  },
  {
   "cell_type": "code",
   "execution_count": 37,
   "metadata": {},
   "outputs": [
    {
     "data": {
      "text/plain": [
       "Joined       81.30000\n",
       "Not Joined   18.70000\n",
       "Name: Status, dtype: float64"
      ]
     },
     "execution_count": 37,
     "metadata": {},
     "output_type": "execute_result"
    }
   ],
   "source": [
    "round(df.Status.value_counts()/df.shape[0]*100,2)"
   ]
  },
  {
   "cell_type": "code",
   "execution_count": 295,
   "metadata": {},
   "outputs": [
    {
     "data": {
      "image/png": "[encoded data removed]",
      "text/plain": [
       "<Figure size 576x360 with 1 Axes>"
      ]
     },
     "metadata": {
      "needs_background": "light"
     },
     "output_type": "display_data"
    }
   ],
   "source": [
    "plt.figure(figsize = (8,5));\n",
    "sns.countplot(df.Status, color='Orange')\n",
    "plt.title('Number of Candidates who Joined / Not Joined')\n",
    "plt.show()"
   ]
  },
  {
   "cell_type": "markdown",
   "metadata": {},
   "source": [
    "### The Problem Statement for this Case Study is:\n",
    "* Based on the Case Study description, 30% of the candidates who accept the job offer do not join the company.\n",
    "* When we check the Target column of our data, it is found that about 19% of candidates who accepted the job offer did not join the company.\n",
    "* This leads to a huge loss of time and money as HRWorks would get a commission from partner companies only after the successful onboarding of candidates.\n",
    "* This may be the reason that many companies require the candidates to fill the legal bond before joining the company so that candidates do not leave the company before the bond period, else, legal actions can be taken.\n",
    "* A solution needs to be found to minimize these losses as the losses may increase with the increase in candidates.\n",
    "* This can be done by primarily classifying the candidates based on their likelihood of joining using Machine Learning Classification Algorithms.\n",
    "* This will help HRWorks to prioritize candidates who are more likely to join the company. "
   ]
  },
  {
   "cell_type": "markdown",
   "metadata": {},
   "source": [
    "## 2. Define any hypothesis if possible."
   ]
  },
  {
   "cell_type": "markdown",
   "metadata": {},
   "source": [
    "* Based on the data give, A hypothesis test can be done to check if Gender and Location variables are dependent or independent of each other. Thus,\n",
    "    H0: Gender and Location Features are independent\n",
    "    H1: There is a dependency between Genger and Location Features\n",
    "    \n",
    "* We can apply Chi-Squared Test to check if the Null Hypothesis is true or not.\n",
    "* If p-value > 0.05, we will accept Null Hypothesis is True and Gender and Location Features are independent \n",
    "* Else, we failed to reject Null Hypothesis and accept that there is a dependency between Gender and Location Features."
   ]
  },
  {
   "cell_type": "markdown",
   "metadata": {},
   "source": [
    "## 3. Do the EDA of dataset and write the observation you got form the dataset?"
   ]
  },
  {
   "cell_type": "markdown",
   "metadata": {},
   "source": [
    "### Checking for NaN Values"
   ]
  },
  {
   "cell_type": "code",
   "execution_count": 40,
   "metadata": {},
   "outputs": [
    {
     "data": {
      "text/plain": [
       "SLNO                            0\n",
       "Candidate Ref                   0\n",
       "DOJ Extended                    0\n",
       "Duration to accept offer        0\n",
       "Notice period                   0\n",
       "Offered band                   13\n",
       "Pecent hike expected in CTC     0\n",
       "Percent hike offered in CTC     0\n",
       "Percent difference CTC          0\n",
       "Joining Bonus                   0\n",
       "Candidate relocate actual       0\n",
       "Gender                          0\n",
       "Candidate Source                0\n",
       "Rex in Yrs                      0\n",
       "LOB                             0\n",
       "Location                        0\n",
       "Age                            15\n",
       "Status                          0\n",
       "dtype: int64"
      ]
     },
     "execution_count": 40,
     "metadata": {},
     "output_type": "execute_result"
    }
   ],
   "source": [
    "df.isna().sum()"
   ]
  },
  {
   "cell_type": "code",
   "execution_count": 41,
   "metadata": {},
   "outputs": [],
   "source": [
    "df.dropna(inplace = True)"
   ]
  },
  {
   "cell_type": "markdown",
   "metadata": {},
   "source": [
    "A total of 28 rows are having NaN values which is very less in comparision to dataset. **THUS, REMOVING IT**"
   ]
  },
  {
   "cell_type": "markdown",
   "metadata": {},
   "source": [
    "### Checking for Duplicate Rows"
   ]
  },
  {
   "cell_type": "code",
   "execution_count": 44,
   "metadata": {},
   "outputs": [
    {
     "data": {
      "text/plain": [
       "0"
      ]
     },
     "execution_count": 44,
     "metadata": {},
     "output_type": "execute_result"
    }
   ],
   "source": [
    "df.duplicated().sum()"
   ]
  },
  {
   "cell_type": "markdown",
   "metadata": {},
   "source": [
    "**No Duplicated Rows Found**"
   ]
  },
  {
   "cell_type": "markdown",
   "metadata": {},
   "source": [
    "### Statistical Summary of Numeric Features"
   ]
  },
  {
   "cell_type": "code",
   "execution_count": 208,
   "metadata": {},
   "outputs": [
    {
     "data": {
      "text/html": [
       "<div>\n",
       "<style scoped>\n",
       "    .dataframe tbody tr th:only-of-type {\n",
       "        vertical-align: middle;\n",
       "    }\n",
       "\n",
       "    .dataframe tbody tr th {\n",
       "        vertical-align: top;\n",
       "    }\n",
       "\n",
       "    .dataframe thead th {\n",
       "        text-align: right;\n",
       "    }\n",
       "</style>\n",
       "<table border=\"1\" class=\"dataframe\">\n",
       "  <thead>\n",
       "    <tr style=\"text-align: right;\">\n",
       "      <th></th>\n",
       "      <th>count</th>\n",
       "      <th>mean</th>\n",
       "      <th>std</th>\n",
       "      <th>min</th>\n",
       "      <th>25%</th>\n",
       "      <th>50%</th>\n",
       "      <th>75%</th>\n",
       "      <th>max</th>\n",
       "    </tr>\n",
       "  </thead>\n",
       "  <tbody>\n",
       "    <tr>\n",
       "      <th>SLNO</th>\n",
       "      <td>8968.00000</td>\n",
       "      <td>5987.29996</td>\n",
       "      <td>3365.83981</td>\n",
       "      <td>1.00000</td>\n",
       "      <td>3229.75000</td>\n",
       "      <td>5993.50000</td>\n",
       "      <td>8750.25000</td>\n",
       "      <td>12333.00000</td>\n",
       "    </tr>\n",
       "    <tr>\n",
       "      <th>Candidate Ref</th>\n",
       "      <td>8968.00000</td>\n",
       "      <td>2844899.98941</td>\n",
       "      <td>485925.75349</td>\n",
       "      <td>2109586.00000</td>\n",
       "      <td>2386855.00000</td>\n",
       "      <td>2807607.50000</td>\n",
       "      <td>3300084.50000</td>\n",
       "      <td>3836076.00000</td>\n",
       "    </tr>\n",
       "    <tr>\n",
       "      <th>Duration to accept offer</th>\n",
       "      <td>8968.00000</td>\n",
       "      <td>21.42451</td>\n",
       "      <td>25.80554</td>\n",
       "      <td>0.00000</td>\n",
       "      <td>3.00000</td>\n",
       "      <td>10.00000</td>\n",
       "      <td>33.00000</td>\n",
       "      <td>224.00000</td>\n",
       "    </tr>\n",
       "    <tr>\n",
       "      <th>Notice period</th>\n",
       "      <td>8968.00000</td>\n",
       "      <td>39.30475</td>\n",
       "      <td>22.20388</td>\n",
       "      <td>0.00000</td>\n",
       "      <td>30.00000</td>\n",
       "      <td>30.00000</td>\n",
       "      <td>60.00000</td>\n",
       "      <td>120.00000</td>\n",
       "    </tr>\n",
       "    <tr>\n",
       "      <th>Pecent hike expected in CTC</th>\n",
       "      <td>8968.00000</td>\n",
       "      <td>43.92065</td>\n",
       "      <td>29.77074</td>\n",
       "      <td>-68.83000</td>\n",
       "      <td>27.30000</td>\n",
       "      <td>40.00000</td>\n",
       "      <td>53.85000</td>\n",
       "      <td>359.77000</td>\n",
       "    </tr>\n",
       "    <tr>\n",
       "      <th>Percent hike offered in CTC</th>\n",
       "      <td>8968.00000</td>\n",
       "      <td>40.67935</td>\n",
       "      <td>35.99452</td>\n",
       "      <td>-60.53000</td>\n",
       "      <td>22.22000</td>\n",
       "      <td>36.00000</td>\n",
       "      <td>50.00000</td>\n",
       "      <td>471.43000</td>\n",
       "    </tr>\n",
       "    <tr>\n",
       "      <th>Percent difference CTC</th>\n",
       "      <td>8968.00000</td>\n",
       "      <td>-1.60017</td>\n",
       "      <td>19.53567</td>\n",
       "      <td>-67.27000</td>\n",
       "      <td>-8.36750</td>\n",
       "      <td>0.00000</td>\n",
       "      <td>0.00000</td>\n",
       "      <td>300.00000</td>\n",
       "    </tr>\n",
       "    <tr>\n",
       "      <th>Rex in Yrs</th>\n",
       "      <td>8968.00000</td>\n",
       "      <td>4.23640</td>\n",
       "      <td>2.54608</td>\n",
       "      <td>0.00000</td>\n",
       "      <td>3.00000</td>\n",
       "      <td>4.00000</td>\n",
       "      <td>6.00000</td>\n",
       "      <td>24.00000</td>\n",
       "    </tr>\n",
       "    <tr>\n",
       "      <th>Age</th>\n",
       "      <td>8968.00000</td>\n",
       "      <td>29.91269</td>\n",
       "      <td>4.09724</td>\n",
       "      <td>20.00000</td>\n",
       "      <td>27.00000</td>\n",
       "      <td>29.00000</td>\n",
       "      <td>34.00000</td>\n",
       "      <td>60.00000</td>\n",
       "    </tr>\n",
       "  </tbody>\n",
       "</table>\n",
       "</div>"
      ],
      "text/plain": [
       "                                 count          mean          std  \\\n",
       "SLNO                        8968.00000    5987.29996   3365.83981   \n",
       "Candidate Ref               8968.00000 2844899.98941 485925.75349   \n",
       "Duration to accept offer    8968.00000      21.42451     25.80554   \n",
       "Notice period               8968.00000      39.30475     22.20388   \n",
       "Pecent hike expected in CTC 8968.00000      43.92065     29.77074   \n",
       "Percent hike offered in CTC 8968.00000      40.67935     35.99452   \n",
       "Percent difference CTC      8968.00000      -1.60017     19.53567   \n",
       "Rex in Yrs                  8968.00000       4.23640      2.54608   \n",
       "Age                         8968.00000      29.91269      4.09724   \n",
       "\n",
       "                                      min           25%           50%  \\\n",
       "SLNO                              1.00000    3229.75000    5993.50000   \n",
       "Candidate Ref               2109586.00000 2386855.00000 2807607.50000   \n",
       "Duration to accept offer          0.00000       3.00000      10.00000   \n",
       "Notice period                     0.00000      30.00000      30.00000   \n",
       "Pecent hike expected in CTC     -68.83000      27.30000      40.00000   \n",
       "Percent hike offered in CTC     -60.53000      22.22000      36.00000   \n",
       "Percent difference CTC          -67.27000      -8.36750       0.00000   \n",
       "Rex in Yrs                        0.00000       3.00000       4.00000   \n",
       "Age                              20.00000      27.00000      29.00000   \n",
       "\n",
       "                                      75%           max  \n",
       "SLNO                           8750.25000   12333.00000  \n",
       "Candidate Ref               3300084.50000 3836076.00000  \n",
       "Duration to accept offer         33.00000     224.00000  \n",
       "Notice period                    60.00000     120.00000  \n",
       "Pecent hike expected in CTC      53.85000     359.77000  \n",
       "Percent hike offered in CTC      50.00000     471.43000  \n",
       "Percent difference CTC            0.00000     300.00000  \n",
       "Rex in Yrs                        6.00000      24.00000  \n",
       "Age                              34.00000      60.00000  "
      ]
     },
     "execution_count": 208,
     "metadata": {},
     "output_type": "execute_result"
    }
   ],
   "source": [
    "df.describe().T"
   ]
  },
  {
   "cell_type": "markdown",
   "metadata": {},
   "source": [
    "### Statistical Summary of Categorical Features"
   ]
  },
  {
   "cell_type": "code",
   "execution_count": 46,
   "metadata": {},
   "outputs": [
    {
     "data": {
      "text/html": [
       "<div>\n",
       "<style scoped>\n",
       "    .dataframe tbody tr th:only-of-type {\n",
       "        vertical-align: middle;\n",
       "    }\n",
       "\n",
       "    .dataframe tbody tr th {\n",
       "        vertical-align: top;\n",
       "    }\n",
       "\n",
       "    .dataframe thead th {\n",
       "        text-align: right;\n",
       "    }\n",
       "</style>\n",
       "<table border=\"1\" class=\"dataframe\">\n",
       "  <thead>\n",
       "    <tr style=\"text-align: right;\">\n",
       "      <th></th>\n",
       "      <th>count</th>\n",
       "      <th>unique</th>\n",
       "      <th>top</th>\n",
       "      <th>freq</th>\n",
       "    </tr>\n",
       "  </thead>\n",
       "  <tbody>\n",
       "    <tr>\n",
       "      <th>DOJ Extended</th>\n",
       "      <td>8968</td>\n",
       "      <td>2</td>\n",
       "      <td>No</td>\n",
       "      <td>4775</td>\n",
       "    </tr>\n",
       "    <tr>\n",
       "      <th>Offered band</th>\n",
       "      <td>8968</td>\n",
       "      <td>4</td>\n",
       "      <td>E1</td>\n",
       "      <td>5558</td>\n",
       "    </tr>\n",
       "    <tr>\n",
       "      <th>Joining Bonus</th>\n",
       "      <td>8968</td>\n",
       "      <td>2</td>\n",
       "      <td>No</td>\n",
       "      <td>8552</td>\n",
       "    </tr>\n",
       "    <tr>\n",
       "      <th>Candidate relocate actual</th>\n",
       "      <td>8968</td>\n",
       "      <td>2</td>\n",
       "      <td>No</td>\n",
       "      <td>7682</td>\n",
       "    </tr>\n",
       "    <tr>\n",
       "      <th>Gender</th>\n",
       "      <td>8968</td>\n",
       "      <td>2</td>\n",
       "      <td>Male</td>\n",
       "      <td>7420</td>\n",
       "    </tr>\n",
       "    <tr>\n",
       "      <th>Candidate Source</th>\n",
       "      <td>8968</td>\n",
       "      <td>3</td>\n",
       "      <td>Direct</td>\n",
       "      <td>4791</td>\n",
       "    </tr>\n",
       "    <tr>\n",
       "      <th>LOB</th>\n",
       "      <td>8968</td>\n",
       "      <td>9</td>\n",
       "      <td>INFRA</td>\n",
       "      <td>2832</td>\n",
       "    </tr>\n",
       "    <tr>\n",
       "      <th>Location</th>\n",
       "      <td>8968</td>\n",
       "      <td>11</td>\n",
       "      <td>Chennai</td>\n",
       "      <td>3146</td>\n",
       "    </tr>\n",
       "    <tr>\n",
       "      <th>Status</th>\n",
       "      <td>8968</td>\n",
       "      <td>2</td>\n",
       "      <td>Joined</td>\n",
       "      <td>7290</td>\n",
       "    </tr>\n",
       "  </tbody>\n",
       "</table>\n",
       "</div>"
      ],
      "text/plain": [
       "                          count unique      top  freq\n",
       "DOJ Extended               8968      2       No  4775\n",
       "Offered band               8968      4       E1  5558\n",
       "Joining Bonus              8968      2       No  8552\n",
       "Candidate relocate actual  8968      2       No  7682\n",
       "Gender                     8968      2     Male  7420\n",
       "Candidate Source           8968      3   Direct  4791\n",
       "LOB                        8968      9    INFRA  2832\n",
       "Location                   8968     11  Chennai  3146\n",
       "Status                     8968      2   Joined  7290"
      ]
     },
     "execution_count": 46,
     "metadata": {},
     "output_type": "execute_result"
    }
   ],
   "source": [
    "df.describe(include = 'object').T"
   ]
  },
  {
   "cell_type": "markdown",
   "metadata": {},
   "source": [
    "### Primary Observations From Statistical Summary\n",
    "\n",
    "* Duration to accept offer has a maximum value of 224 days and a median of 30 days. This looks absurd as no company gives about 8 months to make the decision\n",
    "* This dataset has inexperienced to highly experienced candidates having experience of up to 24 years.\n",
    "* We also have younger to old candidates up to 60 years of age group as well\n",
    "* A candidate got a Percent hike in CTC of exceptional 471% which is more than 100% of what was expected. \n",
    "* Most of the candidates were having job offers in Chennai\n",
    "* Almost all of the candidates were not given a Joining bonus\n",
    "* Most of the candidates are Males\n",
    "* About 81% of the candidates in this dataset have joined the company."
   ]
  },
  {
   "cell_type": "markdown",
   "metadata": {},
   "source": [
    "### Univariate Analysis"
   ]
  },
  {
   "cell_type": "markdown",
   "metadata": {},
   "source": [
    "#### Defining Functions for Univariate Analysis"
   ]
  },
  {
   "cell_type": "markdown",
   "metadata": {},
   "source": [
    "###### Count Plot Function"
   ]
  },
  {
   "cell_type": "code",
   "execution_count": 401,
   "metadata": {},
   "outputs": [],
   "source": [
    "def countp(x):\n",
    "    plt.figure(figsize = (8,6))\n",
    "    sns.countplot(x = x, data = df, palette='YlOrRd')"
   ]
  },
  {
   "cell_type": "markdown",
   "metadata": {},
   "source": [
    "##### Count Function"
   ]
  },
  {
   "cell_type": "code",
   "execution_count": 311,
   "metadata": {},
   "outputs": [],
   "source": [
    "def count(col):\n",
    "    return df[col].value_counts()"
   ]
  },
  {
   "cell_type": "markdown",
   "metadata": {},
   "source": [
    "##### Count Plot Function with hue as Target Variable for Bivariate Analysis"
   ]
  },
  {
   "cell_type": "code",
   "execution_count": 403,
   "metadata": {},
   "outputs": [],
   "source": [
    "def countp_y(x):\n",
    "    plt.figure(figsize = (8,6))\n",
    "    sns.countplot(x = x, data = df, hue = 'Status', palette = 'Oranges_r')"
   ]
  },
  {
   "cell_type": "markdown",
   "metadata": {},
   "source": [
    "##### Count with each class of Target Variable"
   ]
  },
  {
   "cell_type": "code",
   "execution_count": 315,
   "metadata": {},
   "outputs": [],
   "source": [
    "def count_y(x):\n",
    "    return df.groupby([x, 'Status'])[x].count()"
   ]
  },
  {
   "cell_type": "markdown",
   "metadata": {},
   "source": [
    "### Analysis of 'Status'"
   ]
  },
  {
   "cell_type": "code",
   "execution_count": 402,
   "metadata": {},
   "outputs": [
    {
     "name": "stdout",
     "output_type": "stream",
     "text": [
      "Joined        7290\n",
      "Not Joined    1678\n",
      "Name: Status, dtype: int64\n"
     ]
    },
    {
     "data": {
      "image/png": "[encoded data removed]",
      "text/plain": [
       "<Figure size 576x432 with 1 Axes>"
      ]
     },
     "metadata": {
      "needs_background": "light"
     },
     "output_type": "display_data"
    }
   ],
   "source": [
    "print(count('Status'))\n",
    "\n",
    "\n",
    "countp('Status')\n",
    "plt.xlabel(\"Status\")\n",
    "plt.ylabel(\"Frequency\")\n",
    "plt.title(\"Status of Candidates\")\n",
    "plt.show()"
   ]
  },
  {
   "cell_type": "markdown",
   "metadata": {},
   "source": [
    "* Majority of the candidates from this data have joined the company which is a good sign.\n",
    "* This also leads to imbalance data which needs to be treated to avoid model producing biased results"
   ]
  },
  {
   "cell_type": "markdown",
   "metadata": {},
   "source": [
    "### Analysis of 'Gender'"
   ]
  },
  {
   "cell_type": "code",
   "execution_count": 404,
   "metadata": {},
   "outputs": [
    {
     "name": "stdout",
     "output_type": "stream",
     "text": [
      "Male      7420\n",
      "Female    1548\n",
      "Name: Gender, dtype: int64\n"
     ]
    },
    {
     "data": {
      "image/png": "[encoded data removed]",
      "text/plain": [
       "<Figure size 576x432 with 1 Axes>"
      ]
     },
     "metadata": {
      "needs_background": "light"
     },
     "output_type": "display_data"
    }
   ],
   "source": [
    "print(count('Gender'))\n",
    "\n",
    "countp('Gender')\n",
    "plt.xlabel(\"Gender of Candidates\")\n",
    "plt.show()"
   ]
  },
  {
   "cell_type": "code",
   "execution_count": 405,
   "metadata": {},
   "outputs": [
    {
     "name": "stdout",
     "output_type": "stream",
     "text": [
      "Gender  Status    \n",
      "Female  Joined        1275\n",
      "        Not Joined     273\n",
      "Male    Joined        6015\n",
      "        Not Joined    1405\n",
      "Name: Gender, dtype: int64\n"
     ]
    },
    {
     "data": {
      "image/png": "[encoded data removed]",
      "text/plain": [
       "<Figure size 576x432 with 1 Axes>"
      ]
     },
     "metadata": {
      "needs_background": "light"
     },
     "output_type": "display_data"
    }
   ],
   "source": [
    "print(count_y('Gender'))\n",
    "\n",
    "countp_y('Gender')\n",
    "plt.xlabel(\"Gender\")\n",
    "plt.ylabel(\"Frequency\")\n",
    "plt.title(\"Gender of Candidates with Status\")\n",
    "plt.show()"
   ]
  },
  {
   "cell_type": "markdown",
   "metadata": {},
   "source": [
    "* Most of the candidates are Male and that is why more number of candidates who didn't join are Males"
   ]
  },
  {
   "cell_type": "markdown",
   "metadata": {},
   "source": [
    "### Analysis of 'Location'"
   ]
  },
  {
   "cell_type": "code",
   "execution_count": 406,
   "metadata": {},
   "outputs": [
    {
     "name": "stdout",
     "output_type": "stream",
     "text": [
      "Chennai      3146\n",
      "Noida        2714\n",
      "Bangalore    2224\n",
      "Hyderabad     341\n",
      "Mumbai        197\n",
      "Gurgaon       144\n",
      "Kolkata       128\n",
      "Pune           48\n",
      "Others         13\n",
      "Cochin          7\n",
      "Ahmedabad       6\n",
      "Name: Location, dtype: int64\n"
     ]
    },
    {
     "data": {
      "image/png": "[encoded data removed]",
      "text/plain": [
       "<Figure size 576x432 with 1 Axes>"
      ]
     },
     "metadata": {
      "needs_background": "light"
     },
     "output_type": "display_data"
    }
   ],
   "source": [
    "print(count('Location'))\n",
    "\n",
    "plt.figure(figsize = (8,6))\n",
    "sns.countplot(x = 'Location', data = df, palette='YlOrRd_r')\n",
    "plt.xticks(rotation = 90)\n",
    "plt.xlabel(\"Location\")\n",
    "plt.ylabel(\"Frequency\")\n",
    "plt.title(\"Location Offered\")\n",
    "plt.show()"
   ]
  },
  {
   "cell_type": "code",
   "execution_count": 407,
   "metadata": {},
   "outputs": [
    {
     "name": "stdout",
     "output_type": "stream",
     "text": [
      "Location   Status    \n",
      "Ahmedabad  Joined           5\n",
      "           Not Joined       1\n",
      "Bangalore  Joined        1737\n",
      "           Not Joined     487\n",
      "Chennai    Joined        2483\n",
      "           Not Joined     663\n",
      "Cochin     Joined           7\n",
      "Gurgaon    Joined         116\n",
      "           Not Joined      28\n",
      "Hyderabad  Joined         266\n",
      "           Not Joined      75\n",
      "Kolkata    Joined          99\n",
      "           Not Joined      29\n",
      "Mumbai     Joined         176\n",
      "           Not Joined      21\n",
      "Noida      Joined        2350\n",
      "           Not Joined     364\n",
      "Others     Joined          13\n",
      "Pune       Joined          38\n",
      "           Not Joined      10\n",
      "Name: Location, dtype: int64\n"
     ]
    },
    {
     "data": {
      "image/png": "[encoded data removed]",
      "text/plain": [
       "<Figure size 576x432 with 1 Axes>"
      ]
     },
     "metadata": {
      "needs_background": "light"
     },
     "output_type": "display_data"
    }
   ],
   "source": [
    "print(count_y('Location'))\n",
    "\n",
    "plt.figure(figsize = (8,6))\n",
    "sns.countplot(x = 'Location', data = df, palette='YlOrRd_r', hue = 'Status')\n",
    "plt.xticks(rotation = 90)\n",
    "plt.xlabel(\"Location\")\n",
    "plt.ylabel(\"Frequency\")\n",
    "plt.title(\"Location Offered with Status\")\n",
    "plt.show()"
   ]
  },
  {
   "cell_type": "markdown",
   "metadata": {},
   "source": [
    "* Chennai, Bangalore and Noida have maximum candidates in comparison to other cities.\n",
    "* Reason behind this is these cities are hubs of several top firms in India\n",
    "* Bangalore having less number of candidates than Noida has more candidates who didn't join the companies.\n",
    "* This suggests that these candidates must be getting better options as Bangalore houses many firms offices."
   ]
  },
  {
   "cell_type": "markdown",
   "metadata": {},
   "source": [
    "### Analysis of 'Joining Bonus'\t"
   ]
  },
  {
   "cell_type": "code",
   "execution_count": 408,
   "metadata": {},
   "outputs": [
    {
     "name": "stdout",
     "output_type": "stream",
     "text": [
      "No     8552\n",
      "Yes     416\n",
      "Name: Joining Bonus, dtype: int64\n"
     ]
    },
    {
     "data": {
      "image/png": "[encoded data removed]",
      "text/plain": [
       "<Figure size 576x432 with 1 Axes>"
      ]
     },
     "metadata": {
      "needs_background": "light"
     },
     "output_type": "display_data"
    }
   ],
   "source": [
    "print(count('Joining Bonus'))\n",
    "\n",
    "countp('Joining Bonus')\n",
    "plt.xlabel(\"Joining Bonus\")\n",
    "plt.ylabel(\"Frequency\")\n",
    "plt.title(\"Joining Bonus to Candidates\")\n",
    "plt.show()"
   ]
  },
  {
   "cell_type": "code",
   "execution_count": 410,
   "metadata": {},
   "outputs": [
    {
     "name": "stdout",
     "output_type": "stream",
     "text": [
      "Joining Bonus  Status    \n",
      "No             Joined        6955\n",
      "               Not Joined    1597\n",
      "Yes            Joined         335\n",
      "               Not Joined      81\n",
      "Name: Joining Bonus, dtype: int64\n"
     ]
    },
    {
     "data": {
      "image/png": "[encoded data removed]",
      "text/plain": [
       "<Figure size 576x432 with 1 Axes>"
      ]
     },
     "metadata": {
      "needs_background": "light"
     },
     "output_type": "display_data"
    }
   ],
   "source": [
    "print(count_y('Joining Bonus'))\n",
    "\n",
    "countp_y('Joining Bonus')\n",
    "plt.xlabel(\"Joining Bonus\")\n",
    "plt.ylabel(\"Frequency\")\n",
    "plt.title(\"Joining Bonus given to Candidates with Status\")\n",
    "plt.show()"
   ]
  },
  {
   "cell_type": "markdown",
   "metadata": {},
   "source": [
    "* Almost all of the candidates were not offered any Joining Bonus.\n",
    "* But we still have candidates who got joining bonus but still didn't joined the company."
   ]
  },
  {
   "cell_type": "markdown",
   "metadata": {},
   "source": [
    "### Analysis of 'DOJ Extended'"
   ]
  },
  {
   "cell_type": "code",
   "execution_count": 411,
   "metadata": {},
   "outputs": [
    {
     "name": "stdout",
     "output_type": "stream",
     "text": [
      "No     4775\n",
      "Yes    4193\n",
      "Name: DOJ Extended, dtype: int64\n"
     ]
    },
    {
     "data": {
      "image/png": "[encoded data removed]",
      "text/plain": [
       "<Figure size 576x432 with 1 Axes>"
      ]
     },
     "metadata": {
      "needs_background": "light"
     },
     "output_type": "display_data"
    }
   ],
   "source": [
    "print(count('DOJ Extended'))\n",
    "\n",
    "countp('DOJ Extended')\n",
    "plt.xlabel(\"DOJ Extended\")\n",
    "plt.ylabel(\"Frequency\")\n",
    "plt.title(\"DOJ Extended for Candidates\")\n",
    "plt.show()"
   ]
  },
  {
   "cell_type": "code",
   "execution_count": 412,
   "metadata": {},
   "outputs": [
    {
     "name": "stdout",
     "output_type": "stream",
     "text": [
      "DOJ Extended  Status    \n",
      "No            Joined        3871\n",
      "              Not Joined     904\n",
      "Yes           Joined        3419\n",
      "              Not Joined     774\n",
      "Name: DOJ Extended, dtype: int64\n"
     ]
    },
    {
     "data": {
      "image/png": "[encoded data removed]",
      "text/plain": [
       "<Figure size 576x432 with 1 Axes>"
      ]
     },
     "metadata": {
      "needs_background": "light"
     },
     "output_type": "display_data"
    }
   ],
   "source": [
    "print(count_y('DOJ Extended'))\n",
    "\n",
    "countp_y('DOJ Extended')\n",
    "plt.xlabel(\"DOJ Extended\")\n",
    "plt.ylabel(\"Frequency\")\n",
    "plt.title(\"DOJ Extended for Candidates with Status\")\n",
    "plt.show()"
   ]
  },
  {
   "cell_type": "markdown",
   "metadata": {},
   "source": [
    "* Almost 50% of the candidates were offered to extend the Date of Joining\n",
    "* While the other half were not offered the same\n",
    "* The Joined and Not Joined ratio is the same in both the cases is not distinguishable"
   ]
  },
  {
   "cell_type": "markdown",
   "metadata": {},
   "source": [
    "### Analysis of 'Offered band'"
   ]
  },
  {
   "cell_type": "code",
   "execution_count": 413,
   "metadata": {},
   "outputs": [
    {
     "name": "stdout",
     "output_type": "stream",
     "text": [
      "E1    5558\n",
      "E2    2698\n",
      "E3     501\n",
      "E0     211\n",
      "Name: Offered band, dtype: int64\n"
     ]
    },
    {
     "data": {
      "image/png": "[encoded data removed]",
      "text/plain": [
       "<Figure size 576x432 with 1 Axes>"
      ]
     },
     "metadata": {
      "needs_background": "light"
     },
     "output_type": "display_data"
    }
   ],
   "source": [
    "print(count('Offered band'))\n",
    "\n",
    "countp('Offered band')\n",
    "plt.xlabel(\"Offered Band\")\n",
    "plt.ylabel(\"Frequency\")\n",
    "plt.title(\"Offered Band to Candidates\")\n",
    "plt.show()"
   ]
  },
  {
   "cell_type": "code",
   "execution_count": 414,
   "metadata": {},
   "outputs": [
    {
     "name": "stdout",
     "output_type": "stream",
     "text": [
      "Offered band  Status    \n",
      "E0            Joined         161\n",
      "              Not Joined      50\n",
      "E1            Joined        4519\n",
      "              Not Joined    1039\n",
      "E2            Joined        2183\n",
      "              Not Joined     515\n",
      "E3            Joined         427\n",
      "              Not Joined      74\n",
      "Name: Offered band, dtype: int64\n"
     ]
    },
    {
     "data": {
      "image/png": "[encoded data removed]",
      "text/plain": [
       "<Figure size 576x432 with 1 Axes>"
      ]
     },
     "metadata": {
      "needs_background": "light"
     },
     "output_type": "display_data"
    }
   ],
   "source": [
    "print(count_y('Offered band'))\n",
    "\n",
    "countp_y('Offered band')\n",
    "plt.xlabel(\"Offered Band\")\n",
    "plt.ylabel(\"Frequency\")\n",
    "plt.title(\"Offered Band to Candidates with Status\")\n",
    "plt.show()"
   ]
  },
  {
   "cell_type": "markdown",
   "metadata": {},
   "source": [
    "* Most of the candidates were offered E1 band followed by E2 and E3 and E4.\n",
    "* Since, most of them were offered E1, thus most of the candidates who did not join are also from E1\n",
    "* Thus, we can say that most of the candidates are freshers or having low experience level. "
   ]
  },
  {
   "cell_type": "markdown",
   "metadata": {},
   "source": [
    "### Analysis of 'LOB'"
   ]
  },
  {
   "cell_type": "code",
   "execution_count": 415,
   "metadata": {},
   "outputs": [
    {
     "name": "stdout",
     "output_type": "stream",
     "text": [
      "INFRA         2832\n",
      "ERS           2424\n",
      "BFSI          1395\n",
      "ETS            690\n",
      "CSMP           575\n",
      "AXON           567\n",
      "EAS            346\n",
      "Healthcare     124\n",
      "MMS             15\n",
      "Name: LOB, dtype: int64\n"
     ]
    },
    {
     "data": {
      "image/png": "[encoded data removed]",
      "text/plain": [
       "<Figure size 432x288 with 1 Axes>"
      ]
     },
     "metadata": {
      "needs_background": "light"
     },
     "output_type": "display_data"
    }
   ],
   "source": [
    "print(count('LOB'))\n",
    "\n",
    "sns.countplot(x = 'LOB', data = df, palette='YlOrRd_r')\n",
    "plt.xticks(rotation = 90)\n",
    "plt.xlabel(\"Line Of Business\")\n",
    "plt.ylabel(\"Frequency\")\n",
    "plt.title(\"LOB of Candidates were Offered Job\")\n",
    "plt.show()"
   ]
  },
  {
   "cell_type": "code",
   "execution_count": 416,
   "metadata": {},
   "outputs": [
    {
     "name": "stdout",
     "output_type": "stream",
     "text": [
      "LOB         Status    \n",
      "AXON        Joined         439\n",
      "            Not Joined     128\n",
      "BFSI        Joined        1058\n",
      "            Not Joined     337\n",
      "CSMP        Joined         468\n",
      "            Not Joined     107\n",
      "EAS         Joined         254\n",
      "            Not Joined      92\n",
      "ERS         Joined        1895\n",
      "            Not Joined     529\n",
      "ETS         Joined         573\n",
      "            Not Joined     117\n",
      "Healthcare  Joined         102\n",
      "            Not Joined      22\n",
      "INFRA       Joined        2486\n",
      "            Not Joined     346\n",
      "MMS         Joined          15\n",
      "Name: LOB, dtype: int64\n"
     ]
    },
    {
     "data": {
      "image/png": "[encoded data removed]",
      "text/plain": [
       "<Figure size 432x288 with 1 Axes>"
      ]
     },
     "metadata": {
      "needs_background": "light"
     },
     "output_type": "display_data"
    }
   ],
   "source": [
    "print(count_y('LOB'))\n",
    "\n",
    "sns.countplot(x = 'LOB', data = df, palette='YlOrRd_r', hue = 'Status')\n",
    "plt.xticks(rotation = 90)\n",
    "plt.xlabel(\"Line Of Business\")\n",
    "plt.ylabel(\"Frequency\")\n",
    "plt.title(\"LOB of Candidates were Offered Job with Status\")\n",
    "plt.show()"
   ]
  },
  {
   "cell_type": "markdown",
   "metadata": {},
   "source": [
    "* Most of the candidates were offered jobs in the Infrastructure Line of Business\n",
    "* Then comes ERS followed by BFSI\n",
    "* Infra has twice more candidates than BFSI who joined but has almost equal numbers who did not join\n",
    "* This suggests that candidates are more likely to not join a BFSI firm."
   ]
  },
  {
   "cell_type": "markdown",
   "metadata": {},
   "source": [
    "#### Analysis of Candidate Source"
   ]
  },
  {
   "cell_type": "code",
   "execution_count": 417,
   "metadata": {},
   "outputs": [
    {
     "name": "stdout",
     "output_type": "stream",
     "text": [
      "Direct               4791\n",
      "Agency               2579\n",
      "Employee Referral    1598\n",
      "Name: Candidate Source, dtype: int64\n"
     ]
    },
    {
     "data": {
      "image/png": "[encoded data removed]",
      "text/plain": [
       "<Figure size 576x432 with 1 Axes>"
      ]
     },
     "metadata": {
      "needs_background": "light"
     },
     "output_type": "display_data"
    }
   ],
   "source": [
    "print(count('Candidate Source'))\n",
    "\n",
    "countp('Candidate Source')\n",
    "plt.xlabel(\"Source\")\n",
    "plt.ylabel(\"Frequency\")\n",
    "plt.title(\"Candidate Source\")\n",
    "plt.show()"
   ]
  },
  {
   "cell_type": "code",
   "execution_count": 418,
   "metadata": {},
   "outputs": [
    {
     "name": "stdout",
     "output_type": "stream",
     "text": [
      "Candidate Source   Status    \n",
      "Agency             Joined        1956\n",
      "                   Not Joined     623\n",
      "Direct             Joined        3929\n",
      "                   Not Joined     862\n",
      "Employee Referral  Joined        1405\n",
      "                   Not Joined     193\n",
      "Name: Candidate Source, dtype: int64\n"
     ]
    },
    {
     "data": {
      "image/png": "[encoded data removed]",
      "text/plain": [
       "<Figure size 576x432 with 1 Axes>"
      ]
     },
     "metadata": {
      "needs_background": "light"
     },
     "output_type": "display_data"
    }
   ],
   "source": [
    "print(count_y('Candidate Source'))\n",
    "\n",
    "countp_y('Candidate Source')\n",
    "plt.xlabel(\"Source\")\n",
    "plt.ylabel(\"Frequency\")\n",
    "plt.title(\"Candidate Source with Status\")\n",
    "plt.show()"
   ]
  },
  {
   "cell_type": "markdown",
   "metadata": {},
   "source": [
    "* Most of the candidates onboarded Directly by the firms\n",
    "* Number of candidates who did not join the company from the Direct channel is almost equal to those from Agency Channel even though candidates onboarded through Agency Channel is less\n",
    "* A reason behind this is, while applying through an agency, one gets multiple options of companies to apply, thus selecting the one that gives the best benefits\n",
    "* While a candidate onboarded directly has fewer or no options at the moment thus having less number who did not join."
   ]
  },
  {
   "cell_type": "markdown",
   "metadata": {},
   "source": [
    "### Analysis of 'Candidate relocate actual'"
   ]
  },
  {
   "cell_type": "code",
   "execution_count": 419,
   "metadata": {},
   "outputs": [
    {
     "name": "stdout",
     "output_type": "stream",
     "text": [
      "No     7682\n",
      "Yes    1286\n",
      "Name: Candidate relocate actual, dtype: int64\n"
     ]
    },
    {
     "data": {
      "image/png": "[encoded data removed]",
      "text/plain": [
       "<Figure size 576x432 with 1 Axes>"
      ]
     },
     "metadata": {
      "needs_background": "light"
     },
     "output_type": "display_data"
    }
   ],
   "source": [
    "print(count('Candidate relocate actual'))\n",
    "\n",
    "countp('Candidate relocate actual')\n",
    "plt.xlabel(\"Relocation\")\n",
    "plt.ylabel(\"Frequency\")\n",
    "plt.title(\"Rolocation required by Candidate\")\n",
    "plt.show()"
   ]
  },
  {
   "cell_type": "code",
   "execution_count": 420,
   "metadata": {},
   "outputs": [
    {
     "name": "stdout",
     "output_type": "stream",
     "text": [
      "Candidate relocate actual  Status    \n",
      "No                         Joined        6004\n",
      "                           Not Joined    1678\n",
      "Yes                        Joined        1286\n",
      "Name: Candidate relocate actual, dtype: int64\n"
     ]
    },
    {
     "data": {
      "image/png": "[encoded data removed]",
      "text/plain": [
       "<Figure size 576x432 with 1 Axes>"
      ]
     },
     "metadata": {
      "needs_background": "light"
     },
     "output_type": "display_data"
    }
   ],
   "source": [
    "print(count_y('Candidate relocate actual'))\n",
    "\n",
    "countp_y('Candidate relocate actual')\n",
    "plt.xlabel(\"Relocation\")\n",
    "plt.ylabel(\"Frequency\")\n",
    "plt.title(\"Relocation required by Candidates with Status\")\n",
    "plt.show()"
   ]
  },
  {
   "cell_type": "markdown",
   "metadata": {},
   "source": [
    "* Most of the candidates were not required to relocate\n",
    "* The ones who were required to relocate, all of them joined which suggests they are in need of job and money are ready to work from anywhere"
   ]
  },
  {
   "cell_type": "markdown",
   "metadata": {},
   "source": [
    "### Analysis of Numeric Columns"
   ]
  },
  {
   "cell_type": "code",
   "execution_count": 335,
   "metadata": {},
   "outputs": [
    {
     "data": {
      "text/html": [
       "<div>\n",
       "<style scoped>\n",
       "    .dataframe tbody tr th:only-of-type {\n",
       "        vertical-align: middle;\n",
       "    }\n",
       "\n",
       "    .dataframe tbody tr th {\n",
       "        vertical-align: top;\n",
       "    }\n",
       "\n",
       "    .dataframe thead th {\n",
       "        text-align: right;\n",
       "    }\n",
       "</style>\n",
       "<table border=\"1\" class=\"dataframe\">\n",
       "  <thead>\n",
       "    <tr style=\"text-align: right;\">\n",
       "      <th></th>\n",
       "      <th>count</th>\n",
       "      <th>mean</th>\n",
       "      <th>std</th>\n",
       "      <th>min</th>\n",
       "      <th>25%</th>\n",
       "      <th>50%</th>\n",
       "      <th>75%</th>\n",
       "      <th>max</th>\n",
       "    </tr>\n",
       "  </thead>\n",
       "  <tbody>\n",
       "    <tr>\n",
       "      <th>SLNO</th>\n",
       "      <td>8968.00000</td>\n",
       "      <td>5987.29996</td>\n",
       "      <td>3365.83981</td>\n",
       "      <td>1.00000</td>\n",
       "      <td>3229.75000</td>\n",
       "      <td>5993.50000</td>\n",
       "      <td>8750.25000</td>\n",
       "      <td>12333.00000</td>\n",
       "    </tr>\n",
       "    <tr>\n",
       "      <th>Candidate Ref</th>\n",
       "      <td>8968.00000</td>\n",
       "      <td>2844899.98941</td>\n",
       "      <td>485925.75349</td>\n",
       "      <td>2109586.00000</td>\n",
       "      <td>2386855.00000</td>\n",
       "      <td>2807607.50000</td>\n",
       "      <td>3300084.50000</td>\n",
       "      <td>3836076.00000</td>\n",
       "    </tr>\n",
       "    <tr>\n",
       "      <th>Duration to accept offer</th>\n",
       "      <td>8968.00000</td>\n",
       "      <td>21.42451</td>\n",
       "      <td>25.80554</td>\n",
       "      <td>0.00000</td>\n",
       "      <td>3.00000</td>\n",
       "      <td>10.00000</td>\n",
       "      <td>33.00000</td>\n",
       "      <td>224.00000</td>\n",
       "    </tr>\n",
       "    <tr>\n",
       "      <th>Notice period</th>\n",
       "      <td>8968.00000</td>\n",
       "      <td>39.30475</td>\n",
       "      <td>22.20388</td>\n",
       "      <td>0.00000</td>\n",
       "      <td>30.00000</td>\n",
       "      <td>30.00000</td>\n",
       "      <td>60.00000</td>\n",
       "      <td>120.00000</td>\n",
       "    </tr>\n",
       "    <tr>\n",
       "      <th>Pecent hike expected in CTC</th>\n",
       "      <td>8968.00000</td>\n",
       "      <td>43.92065</td>\n",
       "      <td>29.77074</td>\n",
       "      <td>-68.83000</td>\n",
       "      <td>27.30000</td>\n",
       "      <td>40.00000</td>\n",
       "      <td>53.85000</td>\n",
       "      <td>359.77000</td>\n",
       "    </tr>\n",
       "    <tr>\n",
       "      <th>Percent hike offered in CTC</th>\n",
       "      <td>8968.00000</td>\n",
       "      <td>40.67935</td>\n",
       "      <td>35.99452</td>\n",
       "      <td>-60.53000</td>\n",
       "      <td>22.22000</td>\n",
       "      <td>36.00000</td>\n",
       "      <td>50.00000</td>\n",
       "      <td>471.43000</td>\n",
       "    </tr>\n",
       "    <tr>\n",
       "      <th>Percent difference CTC</th>\n",
       "      <td>8968.00000</td>\n",
       "      <td>-1.60017</td>\n",
       "      <td>19.53567</td>\n",
       "      <td>-67.27000</td>\n",
       "      <td>-8.36750</td>\n",
       "      <td>0.00000</td>\n",
       "      <td>0.00000</td>\n",
       "      <td>300.00000</td>\n",
       "    </tr>\n",
       "    <tr>\n",
       "      <th>Rex in Yrs</th>\n",
       "      <td>8968.00000</td>\n",
       "      <td>4.23640</td>\n",
       "      <td>2.54608</td>\n",
       "      <td>0.00000</td>\n",
       "      <td>3.00000</td>\n",
       "      <td>4.00000</td>\n",
       "      <td>6.00000</td>\n",
       "      <td>24.00000</td>\n",
       "    </tr>\n",
       "    <tr>\n",
       "      <th>Age</th>\n",
       "      <td>8968.00000</td>\n",
       "      <td>29.91269</td>\n",
       "      <td>4.09724</td>\n",
       "      <td>20.00000</td>\n",
       "      <td>27.00000</td>\n",
       "      <td>29.00000</td>\n",
       "      <td>34.00000</td>\n",
       "      <td>60.00000</td>\n",
       "    </tr>\n",
       "  </tbody>\n",
       "</table>\n",
       "</div>"
      ],
      "text/plain": [
       "                                 count          mean          std  \\\n",
       "SLNO                        8968.00000    5987.29996   3365.83981   \n",
       "Candidate Ref               8968.00000 2844899.98941 485925.75349   \n",
       "Duration to accept offer    8968.00000      21.42451     25.80554   \n",
       "Notice period               8968.00000      39.30475     22.20388   \n",
       "Pecent hike expected in CTC 8968.00000      43.92065     29.77074   \n",
       "Percent hike offered in CTC 8968.00000      40.67935     35.99452   \n",
       "Percent difference CTC      8968.00000      -1.60017     19.53567   \n",
       "Rex in Yrs                  8968.00000       4.23640      2.54608   \n",
       "Age                         8968.00000      29.91269      4.09724   \n",
       "\n",
       "                                      min           25%           50%  \\\n",
       "SLNO                              1.00000    3229.75000    5993.50000   \n",
       "Candidate Ref               2109586.00000 2386855.00000 2807607.50000   \n",
       "Duration to accept offer          0.00000       3.00000      10.00000   \n",
       "Notice period                     0.00000      30.00000      30.00000   \n",
       "Pecent hike expected in CTC     -68.83000      27.30000      40.00000   \n",
       "Percent hike offered in CTC     -60.53000      22.22000      36.00000   \n",
       "Percent difference CTC          -67.27000      -8.36750       0.00000   \n",
       "Rex in Yrs                        0.00000       3.00000       4.00000   \n",
       "Age                              20.00000      27.00000      29.00000   \n",
       "\n",
       "                                      75%           max  \n",
       "SLNO                           8750.25000   12333.00000  \n",
       "Candidate Ref               3300084.50000 3836076.00000  \n",
       "Duration to accept offer         33.00000     224.00000  \n",
       "Notice period                    60.00000     120.00000  \n",
       "Pecent hike expected in CTC      53.85000     359.77000  \n",
       "Percent hike offered in CTC      50.00000     471.43000  \n",
       "Percent difference CTC            0.00000     300.00000  \n",
       "Rex in Yrs                        6.00000      24.00000  \n",
       "Age                              34.00000      60.00000  "
      ]
     },
     "execution_count": 335,
     "metadata": {},
     "output_type": "execute_result"
    }
   ],
   "source": [
    "df.describe().T"
   ]
  },
  {
   "cell_type": "markdown",
   "metadata": {},
   "source": [
    "#### Functions for Univariate and Bivariate Analysis of Numeric Features"
   ]
  },
  {
   "cell_type": "markdown",
   "metadata": {},
   "source": [
    "##### Function for Dist Plot"
   ]
  },
  {
   "cell_type": "code",
   "execution_count": 421,
   "metadata": {},
   "outputs": [],
   "source": [
    "def dist(data, x):\n",
    "    plt.figure(figsize = (8,6))\n",
    "    sns.distplot(data[x], bins = 10, color = 'orange')"
   ]
  },
  {
   "cell_type": "markdown",
   "metadata": {},
   "source": [
    "##### Function for Box Plot of Classes of Target Variable 'Status'"
   ]
  },
  {
   "cell_type": "code",
   "execution_count": 2,
   "metadata": {},
   "outputs": [],
   "source": [
    "def box(x):\n",
    "    plt.figure(figsize = (8,6))\n",
    "    sns.boxplot(x = 'Status', y = x, data = df, palette = 'autumn')"
   ]
  },
  {
   "cell_type": "markdown",
   "metadata": {},
   "source": [
    "### Analysis of 'Age'"
   ]
  },
  {
   "cell_type": "code",
   "execution_count": 422,
   "metadata": {
    "scrolled": false
   },
   "outputs": [
    {
     "data": {
      "image/png": "[encoded data removed]",
      "text/plain": [
       "<Figure size 576x432 with 1 Axes>"
      ]
     },
     "metadata": {
      "needs_background": "light"
     },
     "output_type": "display_data"
    }
   ],
   "source": [
    "dist(df, 'Age')\n",
    "plt.xlabel(\"Age\")\n",
    "plt.title(\"Distribution of Age\")\n",
    "plt.show()"
   ]
  },
  {
   "cell_type": "code",
   "execution_count": 428,
   "metadata": {},
   "outputs": [
    {
     "data": {
      "image/png": "[encoded data removed]",
      "text/plain": [
       "<Figure size 576x432 with 1 Axes>"
      ]
     },
     "metadata": {
      "needs_background": "light"
     },
     "output_type": "display_data"
    }
   ],
   "source": [
    "box('Age')\n",
    "plt.xlabel(\"Status\")\n",
    "plt.title(\"Age with Status\")\n",
    "plt.show()"
   ]
  },
  {
   "cell_type": "markdown",
   "metadata": {},
   "source": [
    "* Most of the candidates were of age 22 years to 35 years\n",
    "* We have few outliers of candidates ageing up to 60 years old\n",
    "* It can be observed that the 60 years old candidate did not join\n",
    "* It may seem like an error in input as generally people get retired at the age of 60 \n",
    "* Both Joined and Not Joined classes have equal number of outliers (aged candidates)"
   ]
  },
  {
   "cell_type": "markdown",
   "metadata": {},
   "source": [
    "### Analysis of 'Pecent hike expected in CTC'"
   ]
  },
  {
   "cell_type": "code",
   "execution_count": 426,
   "metadata": {},
   "outputs": [
    {
     "data": {
      "image/png": "[encoded data removed]",
      "text/plain": [
       "<Figure size 576x432 with 1 Axes>"
      ]
     },
     "metadata": {
      "needs_background": "light"
     },
     "output_type": "display_data"
    }
   ],
   "source": [
    "dist(df, 'Pecent hike expected in CTC')\n",
    "plt.xlabel(\"Percent Hike Expected in CTC\")\n",
    "plt.title(\"Distribution of Percent Hike Expected in CTC\")\n",
    "plt.show()"
   ]
  },
  {
   "cell_type": "code",
   "execution_count": 427,
   "metadata": {},
   "outputs": [
    {
     "data": {
      "image/png": "[encoded data removed]",
      "text/plain": [
       "<Figure size 576x432 with 1 Axes>"
      ]
     },
     "metadata": {
      "needs_background": "light"
     },
     "output_type": "display_data"
    }
   ],
   "source": [
    "box('Pecent hike expected in CTC')\n",
    "plt.xlabel(\"Status\")\n",
    "plt.title(\"Percent Hike Expected with Status\")\n",
    "plt.show()"
   ]
  },
  {
   "cell_type": "markdown",
   "metadata": {},
   "source": [
    "* Most of the candidates were expecting per cent hike in CTC of about 50%\n",
    "* A few candidates were expecting a per cent hike more than 300%\n",
    "* But we cannot comment on this, as they might have changed the position or department or had been assigned a managerial post"
   ]
  },
  {
   "cell_type": "markdown",
   "metadata": {},
   "source": [
    "### Analysis of 'Pecent hike offered in CTC'"
   ]
  },
  {
   "cell_type": "code",
   "execution_count": 429,
   "metadata": {},
   "outputs": [
    {
     "data": {
      "image/png": "[encoded data removed]",
      "text/plain": [
       "<Figure size 576x432 with 1 Axes>"
      ]
     },
     "metadata": {
      "needs_background": "light"
     },
     "output_type": "display_data"
    }
   ],
   "source": [
    "dist(df, 'Percent hike offered in CTC')\n",
    "plt.xlabel(\"Percent Hike Offered in CTC\")\n",
    "plt.title(\"Distribution of Percent Hike Offered in CTC\")\n",
    "plt.show()"
   ]
  },
  {
   "cell_type": "code",
   "execution_count": 430,
   "metadata": {},
   "outputs": [
    {
     "data": {
      "image/png": "[encoded data removed]",
      "text/plain": [
       "<Figure size 576x432 with 1 Axes>"
      ]
     },
     "metadata": {
      "needs_background": "light"
     },
     "output_type": "display_data"
    }
   ],
   "source": [
    "box('Percent hike offered in CTC')\n",
    "plt.xlabel(\"Status\")\n",
    "plt.title(\"Percent Hike Offered in CTC with Status\")\n",
    "plt.show()"
   ]
  },
  {
   "cell_type": "markdown",
   "metadata": {},
   "source": [
    "* Looks like what candidates were expecting got a little less of per cent hike \n",
    "* This makes sense as candidates always aspire more than the calibre\n",
    "* We have few candidates who were offered a high per cent hike in CTC which can be related to those candidates who were expecting these hikes\n",
    "* This strongly suggests that these set of candidates had applied for a managerial level or equivalent positions"
   ]
  },
  {
   "cell_type": "markdown",
   "metadata": {},
   "source": [
    "### Analysis of 'Pecent difference CTC'"
   ]
  },
  {
   "cell_type": "code",
   "execution_count": 431,
   "metadata": {},
   "outputs": [
    {
     "data": {
      "image/png": "[encoded data removed]",
      "text/plain": [
       "<Figure size 576x432 with 1 Axes>"
      ]
     },
     "metadata": {
      "needs_background": "light"
     },
     "output_type": "display_data"
    }
   ],
   "source": [
    "dist(df, 'Percent difference CTC')\n",
    "plt.xlabel(\"Percent Difference CTC\")\n",
    "plt.title(\"Distribution of Percent Difference CTC\")\n",
    "plt.show()"
   ]
  },
  {
   "cell_type": "code",
   "execution_count": 432,
   "metadata": {},
   "outputs": [
    {
     "data": {
      "image/png": "[encoded data removed]",
      "text/plain": [
       "<Figure size 576x432 with 1 Axes>"
      ]
     },
     "metadata": {
      "needs_background": "light"
     },
     "output_type": "display_data"
    }
   ],
   "source": [
    "box('Percent difference CTC')\n",
    "plt.xlabel(\"Status\")\n",
    "plt.title(\"Percent Hike Difference with Status\")\n",
    "plt.show()"
   ]
  },
  {
   "cell_type": "markdown",
   "metadata": {},
   "source": [
    "* Percent difference CTC can produce same observations as those from Percent hike expected and Percent hike offered features\n",
    "* A lot of Percent difference in this feature is incorrect, thus we will remove them in Outlier Analysis"
   ]
  },
  {
   "cell_type": "markdown",
   "metadata": {},
   "source": [
    "### Analysis of 'Rex in Yrs'"
   ]
  },
  {
   "cell_type": "code",
   "execution_count": 433,
   "metadata": {},
   "outputs": [
    {
     "data": {
      "image/png": "[encoded data removed]",
      "text/plain": [
       "<Figure size 576x432 with 1 Axes>"
      ]
     },
     "metadata": {
      "needs_background": "light"
     },
     "output_type": "display_data"
    }
   ],
   "source": [
    "dist(df, 'Rex in Yrs')\n",
    "plt.xlabel(\"Years of Experience\")\n",
    "plt.title(\"Distribution of Rex in Yrs\")\n",
    "plt.show()"
   ]
  },
  {
   "cell_type": "code",
   "execution_count": 434,
   "metadata": {},
   "outputs": [
    {
     "data": {
      "image/png": "[encoded data removed]",
      "text/plain": [
       "<Figure size 576x432 with 1 Axes>"
      ]
     },
     "metadata": {
      "needs_background": "light"
     },
     "output_type": "display_data"
    }
   ],
   "source": [
    "box('Rex in Yrs')\n",
    "plt.xlabel(\"Status\")\n",
    "plt.title(\"Rex of Yrs. with Status\")\n",
    "plt.show()"
   ]
  },
  {
   "cell_type": "markdown",
   "metadata": {},
   "source": [
    "* Most of the Candidates were having 0 to 8 years of experience\n",
    "* We also have candidates having experience of 25 years and more\n",
    "* Experience candidates are more likely to join \n",
    "* As experienced people understand the work ethics of the corporate world, they don't want to exploit them"
   ]
  },
  {
   "cell_type": "markdown",
   "metadata": {},
   "source": [
    "### Analysis of 'Duration to accept offer'"
   ]
  },
  {
   "cell_type": "code",
   "execution_count": 435,
   "metadata": {},
   "outputs": [
    {
     "data": {
      "image/png": "[encoded data removed]",
      "text/plain": [
       "<Figure size 576x432 with 1 Axes>"
      ]
     },
     "metadata": {
      "needs_background": "light"
     },
     "output_type": "display_data"
    }
   ],
   "source": [
    "dist(df, 'Duration to accept offer')\n",
    "plt.xlabel(\"Duration to accept offer\")\n",
    "plt.title(\"Distribution of Duration to accept offer\")\n",
    "plt.show()"
   ]
  },
  {
   "cell_type": "code",
   "execution_count": 436,
   "metadata": {},
   "outputs": [
    {
     "data": {
      "image/png": "[encoded data removed]",
      "text/plain": [
       "<Figure size 576x432 with 1 Axes>"
      ]
     },
     "metadata": {
      "needs_background": "light"
     },
     "output_type": "display_data"
    }
   ],
   "source": [
    "box('Duration to accept offer')\n",
    "plt.xlabel(\"Status\")\n",
    "plt.title(\"Duration to accept offer with Status\")\n",
    "plt.show()"
   ]
  },
  {
   "cell_type": "markdown",
   "metadata": {},
   "source": [
    "* The ones who did not join were given as high as 200 days to accept the offer\n",
    "* The candidate must be of greater importance to the company as no company offers a time span of 8 months to accept the offer"
   ]
  },
  {
   "cell_type": "markdown",
   "metadata": {},
   "source": [
    "### Analysis of 'Notice period'"
   ]
  },
  {
   "cell_type": "code",
   "execution_count": 437,
   "metadata": {},
   "outputs": [
    {
     "data": {
      "image/png": "[encoded data removed]",
      "text/plain": [
       "<Figure size 576x432 with 1 Axes>"
      ]
     },
     "metadata": {
      "needs_background": "light"
     },
     "output_type": "display_data"
    }
   ],
   "source": [
    "dist(df, 'Notice period')\n",
    "plt.xlabel(\"Notice Period\")\n",
    "plt.title(\"Distribution of Notice period\")\n",
    "plt.show()"
   ]
  },
  {
   "cell_type": "code",
   "execution_count": 438,
   "metadata": {},
   "outputs": [
    {
     "data": {
      "image/png": "[encoded data removed]",
      "text/plain": [
       "<Figure size 576x432 with 1 Axes>"
      ]
     },
     "metadata": {
      "needs_background": "light"
     },
     "output_type": "display_data"
    }
   ],
   "source": [
    "box('Notice period')\n",
    "plt.xlabel(\"Status\")\n",
    "plt.title(\"Notice Period with Status\")\n",
    "plt.show()"
   ]
  },
  {
   "cell_type": "markdown",
   "metadata": {},
   "source": [
    "* Notice Period of a company varies ranging from 0 days to 120 days\n",
    "* Candidates who did not join were given more options of Notice Period starting from 0 days to about 90 days.\n",
    "* Mostly who joined were not given 0 days of the notice period (except one outlier)\n",
    "* This suggests that candidates who joined are less bothered about the notice period"
   ]
  },
  {
   "cell_type": "markdown",
   "metadata": {},
   "source": [
    "### EDA Conclusions\n",
    "* Data is imbalance thus it needs to be treated adequately. \n",
    "\n",
    "* Most of the candidates are Male and that is why more number of candidates who didn't join are Males\n",
    "\n",
    "* Chennai, Bangalore and Noida have maximum candidates in comparison to other cities. This suggests that these candidates must be getting better options as Bangalore houses many firms offices.\n",
    "\n",
    "* Almost all of the candidates were not offered any Joining Bonus.\n",
    "\n",
    "* Almost 50% of the candidates were offered to extend the Date of Joining While the other half were not offered the same\n",
    "\n",
    "* Most of the candidates were offered E1 band followed by E2 and E3 and E4. Since, most of them were offered E1, thus most of the candidates who did not join are also from E1. Thus, we can say that most of the candidates are freshers or having low experience level. \n",
    "\n",
    "* Most of the candidates were offered jobs in the Infrastructure Line of Business and Infra has twice more candidates than BFSI who joined but has almost equal numbers who did not join. This suggests that candidates are more likely to not join a BFSI firm.\n",
    "\n",
    "* Number of candidates who did not join the company from the Direct channel is almost equal to those from Agency Channel even though candidates onboarded through Agency Channel is less. A reason behind this is, while applying through an agency, one gets multiple options of companies to apply, thus selecting the one that gives the best benefits\n",
    "\n",
    "* The ones who were required to relocate, all of them joined which suggests they are in need of job and money are ready to work from anywhere\n",
    "\n",
    "* Most of the candidates were of age 22 years to 35 years. It can be observed that the 60 years old candidate did not join. It seems like an error in input as generally people get retired at the age of 60 \n",
    "\n",
    "* Most of the candidates were expecting per cent hike in CTC of about 50% while a few candidates were expecting a per cent hike more than 300% but we cannot comment on this, as they might have changed the position or department or had been assigned a managerial post\n",
    "\n",
    "* Candidates who were expecting got a little less of per cent hike. This makes sense as candidates always aspire more than the calibre. We also see few candidates who were offered a high per cent hike in CTC which can be related to those candidates who were expecting these hikes This strongly suggests that these set of candidates had applied for a managerial level or equivalent positions\n",
    "\n",
    "* A lot of Percent difference in Percent difference CTC is incorrect, thus we will remove them in Outlier Analysis\n",
    "\n",
    "* Most of the Candidates were having 0 to 8 years of experience. Experience candidates are more likely to join as experienced people understand the work ethics of the corporate world, they don't want to exploit them\n",
    "\n",
    "* The ones who did not join were given as high as 200 days to accept the offer which suggests that the candidate must be of greater importance to the company as no company offers a time span of 8 months to accept the offer\n",
    "\n",
    "* Notice Period of a company varies ranging from 0 days to 120 days. Candidates who did not join were given more options of Notice Period starting from 0 days to about 90 days while mostly who joined were not given 0 days of the notice period (except one outlier). This suggests that candidates who joined are less bothered about the notice period"
   ]
  },
  {
   "cell_type": "markdown",
   "metadata": {},
   "source": [
    "### Outlier Analysis"
   ]
  },
  {
   "cell_type": "code",
   "execution_count": 1,
   "metadata": {},
   "outputs": [],
   "source": [
    "# Creating a copy of Dataframe to avoid accidental changes made to original dataframe"
   ]
  },
  {
   "cell_type": "code",
   "execution_count": 83,
   "metadata": {},
   "outputs": [],
   "source": [
    "df_fin = df.copy()"
   ]
  },
  {
   "cell_type": "markdown",
   "metadata": {},
   "source": [
    "#### Treating Outliers of 'Duration to accept offer'"
   ]
  },
  {
   "cell_type": "code",
   "execution_count": 84,
   "metadata": {},
   "outputs": [
    {
     "name": "stdout",
     "output_type": "stream",
     "text": [
      "Q1:  3.0\n",
      "Q2:  10.0\n",
      "Q3:  33.0\n"
     ]
    }
   ],
   "source": [
    "print('Q1: ', df_fin['Duration to accept offer'].quantile(q = 0.25))\n",
    "print('Q2: ', df_fin['Duration to accept offer'].quantile(q = 0.50))\n",
    "print('Q3: ', df_fin['Duration to accept offer'].quantile(q = 0.75))"
   ]
  },
  {
   "cell_type": "code",
   "execution_count": 85,
   "metadata": {},
   "outputs": [],
   "source": [
    "q3_dur = df_fin['Duration to accept offer'].quantile(q = 0.75)\n",
    "q1_dur = df_fin['Duration to accept offer'].quantile(q = 0.25)\n",
    "\n",
    "iqr = q3_dur - q1_dur\n",
    "\n",
    "out_up = q3_dur + (1.5*iqr)\n",
    "out_low = q1_dur - (1.5*iqr)\n",
    "\n",
    "df_no_ot = df_fin[(df_fin['Duration to accept offer'] > out_low) & (df_fin['Duration to accept offer'] < out_up)]"
   ]
  },
  {
   "cell_type": "code",
   "execution_count": 86,
   "metadata": {},
   "outputs": [
    {
     "data": {
      "text/html": [
       "<div>\n",
       "<style scoped>\n",
       "    .dataframe tbody tr th:only-of-type {\n",
       "        vertical-align: middle;\n",
       "    }\n",
       "\n",
       "    .dataframe tbody tr th {\n",
       "        vertical-align: top;\n",
       "    }\n",
       "\n",
       "    .dataframe thead th {\n",
       "        text-align: right;\n",
       "    }\n",
       "</style>\n",
       "<table border=\"1\" class=\"dataframe\">\n",
       "  <thead>\n",
       "    <tr style=\"text-align: right;\">\n",
       "      <th></th>\n",
       "      <th>count</th>\n",
       "      <th>mean</th>\n",
       "      <th>std</th>\n",
       "      <th>min</th>\n",
       "      <th>25%</th>\n",
       "      <th>50%</th>\n",
       "      <th>75%</th>\n",
       "      <th>max</th>\n",
       "    </tr>\n",
       "  </thead>\n",
       "  <tbody>\n",
       "    <tr>\n",
       "      <th>SLNO</th>\n",
       "      <td>8563.00000</td>\n",
       "      <td>6035.33493</td>\n",
       "      <td>3388.99246</td>\n",
       "      <td>1.00000</td>\n",
       "      <td>3239.50000</td>\n",
       "      <td>6065.00000</td>\n",
       "      <td>8842.50000</td>\n",
       "      <td>12333.00000</td>\n",
       "    </tr>\n",
       "    <tr>\n",
       "      <th>Candidate Ref</th>\n",
       "      <td>8563.00000</td>\n",
       "      <td>2852273.61766</td>\n",
       "      <td>488338.51369</td>\n",
       "      <td>2109941.00000</td>\n",
       "      <td>2394782.50000</td>\n",
       "      <td>2814079.00000</td>\n",
       "      <td>3304204.50000</td>\n",
       "      <td>3836076.00000</td>\n",
       "    </tr>\n",
       "    <tr>\n",
       "      <th>Duration to accept offer</th>\n",
       "      <td>8563.00000</td>\n",
       "      <td>17.84970</td>\n",
       "      <td>20.05913</td>\n",
       "      <td>0.00000</td>\n",
       "      <td>2.00000</td>\n",
       "      <td>8.00000</td>\n",
       "      <td>29.00000</td>\n",
       "      <td>77.00000</td>\n",
       "    </tr>\n",
       "    <tr>\n",
       "      <th>Notice period</th>\n",
       "      <td>8563.00000</td>\n",
       "      <td>38.01413</td>\n",
       "      <td>21.04698</td>\n",
       "      <td>0.00000</td>\n",
       "      <td>30.00000</td>\n",
       "      <td>30.00000</td>\n",
       "      <td>60.00000</td>\n",
       "      <td>120.00000</td>\n",
       "    </tr>\n",
       "    <tr>\n",
       "      <th>Pecent hike expected in CTC</th>\n",
       "      <td>8563.00000</td>\n",
       "      <td>44.01472</td>\n",
       "      <td>30.06265</td>\n",
       "      <td>-68.83000</td>\n",
       "      <td>27.27000</td>\n",
       "      <td>40.00000</td>\n",
       "      <td>53.85000</td>\n",
       "      <td>359.77000</td>\n",
       "    </tr>\n",
       "    <tr>\n",
       "      <th>Percent hike offered in CTC</th>\n",
       "      <td>8563.00000</td>\n",
       "      <td>40.79732</td>\n",
       "      <td>36.22562</td>\n",
       "      <td>-60.00000</td>\n",
       "      <td>22.00500</td>\n",
       "      <td>36.18000</td>\n",
       "      <td>50.00000</td>\n",
       "      <td>471.43000</td>\n",
       "    </tr>\n",
       "    <tr>\n",
       "      <th>Percent difference CTC</th>\n",
       "      <td>8563.00000</td>\n",
       "      <td>-1.58669</td>\n",
       "      <td>19.47917</td>\n",
       "      <td>-67.27000</td>\n",
       "      <td>-8.33000</td>\n",
       "      <td>0.00000</td>\n",
       "      <td>0.00000</td>\n",
       "      <td>300.00000</td>\n",
       "    </tr>\n",
       "    <tr>\n",
       "      <th>Rex in Yrs</th>\n",
       "      <td>8563.00000</td>\n",
       "      <td>4.19970</td>\n",
       "      <td>2.54119</td>\n",
       "      <td>0.00000</td>\n",
       "      <td>3.00000</td>\n",
       "      <td>4.00000</td>\n",
       "      <td>6.00000</td>\n",
       "      <td>24.00000</td>\n",
       "    </tr>\n",
       "    <tr>\n",
       "      <th>Age</th>\n",
       "      <td>8563.00000</td>\n",
       "      <td>29.91650</td>\n",
       "      <td>4.09239</td>\n",
       "      <td>20.00000</td>\n",
       "      <td>27.00000</td>\n",
       "      <td>30.00000</td>\n",
       "      <td>34.00000</td>\n",
       "      <td>51.00000</td>\n",
       "    </tr>\n",
       "  </tbody>\n",
       "</table>\n",
       "</div>"
      ],
      "text/plain": [
       "                                 count          mean          std  \\\n",
       "SLNO                        8563.00000    6035.33493   3388.99246   \n",
       "Candidate Ref               8563.00000 2852273.61766 488338.51369   \n",
       "Duration to accept offer    8563.00000      17.84970     20.05913   \n",
       "Notice period               8563.00000      38.01413     21.04698   \n",
       "Pecent hike expected in CTC 8563.00000      44.01472     30.06265   \n",
       "Percent hike offered in CTC 8563.00000      40.79732     36.22562   \n",
       "Percent difference CTC      8563.00000      -1.58669     19.47917   \n",
       "Rex in Yrs                  8563.00000       4.19970      2.54119   \n",
       "Age                         8563.00000      29.91650      4.09239   \n",
       "\n",
       "                                      min           25%           50%  \\\n",
       "SLNO                              1.00000    3239.50000    6065.00000   \n",
       "Candidate Ref               2109941.00000 2394782.50000 2814079.00000   \n",
       "Duration to accept offer          0.00000       2.00000       8.00000   \n",
       "Notice period                     0.00000      30.00000      30.00000   \n",
       "Pecent hike expected in CTC     -68.83000      27.27000      40.00000   \n",
       "Percent hike offered in CTC     -60.00000      22.00500      36.18000   \n",
       "Percent difference CTC          -67.27000      -8.33000       0.00000   \n",
       "Rex in Yrs                        0.00000       3.00000       4.00000   \n",
       "Age                              20.00000      27.00000      30.00000   \n",
       "\n",
       "                                      75%           max  \n",
       "SLNO                           8842.50000   12333.00000  \n",
       "Candidate Ref               3304204.50000 3836076.00000  \n",
       "Duration to accept offer         29.00000      77.00000  \n",
       "Notice period                    60.00000     120.00000  \n",
       "Pecent hike expected in CTC      53.85000     359.77000  \n",
       "Percent hike offered in CTC      50.00000     471.43000  \n",
       "Percent difference CTC            0.00000     300.00000  \n",
       "Rex in Yrs                        6.00000      24.00000  \n",
       "Age                              34.00000      51.00000  "
      ]
     },
     "execution_count": 86,
     "metadata": {},
     "output_type": "execute_result"
    }
   ],
   "source": [
    "df_no_ot.describe().T"
   ]
  },
  {
   "cell_type": "markdown",
   "metadata": {},
   "source": [
    "#### Treating Outliers of 'Percent difference CTC'"
   ]
  },
  {
   "cell_type": "code",
   "execution_count": 87,
   "metadata": {},
   "outputs": [
    {
     "name": "stdout",
     "output_type": "stream",
     "text": [
      "Q1:  -8.33\n",
      "Q2:  0.0\n",
      "Q3:  0.0\n"
     ]
    }
   ],
   "source": [
    "print('Q1: ', df_no_ot['Percent difference CTC'].quantile(q = 0.25))\n",
    "print('Q2: ', df_no_ot['Percent difference CTC'].quantile(q = 0.50))\n",
    "print('Q3: ', df_no_ot['Percent difference CTC'].quantile(q = 0.75))"
   ]
  },
  {
   "cell_type": "code",
   "execution_count": 88,
   "metadata": {},
   "outputs": [],
   "source": [
    "q3_pdiff = df_no_ot['Percent difference CTC'].quantile(q = 0.75)\n",
    "q1_pdiff = df_no_ot['Percent difference CTC'].quantile(q = 0.25)\n",
    "\n",
    "iqr = q3_pdiff - q1_pdiff\n",
    "\n",
    "out_up = q3_pdiff + (1.5*iqr)\n",
    "out_low = q1_pdiff - (1.5*iqr)\n",
    "\n",
    "df_no_ot_2 = df_no_ot[(df_no_ot['Percent difference CTC'] > out_low) & (df_no_ot['Percent difference CTC'] < out_up)]"
   ]
  },
  {
   "cell_type": "code",
   "execution_count": 89,
   "metadata": {},
   "outputs": [
    {
     "data": {
      "text/html": [
       "<div>\n",
       "<style scoped>\n",
       "    .dataframe tbody tr th:only-of-type {\n",
       "        vertical-align: middle;\n",
       "    }\n",
       "\n",
       "    .dataframe tbody tr th {\n",
       "        vertical-align: top;\n",
       "    }\n",
       "\n",
       "    .dataframe thead th {\n",
       "        text-align: right;\n",
       "    }\n",
       "</style>\n",
       "<table border=\"1\" class=\"dataframe\">\n",
       "  <thead>\n",
       "    <tr style=\"text-align: right;\">\n",
       "      <th></th>\n",
       "      <th>count</th>\n",
       "      <th>mean</th>\n",
       "      <th>std</th>\n",
       "      <th>min</th>\n",
       "      <th>25%</th>\n",
       "      <th>50%</th>\n",
       "      <th>75%</th>\n",
       "      <th>max</th>\n",
       "    </tr>\n",
       "  </thead>\n",
       "  <tbody>\n",
       "    <tr>\n",
       "      <th>SLNO</th>\n",
       "      <td>7310.00000</td>\n",
       "      <td>6040.78509</td>\n",
       "      <td>3351.32001</td>\n",
       "      <td>3.00000</td>\n",
       "      <td>3245.25000</td>\n",
       "      <td>6075.00000</td>\n",
       "      <td>8826.75000</td>\n",
       "      <td>12332.00000</td>\n",
       "    </tr>\n",
       "    <tr>\n",
       "      <th>Candidate Ref</th>\n",
       "      <td>7310.00000</td>\n",
       "      <td>2846508.99863</td>\n",
       "      <td>486867.61390</td>\n",
       "      <td>2109941.00000</td>\n",
       "      <td>2383206.25000</td>\n",
       "      <td>2808031.50000</td>\n",
       "      <td>3300732.75000</td>\n",
       "      <td>3835433.00000</td>\n",
       "    </tr>\n",
       "    <tr>\n",
       "      <th>Duration to accept offer</th>\n",
       "      <td>7310.00000</td>\n",
       "      <td>18.30903</td>\n",
       "      <td>20.31353</td>\n",
       "      <td>0.00000</td>\n",
       "      <td>3.00000</td>\n",
       "      <td>9.00000</td>\n",
       "      <td>30.00000</td>\n",
       "      <td>77.00000</td>\n",
       "    </tr>\n",
       "    <tr>\n",
       "      <th>Notice period</th>\n",
       "      <td>7310.00000</td>\n",
       "      <td>38.58345</td>\n",
       "      <td>21.24464</td>\n",
       "      <td>0.00000</td>\n",
       "      <td>30.00000</td>\n",
       "      <td>30.00000</td>\n",
       "      <td>60.00000</td>\n",
       "      <td>120.00000</td>\n",
       "    </tr>\n",
       "    <tr>\n",
       "      <th>Pecent hike expected in CTC</th>\n",
       "      <td>7310.00000</td>\n",
       "      <td>43.64106</td>\n",
       "      <td>28.13927</td>\n",
       "      <td>-45.81000</td>\n",
       "      <td>27.78000</td>\n",
       "      <td>40.19000</td>\n",
       "      <td>53.37000</td>\n",
       "      <td>327.35000</td>\n",
       "    </tr>\n",
       "    <tr>\n",
       "      <th>Percent hike offered in CTC</th>\n",
       "      <td>7310.00000</td>\n",
       "      <td>38.58487</td>\n",
       "      <td>26.70990</td>\n",
       "      <td>-45.81000</td>\n",
       "      <td>23.38000</td>\n",
       "      <td>35.52500</td>\n",
       "      <td>47.37000</td>\n",
       "      <td>314.53000</td>\n",
       "    </tr>\n",
       "    <tr>\n",
       "      <th>Percent difference CTC</th>\n",
       "      <td>7310.00000</td>\n",
       "      <td>-3.26058</td>\n",
       "      <td>6.58427</td>\n",
       "      <td>-20.77000</td>\n",
       "      <td>-7.69000</td>\n",
       "      <td>0.00000</td>\n",
       "      <td>0.00000</td>\n",
       "      <td>12.36000</td>\n",
       "    </tr>\n",
       "    <tr>\n",
       "      <th>Rex in Yrs</th>\n",
       "      <td>7310.00000</td>\n",
       "      <td>4.27373</td>\n",
       "      <td>2.55837</td>\n",
       "      <td>0.00000</td>\n",
       "      <td>3.00000</td>\n",
       "      <td>4.00000</td>\n",
       "      <td>6.00000</td>\n",
       "      <td>24.00000</td>\n",
       "    </tr>\n",
       "    <tr>\n",
       "      <th>Age</th>\n",
       "      <td>7310.00000</td>\n",
       "      <td>29.95513</td>\n",
       "      <td>4.08541</td>\n",
       "      <td>20.00000</td>\n",
       "      <td>27.00000</td>\n",
       "      <td>30.00000</td>\n",
       "      <td>34.00000</td>\n",
       "      <td>51.00000</td>\n",
       "    </tr>\n",
       "  </tbody>\n",
       "</table>\n",
       "</div>"
      ],
      "text/plain": [
       "                                 count          mean          std  \\\n",
       "SLNO                        7310.00000    6040.78509   3351.32001   \n",
       "Candidate Ref               7310.00000 2846508.99863 486867.61390   \n",
       "Duration to accept offer    7310.00000      18.30903     20.31353   \n",
       "Notice period               7310.00000      38.58345     21.24464   \n",
       "Pecent hike expected in CTC 7310.00000      43.64106     28.13927   \n",
       "Percent hike offered in CTC 7310.00000      38.58487     26.70990   \n",
       "Percent difference CTC      7310.00000      -3.26058      6.58427   \n",
       "Rex in Yrs                  7310.00000       4.27373      2.55837   \n",
       "Age                         7310.00000      29.95513      4.08541   \n",
       "\n",
       "                                      min           25%           50%  \\\n",
       "SLNO                              3.00000    3245.25000    6075.00000   \n",
       "Candidate Ref               2109941.00000 2383206.25000 2808031.50000   \n",
       "Duration to accept offer          0.00000       3.00000       9.00000   \n",
       "Notice period                     0.00000      30.00000      30.00000   \n",
       "Pecent hike expected in CTC     -45.81000      27.78000      40.19000   \n",
       "Percent hike offered in CTC     -45.81000      23.38000      35.52500   \n",
       "Percent difference CTC          -20.77000      -7.69000       0.00000   \n",
       "Rex in Yrs                        0.00000       3.00000       4.00000   \n",
       "Age                              20.00000      27.00000      30.00000   \n",
       "\n",
       "                                      75%           max  \n",
       "SLNO                           8826.75000   12332.00000  \n",
       "Candidate Ref               3300732.75000 3835433.00000  \n",
       "Duration to accept offer         30.00000      77.00000  \n",
       "Notice period                    60.00000     120.00000  \n",
       "Pecent hike expected in CTC      53.37000     327.35000  \n",
       "Percent hike offered in CTC      47.37000     314.53000  \n",
       "Percent difference CTC            0.00000      12.36000  \n",
       "Rex in Yrs                        6.00000      24.00000  \n",
       "Age                              34.00000      51.00000  "
      ]
     },
     "execution_count": 89,
     "metadata": {},
     "output_type": "execute_result"
    }
   ],
   "source": [
    "df_no_ot_2.describe().T"
   ]
  },
  {
   "cell_type": "markdown",
   "metadata": {},
   "source": [
    "### Cateogrical Feature Encoding"
   ]
  },
  {
   "cell_type": "markdown",
   "metadata": {},
   "source": [
    "* We will exclude SLNO and Candidate Ref columns from 'X' as they contribute nothing to the prediction\n",
    "* We will also exclude 'Status' from 'X' as it is the target variable 'y' "
   ]
  },
  {
   "cell_type": "code",
   "execution_count": 236,
   "metadata": {},
   "outputs": [],
   "source": [
    "X = df_no_ot_2[['DOJ Extended', 'Duration to accept offer',\n",
    "       'Notice period', 'Offered band', 'Pecent hike expected in CTC',\n",
    "       'Percent hike offered in CTC', 'Percent difference CTC',\n",
    "       'Joining Bonus', 'Candidate relocate actual', 'Gender',\n",
    "       'Candidate Source', 'Rex in Yrs', 'LOB', 'Location', 'Age']]"
   ]
  },
  {
   "cell_type": "markdown",
   "metadata": {},
   "source": [
    "##### Label Encoding to 'Offered band' as it is a Ordinal Variable"
   ]
  },
  {
   "cell_type": "code",
   "execution_count": null,
   "metadata": {},
   "outputs": [],
   "source": [
    "labenc = LabelEncoder()\n",
    "X['Offered band'] = labenc.fit_transform(X['Offered band'])"
   ]
  },
  {
   "cell_type": "markdown",
   "metadata": {},
   "source": [
    "##### For the remaning categorical variables, we use .get_dummies method of Pandas"
   ]
  },
  {
   "cell_type": "code",
   "execution_count": null,
   "metadata": {},
   "outputs": [],
   "source": [
    "x = pd.get_dummies(X, drop_first = True)"
   ]
  },
  {
   "cell_type": "markdown",
   "metadata": {},
   "source": [
    "##### Assigning and Encoding the target variable "
   ]
  },
  {
   "cell_type": "code",
   "execution_count": 93,
   "metadata": {},
   "outputs": [],
   "source": [
    "y = df_no_ot_2['Status'].apply(lambda x: 1 if x == 'Joined' else 0)"
   ]
  },
  {
   "cell_type": "markdown",
   "metadata": {},
   "source": [
    "### Scaling Data"
   ]
  },
  {
   "cell_type": "code",
   "execution_count": 100,
   "metadata": {},
   "outputs": [],
   "source": [
    "scaler = StandardScaler()"
   ]
  },
  {
   "cell_type": "code",
   "execution_count": 101,
   "metadata": {},
   "outputs": [],
   "source": [
    "x_scale = scaler.fit_transform(x)"
   ]
  },
  {
   "cell_type": "markdown",
   "metadata": {},
   "source": [
    "### Train Test Split"
   ]
  },
  {
   "cell_type": "code",
   "execution_count": 103,
   "metadata": {},
   "outputs": [],
   "source": [
    "x_train, x_test, y_train, y_test = train_test_split(x_scale, y, test_size = 0.3, random_state = 42)"
   ]
  },
  {
   "cell_type": "markdown",
   "metadata": {},
   "source": [
    "### Upsampling the Data\n",
    "* Since the target variable is imbalanced, the model will produce biased results, thus we need to resample the data\n",
    "* Here we are using Upsampling technique SMOTE to upsample the data"
   ]
  },
  {
   "cell_type": "code",
   "execution_count": 112,
   "metadata": {},
   "outputs": [],
   "source": [
    "sm = SMOTE(random_state=12)\n",
    "x_train_sm, y_train_sm = sm.fit_resample(x_train, y_train)"
   ]
  },
  {
   "cell_type": "markdown",
   "metadata": {},
   "source": [
    "## 4. Develop a machine learning algorithms and compare different models."
   ]
  },
  {
   "cell_type": "markdown",
   "metadata": {},
   "source": [
    "##### Creating a Function for Confusion Matrix"
   ]
  },
  {
   "cell_type": "code",
   "execution_count": 439,
   "metadata": {},
   "outputs": [],
   "source": [
    "def confusion_matrix(actuals, predicted):\n",
    "    cm = metrics.confusion_matrix(actuals, predicted, [1,0])\n",
    "    plt.figure(figsize = (8,6))\n",
    "    sns.heatmap(cm, annot = True, fmt = '.2f', xticklabels = ['Joined', 'Not Joined'], yticklabels = ['Joined', 'Not Joined'])\n",
    "\n",
    "    plt.ylabel(\"Actual Labels\")\n",
    "    plt.xlabel(\"Predicted Labels\")\n",
    "\n",
    "    plt.show()"
   ]
  },
  {
   "cell_type": "markdown",
   "metadata": {},
   "source": [
    "### Logistic Regression"
   ]
  },
  {
   "cell_type": "code",
   "execution_count": 113,
   "metadata": {},
   "outputs": [],
   "source": [
    "logreg = LogisticRegression()"
   ]
  },
  {
   "cell_type": "code",
   "execution_count": 114,
   "metadata": {},
   "outputs": [
    {
     "data": {
      "text/plain": [
       "LogisticRegression()"
      ]
     },
     "execution_count": 114,
     "metadata": {},
     "output_type": "execute_result"
    }
   ],
   "source": [
    "logreg.fit(x_train_sm, y_train_sm)"
   ]
  },
  {
   "cell_type": "code",
   "execution_count": 115,
   "metadata": {},
   "outputs": [],
   "source": [
    "y_pred = logreg.predict(x_test)"
   ]
  },
  {
   "cell_type": "code",
   "execution_count": 116,
   "metadata": {},
   "outputs": [
    {
     "name": "stdout",
     "output_type": "stream",
     "text": [
      "              precision    recall  f1-score   support\n",
      "\n",
      "           0       0.29      0.72      0.41       386\n",
      "           1       0.91      0.62      0.74      1807\n",
      "\n",
      "    accuracy                           0.64      2193\n",
      "   macro avg       0.60      0.67      0.58      2193\n",
      "weighted avg       0.80      0.64      0.68      2193\n",
      "\n"
     ]
    }
   ],
   "source": [
    "print(metrics.classification_report(y_test, y_pred))"
   ]
  },
  {
   "cell_type": "markdown",
   "metadata": {},
   "source": [
    "##### Logistic Regressor Accuracy = 64%"
   ]
  },
  {
   "cell_type": "code",
   "execution_count": 440,
   "metadata": {},
   "outputs": [
    {
     "data": {
      "image/png": "[encoded data removed]",
      "text/plain": [
       "<Figure size 576x432 with 2 Axes>"
      ]
     },
     "metadata": {
      "needs_background": "light"
     },
     "output_type": "display_data"
    }
   ],
   "source": [
    "confusion_matrix(y_test, logreg.predict(x_test))"
   ]
  },
  {
   "cell_type": "markdown",
   "metadata": {},
   "source": [
    "### Decision Tree Classifier\n",
    "* We will go for Hyperparameter Tuning to select the best hyperparameter values \n",
    "* Here we will use GridSearchCV to find the best hyperparameter values"
   ]
  },
  {
   "cell_type": "code",
   "execution_count": 121,
   "metadata": {},
   "outputs": [],
   "source": [
    "dtc = DecisionTreeClassifier()"
   ]
  },
  {
   "cell_type": "code",
   "execution_count": 122,
   "metadata": {},
   "outputs": [],
   "source": [
    "param = [{'max_depth': list(range(10, 18)), 'max_features': list(range(0,32)), 'criterion': ['gini', 'entropy']}]"
   ]
  },
  {
   "cell_type": "code",
   "execution_count": 184,
   "metadata": {},
   "outputs": [],
   "source": [
    "clf_dtc = GridSearchCV(dtc, cv = 3, param_grid = param, scoring = 'roc_auc')"
   ]
  },
  {
   "cell_type": "code",
   "execution_count": 185,
   "metadata": {},
   "outputs": [
    {
     "data": {
      "text/plain": [
       "GridSearchCV(cv=3, estimator=DecisionTreeClassifier(),\n",
       "             param_grid=[{'criterion': ['gini', 'entropy'],\n",
       "                          'max_depth': [10, 11, 12, 13, 14, 15, 16, 17],\n",
       "                          'max_features': [0, 1, 2, 3, 4, 5, 6, 7, 8, 9, 10, 11,\n",
       "                                           12, 13, 14, 15, 16, 17, 18, 19, 20,\n",
       "                                           21, 22, 23, 24, 25, 26, 27, 28, 29, ...]}],\n",
       "             scoring='roc_auc')"
      ]
     },
     "execution_count": 185,
     "metadata": {},
     "output_type": "execute_result"
    }
   ],
   "source": [
    "clf_dtc.fit(x_train_sm, y_train_sm)"
   ]
  },
  {
   "cell_type": "code",
   "execution_count": 186,
   "metadata": {},
   "outputs": [
    {
     "data": {
      "text/plain": [
       "{'criterion': 'gini', 'max_depth': 10, 'max_features': 24}"
      ]
     },
     "execution_count": 186,
     "metadata": {},
     "output_type": "execute_result"
    }
   ],
   "source": [
    "clf_dtc.best_params_"
   ]
  },
  {
   "cell_type": "code",
   "execution_count": 187,
   "metadata": {},
   "outputs": [
    {
     "name": "stdout",
     "output_type": "stream",
     "text": [
      "              precision    recall  f1-score   support\n",
      "\n",
      "           0       0.29      0.50      0.37       386\n",
      "           1       0.87      0.74      0.80      1807\n",
      "\n",
      "    accuracy                           0.70      2193\n",
      "   macro avg       0.58      0.62      0.59      2193\n",
      "weighted avg       0.77      0.70      0.73      2193\n",
      "\n"
     ]
    }
   ],
   "source": [
    "print(metrics.classification_report(y_test, clf_dtc.predict(x_test)))"
   ]
  },
  {
   "cell_type": "markdown",
   "metadata": {},
   "source": [
    "##### Tuned Decision Trees Classifier Accuracy = 70%"
   ]
  },
  {
   "cell_type": "code",
   "execution_count": 441,
   "metadata": {},
   "outputs": [
    {
     "data": {
      "image/png": "[encoded data removed]",
      "text/plain": [
       "<Figure size 576x432 with 2 Axes>"
      ]
     },
     "metadata": {
      "needs_background": "light"
     },
     "output_type": "display_data"
    }
   ],
   "source": [
    "confusion_matrix(y_test, clf_dtc.predict(x_test))"
   ]
  },
  {
   "cell_type": "markdown",
   "metadata": {},
   "source": [
    "### Random Forest Classifier\n",
    "* We will go for Hyperparameter Tuning to select the best hyperparameter values \n",
    "* Here we will use GridSearchCV to find the best hyperparameter values"
   ]
  },
  {
   "cell_type": "code",
   "execution_count": 189,
   "metadata": {},
   "outputs": [],
   "source": [
    "rfc = RandomForestClassifier()"
   ]
  },
  {
   "cell_type": "code",
   "execution_count": 190,
   "metadata": {},
   "outputs": [],
   "source": [
    "forest_params = forest_params = [{'max_depth': list(range(10, 18)), 'max_features': list(range(0,32))}]"
   ]
  },
  {
   "cell_type": "code",
   "execution_count": 191,
   "metadata": {},
   "outputs": [],
   "source": [
    "clf_rfc = GridSearchCV(rfc, cv = 3, param_grid = forest_params, scoring = 'roc_auc')"
   ]
  },
  {
   "cell_type": "code",
   "execution_count": 192,
   "metadata": {},
   "outputs": [
    {
     "data": {
      "text/plain": [
       "GridSearchCV(cv=3, estimator=RandomForestClassifier(),\n",
       "             param_grid=[{'max_depth': [10, 11, 12, 13, 14, 15, 16, 17],\n",
       "                          'max_features': [0, 1, 2, 3, 4, 5, 6, 7, 8, 9, 10, 11,\n",
       "                                           12, 13, 14, 15, 16, 17, 18, 19, 20,\n",
       "                                           21, 22, 23, 24, 25, 26, 27, 28, 29, ...]}],\n",
       "             scoring='roc_auc')"
      ]
     },
     "execution_count": 192,
     "metadata": {},
     "output_type": "execute_result"
    }
   ],
   "source": [
    "clf_rfc.fit(x_train_sm, y_train_sm)"
   ]
  },
  {
   "cell_type": "code",
   "execution_count": 244,
   "metadata": {},
   "outputs": [
    {
     "data": {
      "text/plain": [
       "{'max_depth': 17, 'max_features': 2}"
      ]
     },
     "execution_count": 244,
     "metadata": {},
     "output_type": "execute_result"
    }
   ],
   "source": [
    "clf_rfc.best_params_"
   ]
  },
  {
   "cell_type": "code",
   "execution_count": 193,
   "metadata": {},
   "outputs": [
    {
     "name": "stdout",
     "output_type": "stream",
     "text": [
      "              precision    recall  f1-score   support\n",
      "\n",
      "           0       0.45      0.38      0.41       386\n",
      "           1       0.87      0.90      0.89      1807\n",
      "\n",
      "    accuracy                           0.81      2193\n",
      "   macro avg       0.66      0.64      0.65      2193\n",
      "weighted avg       0.80      0.81      0.80      2193\n",
      "\n"
     ]
    }
   ],
   "source": [
    "print(metrics.classification_report(y_test, clf_rfc.predict(x_test)))"
   ]
  },
  {
   "cell_type": "markdown",
   "metadata": {},
   "source": [
    "##### Tuned Random Forest Classifier Accuracy = 81%"
   ]
  },
  {
   "cell_type": "code",
   "execution_count": 442,
   "metadata": {},
   "outputs": [
    {
     "data": {
      "image/png": "[encoded data removed]",
      "text/plain": [
       "<Figure size 576x432 with 2 Axes>"
      ]
     },
     "metadata": {
      "needs_background": "light"
     },
     "output_type": "display_data"
    }
   ],
   "source": [
    "confusion_matrix(y_test, clf_rfc.predict(x_test))"
   ]
  },
  {
   "cell_type": "markdown",
   "metadata": {},
   "source": [
    "### K-Nearest Neighbor Classifier\n",
    "* We will go for Hyperparameter Tuning to select the best hyperparameter values \n",
    "* Here we will use GridSearchCV to find the best hyperparameter values"
   ]
  },
  {
   "cell_type": "code",
   "execution_count": 197,
   "metadata": {},
   "outputs": [],
   "source": [
    "knn = KNeighborsClassifier()"
   ]
  },
  {
   "cell_type": "code",
   "execution_count": 198,
   "metadata": {},
   "outputs": [],
   "source": [
    "knn_params = [{'n_neighbors': range(5,10),'metric': ['canberra', 'euclidean', 'minkowski']}]"
   ]
  },
  {
   "cell_type": "code",
   "execution_count": 199,
   "metadata": {},
   "outputs": [],
   "source": [
    "clf_knn = GridSearchCV(knn, cv = 3, param_grid = knn_params, scoring = 'roc_auc')"
   ]
  },
  {
   "cell_type": "code",
   "execution_count": 200,
   "metadata": {},
   "outputs": [
    {
     "data": {
      "text/plain": [
       "GridSearchCV(cv=3, estimator=KNeighborsClassifier(),\n",
       "             param_grid=[{'metric': ['canberra', 'euclidean', 'minkowski'],\n",
       "                          'n_neighbors': range(5, 10)}],\n",
       "             scoring='roc_auc')"
      ]
     },
     "execution_count": 200,
     "metadata": {},
     "output_type": "execute_result"
    }
   ],
   "source": [
    "clf_knn.fit(x_train_sm, y_train_sm)"
   ]
  },
  {
   "cell_type": "code",
   "execution_count": 245,
   "metadata": {},
   "outputs": [
    {
     "data": {
      "text/plain": [
       "{'metric': 'canberra', 'n_neighbors': 5}"
      ]
     },
     "execution_count": 245,
     "metadata": {},
     "output_type": "execute_result"
    }
   ],
   "source": [
    "clf_knn.best_params_"
   ]
  },
  {
   "cell_type": "code",
   "execution_count": 201,
   "metadata": {},
   "outputs": [
    {
     "name": "stdout",
     "output_type": "stream",
     "text": [
      "              precision    recall  f1-score   support\n",
      "\n",
      "           0       0.34      0.51      0.40       386\n",
      "           1       0.88      0.79      0.83      1807\n",
      "\n",
      "    accuracy                           0.74      2193\n",
      "   macro avg       0.61      0.65      0.62      2193\n",
      "weighted avg       0.79      0.74      0.76      2193\n",
      "\n"
     ]
    }
   ],
   "source": [
    "print(metrics.classification_report(y_test, clf_knn.predict(x_test)))"
   ]
  },
  {
   "cell_type": "markdown",
   "metadata": {},
   "source": [
    "##### Tuned KNN Classifier Accuracy = 74%"
   ]
  },
  {
   "cell_type": "code",
   "execution_count": 443,
   "metadata": {},
   "outputs": [
    {
     "data": {
      "image/png": "[encoded data removed]",
      "text/plain": [
       "<Figure size 576x432 with 2 Axes>"
      ]
     },
     "metadata": {
      "needs_background": "light"
     },
     "output_type": "display_data"
    }
   ],
   "source": [
    "confusion_matrix(y_test, clf_knn.predict(x_test))"
   ]
  },
  {
   "cell_type": "markdown",
   "metadata": {},
   "source": [
    "### Performance Comparision"
   ]
  },
  {
   "cell_type": "markdown",
   "metadata": {},
   "source": [
    "### 1. Accuracy Scores"
   ]
  },
  {
   "cell_type": "code",
   "execution_count": 258,
   "metadata": {},
   "outputs": [],
   "source": [
    "df_acc = pd.DataFrame({'Estimators': ['Logistic Regressor', 'Decision Tree Classifier', 'Random Forest Classifier', \n",
    "                                     'K-Nearest Neighbor Classifier'],\n",
    "                     'Accuracy':['{0:.2f}'.format(metrics.accuracy_score(y_test, logreg.predict(x_test))), \n",
    "                                 '{0:.2f}'.format(metrics.accuracy_score(y_test, clf_dtc.predict(x_test))),\n",
    "                                '{0:.2f}'.format(metrics.accuracy_score(y_test, clf_rfc.predict(x_test))),\n",
    "                                '{0:.2f}'.format(metrics.accuracy_score(y_test, clf_knn.predict(x_test)))]})"
   ]
  },
  {
   "cell_type": "code",
   "execution_count": 260,
   "metadata": {},
   "outputs": [
    {
     "data": {
      "text/html": [
       "<div>\n",
       "<style scoped>\n",
       "    .dataframe tbody tr th:only-of-type {\n",
       "        vertical-align: middle;\n",
       "    }\n",
       "\n",
       "    .dataframe tbody tr th {\n",
       "        vertical-align: top;\n",
       "    }\n",
       "\n",
       "    .dataframe thead th {\n",
       "        text-align: right;\n",
       "    }\n",
       "</style>\n",
       "<table border=\"1\" class=\"dataframe\">\n",
       "  <thead>\n",
       "    <tr style=\"text-align: right;\">\n",
       "      <th></th>\n",
       "      <th>Estimators</th>\n",
       "      <th>Accuracy</th>\n",
       "    </tr>\n",
       "  </thead>\n",
       "  <tbody>\n",
       "    <tr>\n",
       "      <th>0</th>\n",
       "      <td>Logistic Regressor</td>\n",
       "      <td>0.64</td>\n",
       "    </tr>\n",
       "    <tr>\n",
       "      <th>1</th>\n",
       "      <td>Decision Tree Classifier</td>\n",
       "      <td>0.70</td>\n",
       "    </tr>\n",
       "    <tr>\n",
       "      <th>2</th>\n",
       "      <td>Random Forest Classifier</td>\n",
       "      <td>0.81</td>\n",
       "    </tr>\n",
       "    <tr>\n",
       "      <th>3</th>\n",
       "      <td>K-Nearest Neighbor Classifier</td>\n",
       "      <td>0.74</td>\n",
       "    </tr>\n",
       "  </tbody>\n",
       "</table>\n",
       "</div>"
      ],
      "text/plain": [
       "                      Estimators Accuracy\n",
       "0             Logistic Regressor     0.64\n",
       "1       Decision Tree Classifier     0.70\n",
       "2       Random Forest Classifier     0.81\n",
       "3  K-Nearest Neighbor Classifier     0.74"
      ]
     },
     "execution_count": 260,
     "metadata": {},
     "output_type": "execute_result"
    }
   ],
   "source": [
    "df_acc"
   ]
  },
  {
   "cell_type": "markdown",
   "metadata": {},
   "source": [
    "### 2. ROC - AUC Score"
   ]
  },
  {
   "cell_type": "code",
   "execution_count": 277,
   "metadata": {},
   "outputs": [
    {
     "data": {
      "image/png": "[encoded data removed]",
      "text/plain": [
       "<Figure size 1080x1080 with 4 Axes>"
      ]
     },
     "metadata": {
      "needs_background": "light"
     },
     "output_type": "display_data"
    }
   ],
   "source": [
    "fig, ax_arr = plt.subplots(nrows = 2, ncols = 2, figsize = (15,15))\n",
    "\n",
    "#LOGREG-----------------------------------------\n",
    "probs = logreg.predict_proba(x_test)\n",
    "preds = probs[:,1]\n",
    "fprlog, tprlog, thresholdlog = metrics.roc_curve(y_test, preds)\n",
    "roc_auclog = metrics.auc(fprlog, tprlog)\n",
    "\n",
    "ax_arr[0, 0].plot(fprlog, tprlog, 'b', label = 'AUC = %0.2f' % roc_auclog)\n",
    "ax_arr[0, 0].plot([0, 1], [0, 1],'r--')\n",
    "ax_arr[0, 0].set_title('Receiver Operating Characteristic Logistic Regressor')\n",
    "ax_arr[0, 0].set_ylabel('True Positive Rate',fontsize=13)\n",
    "ax_arr[0, 0].set_xlabel('False Positive Rate',fontsize=13)\n",
    "ax_arr[0, 0].legend(loc = 'lower right', prop={'size': 16})\n",
    "\n",
    "#DECISION TREE ---------------------\n",
    "probs = clf_dtc.predict_proba(x_test)\n",
    "preds = probs[:,1]\n",
    "fprdtree, tprdtree, thresholddtree = metrics.roc_curve(y_test, preds)\n",
    "roc_aucdtree = metrics.auc(fprdtree, tprdtree)\n",
    "\n",
    "ax_arr[0, 1].plot(fprdtree, tprdtree, 'b', label = 'AUC = %0.2f' % roc_aucdtree)\n",
    "ax_arr[0, 1].plot([0, 1], [0, 1],'r--')\n",
    "ax_arr[0, 1].set_title('Receiver Operating Characteristic Decision Tree Classifier')\n",
    "ax_arr[0, 1].set_ylabel('True Positive Rate',fontsize=13)\n",
    "ax_arr[0, 1].set_xlabel('False Positive Rate',fontsize=13)\n",
    "ax_arr[0, 1].legend(loc = 'lower right', prop={'size': 16})\n",
    "\n",
    "#RANDOM FOREST ---------------------\n",
    "probs = clf_rfc.predict_proba(x_test)\n",
    "preds = probs[:,1]\n",
    "fprrfc, tprrfc, threshodrfc = metrics.roc_curve(y_test, preds)\n",
    "roc_aucrfc = metrics.auc(fprrfc, tprrfc)\n",
    "\n",
    "ax_arr[1, 0].plot(fprrfc, tprrfc, 'b', label = 'AUC = %0.2f' % roc_aucrfc)\n",
    "ax_arr[1, 0].plot([0, 1], [0, 1],'r--')\n",
    "ax_arr[1, 0].set_title('Receiver Operating Characteristic Random Forest Classifier ')\n",
    "ax_arr[1, 0].set_ylabel('True Positive Rate',fontsize=13)\n",
    "ax_arr[1, 0].set_xlabel('False Positive Rate',fontsize=13)\n",
    "ax_arr[1, 0].legend(loc = 'lower right', prop={'size': 16})\n",
    "\n",
    "#KNN------------------------------------\n",
    "probs = clf_knn.predict_proba(x_test)\n",
    "preds = probs[:,1]\n",
    "fprknn, tprknn, thresholdknn = metrics.roc_curve(y_test, preds)\n",
    "roc_aucknn = metrics.auc(fprknn, tprknn)\n",
    "\n",
    "ax_arr[1, 1].plot(fprknn, tprknn, 'b', label = 'AUC = %0.2f' % roc_aucknn)\n",
    "ax_arr[1, 1].plot([0, 1], [0, 1],'r--')\n",
    "ax_arr[1, 1].set_title('Receiver Operating Characteristic KNN ')\n",
    "ax_arr[1, 1].set_ylabel('True Positive Rate',fontsize=13)\n",
    "ax_arr[1, 1].set_xlabel('False Positive Rate',fontsize=13)\n",
    "ax_arr[1, 1].legend(loc = 'lower right', prop={'size': 16})\n",
    "\n",
    "\n",
    "\n",
    "\n",
    "\n",
    "plt.show()"
   ]
  },
  {
   "cell_type": "markdown",
   "metadata": {},
   "source": [
    "### Based on the Accuracy Score and ROC - AUC Values, we can conclude that out of four estimators, Random Forest performed well for the given dataset."
   ]
  },
  {
   "cell_type": "markdown",
   "metadata": {},
   "source": [
    "### Predictive Analysis Conclusions\n",
    "\n",
    "* For the given Dataset, the Random Forest Classifier for the given hyperparameters performed well than others while Logistic Regressor performed worst.\n",
    "* This result is based on Accuracy Score and ROC - AUC Score\n",
    "* Since the target variable imbalanced, We can try resampling by downsampling the records and can build models\n",
    "* We can look for more performance metrics to improve the model performance and selecting the best one.\n",
    "* During Outlier Analysis, we removed outliers of 'Percent difference CTC' and 'Duration to accept offer'\n",
    "* We can also look for outliers in 'Percent offered in CTC' and 'Percent expected in CTC' with caution as we may lose data. We can keep alpha = 0.01 for this case\n",
    "* Trying different random states can change the results slightly\n",
    "* We can also perform more rigorous Hyperparameter Tuning to get a more precise model, but this will incur more cost"
   ]
  }
 ],
 "metadata": {
  "kernelspec": {
   "display_name": "Python 3",
   "language": "python",
   "name": "python3"
  },
  "language_info": {
   "codemirror_mode": {
    "name": "ipython",
    "version": 3
   },
   "file_extension": ".py",
   "mimetype": "text/x-python",
   "name": "python",
   "nbconvert_exporter": "python",
   "pygments_lexer": "ipython3",
   "version": "3.8.5"
  }
 },
 "nbformat": 4,
 "nbformat_minor": 4
}
