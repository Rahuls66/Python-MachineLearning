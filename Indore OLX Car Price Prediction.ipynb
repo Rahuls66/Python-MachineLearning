{
 "cells": [
  {
   "cell_type": "code",
   "execution_count": 1,
   "metadata": {},
   "outputs": [],
   "source": [
    "# This Project is based on the popular Used Car Price Prediction Project.\n",
    "# In this project, I had scrpaed the data of Used Cars from OLX.in for Indore, India (last updated 6th Agust, 2021)\n",
    "# OLX.in is a popualr marketplace for selling and contacting sellers for used products.\n",
    "\n",
    "# The dataset used here is scraped directly from OLX.in and the information may not be 100% correct.\n",
    "# The correctness of the vehicle information depends upon the advertiser(s)."
   ]
  },
  {
   "cell_type": "code",
   "execution_count": 2,
   "metadata": {},
   "outputs": [],
   "source": [
    "import numpy as np\n",
    "import pandas as pd\n",
    "\n",
    "import matplotlib.pyplot as plt\n",
    "import seaborn as sns\n",
    "\n",
    "from sklearn.model_selection import train_test_split\n",
    "from sklearn.linear_model import LinearRegression, Lasso, Ridge, ElasticNet\n",
    "from sklearn import metrics\n",
    "import statsmodels.api as sm\n",
    "\n",
    "import warnings\n",
    "warnings.filterwarnings('ignore')\n",
    "\n",
    "pd.set_option('display.float_format','{:.2f}'.format)"
   ]
  },
  {
   "cell_type": "code",
   "execution_count": 3,
   "metadata": {},
   "outputs": [],
   "source": [
    "df = pd.read_csv('OLX_Indore.csv')"
   ]
  },
  {
   "cell_type": "code",
   "execution_count": 4,
   "metadata": {},
   "outputs": [],
   "source": [
    "df = df.drop('Unnamed: 0', axis = 1)"
   ]
  },
  {
   "cell_type": "code",
   "execution_count": 5,
   "metadata": {},
   "outputs": [
    {
     "data": {
      "text/html": [
       "<div>\n",
       "<style scoped>\n",
       "    .dataframe tbody tr th:only-of-type {\n",
       "        vertical-align: middle;\n",
       "    }\n",
       "\n",
       "    .dataframe tbody tr th {\n",
       "        vertical-align: top;\n",
       "    }\n",
       "\n",
       "    .dataframe thead th {\n",
       "        text-align: right;\n",
       "    }\n",
       "</style>\n",
       "<table border=\"1\" class=\"dataframe\">\n",
       "  <thead>\n",
       "    <tr style=\"text-align: right;\">\n",
       "      <th></th>\n",
       "      <th>Title</th>\n",
       "      <th>Make</th>\n",
       "      <th>Year</th>\n",
       "      <th>KM</th>\n",
       "      <th>Fuel Type</th>\n",
       "      <th>Price</th>\n",
       "    </tr>\n",
       "  </thead>\n",
       "  <tbody>\n",
       "    <tr>\n",
       "      <th>0</th>\n",
       "      <td>Mahindra Scorpio S4 Plus, 2017, Diesel</td>\n",
       "      <td>Mahindra</td>\n",
       "      <td>2017</td>\n",
       "      <td>57000</td>\n",
       "      <td>Diesel</td>\n",
       "      <td>951000</td>\n",
       "    </tr>\n",
       "    <tr>\n",
       "      <th>1</th>\n",
       "      <td>Maruti Suzuki S Cross Zeta DDiS 200 SH, 2018, ...</td>\n",
       "      <td>Maruti</td>\n",
       "      <td>2018</td>\n",
       "      <td>37982</td>\n",
       "      <td>Diesel</td>\n",
       "      <td>950000</td>\n",
       "    </tr>\n",
       "    <tr>\n",
       "      <th>2</th>\n",
       "      <td>Renault Fluence E4 D, 2012, Diesel</td>\n",
       "      <td>Renault</td>\n",
       "      <td>2012</td>\n",
       "      <td>99447</td>\n",
       "      <td>Diesel</td>\n",
       "      <td>365000</td>\n",
       "    </tr>\n",
       "    <tr>\n",
       "      <th>3</th>\n",
       "      <td>Toyota Innova Crysta 2.8 ZX AT, 2018, Diesel</td>\n",
       "      <td>Toyota</td>\n",
       "      <td>2018</td>\n",
       "      <td>98000</td>\n",
       "      <td>Diesel</td>\n",
       "      <td>2000000</td>\n",
       "    </tr>\n",
       "    <tr>\n",
       "      <th>4</th>\n",
       "      <td>Maruti Suzuki Alto K10 VXI, 2012, Petrol</td>\n",
       "      <td>Maruti</td>\n",
       "      <td>2012</td>\n",
       "      <td>66500</td>\n",
       "      <td>Petrol</td>\n",
       "      <td>230000</td>\n",
       "    </tr>\n",
       "  </tbody>\n",
       "</table>\n",
       "</div>"
      ],
      "text/plain": [
       "                                               Title      Make  Year     KM  \\\n",
       "0             Mahindra Scorpio S4 Plus, 2017, Diesel  Mahindra  2017  57000   \n",
       "1  Maruti Suzuki S Cross Zeta DDiS 200 SH, 2018, ...    Maruti  2018  37982   \n",
       "2                 Renault Fluence E4 D, 2012, Diesel   Renault  2012  99447   \n",
       "3       Toyota Innova Crysta 2.8 ZX AT, 2018, Diesel    Toyota  2018  98000   \n",
       "4           Maruti Suzuki Alto K10 VXI, 2012, Petrol    Maruti  2012  66500   \n",
       "\n",
       "  Fuel Type    Price  \n",
       "0    Diesel   951000  \n",
       "1    Diesel   950000  \n",
       "2    Diesel   365000  \n",
       "3    Diesel  2000000  \n",
       "4    Petrol   230000  "
      ]
     },
     "execution_count": 5,
     "metadata": {},
     "output_type": "execute_result"
    }
   ],
   "source": [
    "df.head()"
   ]
  },
  {
   "cell_type": "code",
   "execution_count": 6,
   "metadata": {},
   "outputs": [
    {
     "data": {
      "text/html": [
       "<div>\n",
       "<style scoped>\n",
       "    .dataframe tbody tr th:only-of-type {\n",
       "        vertical-align: middle;\n",
       "    }\n",
       "\n",
       "    .dataframe tbody tr th {\n",
       "        vertical-align: top;\n",
       "    }\n",
       "\n",
       "    .dataframe thead th {\n",
       "        text-align: right;\n",
       "    }\n",
       "</style>\n",
       "<table border=\"1\" class=\"dataframe\">\n",
       "  <thead>\n",
       "    <tr style=\"text-align: right;\">\n",
       "      <th></th>\n",
       "      <th>Year</th>\n",
       "      <th>KM</th>\n",
       "      <th>Price</th>\n",
       "    </tr>\n",
       "  </thead>\n",
       "  <tbody>\n",
       "    <tr>\n",
       "      <th>count</th>\n",
       "      <td>518.00</td>\n",
       "      <td>518.00</td>\n",
       "      <td>518.00</td>\n",
       "    </tr>\n",
       "    <tr>\n",
       "      <th>mean</th>\n",
       "      <td>2012.19</td>\n",
       "      <td>66485.66</td>\n",
       "      <td>446507.45</td>\n",
       "    </tr>\n",
       "    <tr>\n",
       "      <th>std</th>\n",
       "      <td>5.46</td>\n",
       "      <td>44058.16</td>\n",
       "      <td>392975.67</td>\n",
       "    </tr>\n",
       "    <tr>\n",
       "      <th>min</th>\n",
       "      <td>1964.00</td>\n",
       "      <td>0.00</td>\n",
       "      <td>15000.00</td>\n",
       "    </tr>\n",
       "    <tr>\n",
       "      <th>25%</th>\n",
       "      <td>2010.00</td>\n",
       "      <td>40375.00</td>\n",
       "      <td>180000.00</td>\n",
       "    </tr>\n",
       "    <tr>\n",
       "      <th>50%</th>\n",
       "      <td>2013.00</td>\n",
       "      <td>65000.00</td>\n",
       "      <td>350000.00</td>\n",
       "    </tr>\n",
       "    <tr>\n",
       "      <th>75%</th>\n",
       "      <td>2016.00</td>\n",
       "      <td>84000.00</td>\n",
       "      <td>590000.00</td>\n",
       "    </tr>\n",
       "    <tr>\n",
       "      <th>max</th>\n",
       "      <td>2021.00</td>\n",
       "      <td>350000.00</td>\n",
       "      <td>3000000.00</td>\n",
       "    </tr>\n",
       "  </tbody>\n",
       "</table>\n",
       "</div>"
      ],
      "text/plain": [
       "         Year        KM      Price\n",
       "count  518.00    518.00     518.00\n",
       "mean  2012.19  66485.66  446507.45\n",
       "std      5.46  44058.16  392975.67\n",
       "min   1964.00      0.00   15000.00\n",
       "25%   2010.00  40375.00  180000.00\n",
       "50%   2013.00  65000.00  350000.00\n",
       "75%   2016.00  84000.00  590000.00\n",
       "max   2021.00 350000.00 3000000.00"
      ]
     },
     "execution_count": 6,
     "metadata": {},
     "output_type": "execute_result"
    }
   ],
   "source": [
    "df.describe()"
   ]
  },
  {
   "cell_type": "code",
   "execution_count": 7,
   "metadata": {},
   "outputs": [
    {
     "name": "stdout",
     "output_type": "stream",
     "text": [
      "<class 'pandas.core.frame.DataFrame'>\n",
      "RangeIndex: 518 entries, 0 to 517\n",
      "Data columns (total 6 columns):\n",
      " #   Column     Non-Null Count  Dtype \n",
      "---  ------     --------------  ----- \n",
      " 0   Title      518 non-null    object\n",
      " 1   Make       518 non-null    object\n",
      " 2   Year       518 non-null    int64 \n",
      " 3   KM         518 non-null    int64 \n",
      " 4   Fuel Type  518 non-null    object\n",
      " 5   Price      518 non-null    int64 \n",
      "dtypes: int64(3), object(3)\n",
      "memory usage: 24.4+ KB\n"
     ]
    }
   ],
   "source": [
    "df.info()"
   ]
  },
  {
   "cell_type": "code",
   "execution_count": 8,
   "metadata": {},
   "outputs": [],
   "source": [
    "df[['KM', 'Price']] = df[['KM', 'Price']].astype('float')"
   ]
  },
  {
   "cell_type": "code",
   "execution_count": 9,
   "metadata": {},
   "outputs": [],
   "source": [
    "df['Year'] = pd.to_datetime(df.Year, format='%Y').dt.year"
   ]
  },
  {
   "cell_type": "code",
   "execution_count": 10,
   "metadata": {},
   "outputs": [
    {
     "data": {
      "text/plain": [
       "array(['Mahindra', 'Maruti', 'Renault', 'Toyota', 'Hyundai', 'Chevrolet',\n",
       "       'Tata', \"Doctor's\", 'Honda', 'Ritz', 'Top', 'Excellent', 'Bajaj',\n",
       "       'Saverlate', 'Mitsubishi', 'Good', 'Alto', 'HYUNDAI', 'Skoda',\n",
       "       'Ford', 'Kesar', 'Aziz', 'Baleno', 'Toyota,', 'Wagons', 'Datsun',\n",
       "       'Company', 'Full', 'Sell', 'New', '250000', 'BMW', 'Original',\n",
       "       'Vitara', 'Volkswagen', 'Power', 'Ganesh', 'Best', 'बजाज',\n",
       "       'Maximo', 'Almost', 'फुल', '2015', 'Nissan', 'Fiat', 'Safari',\n",
       "       'White', 'Brand', 'Audi', 'Money', 'मुझे', 'This', 'First',\n",
       "       'Indigo', 'Urgent', 'A', 'Hiii', 'I10', 'Bicholi', 'Single',\n",
       "       'Smart', 'Mercedes-Benz', 'Self', 'सिंगल', 'वेष्णौदेविवालेसिक्के',\n",
       "       'बादशाह', 'car', 'Old', 'कार', 'Opel', 'Tuv', 'Well', 'Aakodiya',\n",
       "       'Wagenor', 'Kab', 'Royal', 'Insurance', 'Nov', 'Nayi', 'Tavera',\n",
       "       'Urjent', 'Jeep', 'Ajent', 'Exelent', 'Indica', 'Swift', 'Soda',\n",
       "       'Second', '1', 'Very', 'seed', 'Fast', 'My', '2008', 'Scorpio',\n",
       "       'Argent', 'Aarjent', 'Vikram', 'Leyland', 'Injan', '17', 'only',\n",
       "       'Ajax', 'Force', 'new', 'Picap', 'TOP'], dtype=object)"
      ]
     },
     "execution_count": 10,
     "metadata": {},
     "output_type": "execute_result"
    }
   ],
   "source": [
    "df.Make.unique()"
   ]
  },
  {
   "cell_type": "code",
   "execution_count": 11,
   "metadata": {},
   "outputs": [],
   "source": [
    "df.Make = df.Make.replace({'Maruti':'Maruti Suzuki',\n",
    "                             'Swift':'Maruti Suzuki',\n",
    "                            'Ritz':'Maruti Suzuki',\n",
    "                            'Baleno':'Maruti Suzuki',\n",
    "                            'Toyota,':'Toyota',\n",
    "                            'Alto':'Maruti Suzuki',\n",
    "                            'बजाज':'Bajaj',\n",
    "                            'VERNA':'Hyundai',\n",
    "                            'Safari':'Tata',\n",
    "                            'Indigo':'Tata',\n",
    "                            'Tuv':'Mahindra',\n",
    "                            'I.10':'Hyundai',\n",
    "                            'Bolero':'Mahindra',\n",
    "                            'Saverlate':'Chevrolet',\n",
    "                            'महिन्द्रा':'Mahindra',\n",
    "                            'Scorpio':'Mahindra',\n",
    "                            'Vitara':'Maruti Suzuki',\n",
    "                            'HYUNDAI':'Hyundai',\n",
    "                            'Wagenor':'Maruti Suzuki',\n",
    "                            'Tavera':'Chevrolet',\n",
    "                            })"
   ]
  },
  {
   "cell_type": "code",
   "execution_count": 12,
   "metadata": {},
   "outputs": [],
   "source": [
    "df_new = df[(df[\"Make\"] == 'Maruti Suzuki') |\n",
    "            (df[\"Make\"] == 'Toyota') |\n",
    "            (df[\"Make\"] == 'Bajaj') |\n",
    "            (df[\"Make\"] == 'Hyundai') |\n",
    "            (df[\"Make\"] == 'Tata') |\n",
    "            (df[\"Make\"] == 'Mahindra') |\n",
    "            (df[\"Make\"] == 'Chevrolet') |\n",
    "            (df[\"Make\"] == 'Audi') |\n",
    "            (df[\"Make\"] == 'Hinda') |\n",
    "            (df[\"Make\"] == 'BMW') |\n",
    "            (df[\"Make\"] == 'Jeep') |\n",
    "            (df[\"Make\"] == 'Skoda') |\n",
    "            (df[\"Make\"] == 'Renault') |\n",
    "            (df[\"Make\"] == 'Mercedes-Benz') |\n",
    "            (df[\"Make\"] == 'Volswagen') |\n",
    "            (df[\"Make\"] == 'Bajaj') |\n",
    "            (df[\"Make\"] == 'Datsun') |\n",
    "            (df[\"Make\"] == 'Ford') |\n",
    "            (df[\"Make\"] == 'Nissan') |\n",
    "            (df[\"Make\"] == 'Mitsubishi') |\n",
    "            (df[\"Make\"] == 'Fiat') |\n",
    "            (df[\"Make\"] == 'Ssangyong') |\n",
    "            (df[\"Make\"] == 'Eicher') |\n",
    "            (df[\"Make\"] == 'Opel')\n",
    "           ]"
   ]
  },
  {
   "cell_type": "code",
   "execution_count": 13,
   "metadata": {},
   "outputs": [
    {
     "data": {
      "text/html": [
       "<div>\n",
       "<style scoped>\n",
       "    .dataframe tbody tr th:only-of-type {\n",
       "        vertical-align: middle;\n",
       "    }\n",
       "\n",
       "    .dataframe tbody tr th {\n",
       "        vertical-align: top;\n",
       "    }\n",
       "\n",
       "    .dataframe thead th {\n",
       "        text-align: right;\n",
       "    }\n",
       "</style>\n",
       "<table border=\"1\" class=\"dataframe\">\n",
       "  <thead>\n",
       "    <tr style=\"text-align: right;\">\n",
       "      <th></th>\n",
       "      <th>Title</th>\n",
       "      <th>Make</th>\n",
       "      <th>Year</th>\n",
       "      <th>KM</th>\n",
       "      <th>Fuel Type</th>\n",
       "      <th>Price</th>\n",
       "    </tr>\n",
       "  </thead>\n",
       "  <tbody>\n",
       "    <tr>\n",
       "      <th>0</th>\n",
       "      <td>Mahindra Scorpio S4 Plus, 2017, Diesel</td>\n",
       "      <td>Mahindra</td>\n",
       "      <td>2017</td>\n",
       "      <td>57000.00</td>\n",
       "      <td>Diesel</td>\n",
       "      <td>951000.00</td>\n",
       "    </tr>\n",
       "    <tr>\n",
       "      <th>1</th>\n",
       "      <td>Maruti Suzuki S Cross Zeta DDiS 200 SH, 2018, ...</td>\n",
       "      <td>Maruti Suzuki</td>\n",
       "      <td>2018</td>\n",
       "      <td>37982.00</td>\n",
       "      <td>Diesel</td>\n",
       "      <td>950000.00</td>\n",
       "    </tr>\n",
       "    <tr>\n",
       "      <th>2</th>\n",
       "      <td>Renault Fluence E4 D, 2012, Diesel</td>\n",
       "      <td>Renault</td>\n",
       "      <td>2012</td>\n",
       "      <td>99447.00</td>\n",
       "      <td>Diesel</td>\n",
       "      <td>365000.00</td>\n",
       "    </tr>\n",
       "    <tr>\n",
       "      <th>3</th>\n",
       "      <td>Toyota Innova Crysta 2.8 ZX AT, 2018, Diesel</td>\n",
       "      <td>Toyota</td>\n",
       "      <td>2018</td>\n",
       "      <td>98000.00</td>\n",
       "      <td>Diesel</td>\n",
       "      <td>2000000.00</td>\n",
       "    </tr>\n",
       "    <tr>\n",
       "      <th>4</th>\n",
       "      <td>Maruti Suzuki Alto K10 VXI, 2012, Petrol</td>\n",
       "      <td>Maruti Suzuki</td>\n",
       "      <td>2012</td>\n",
       "      <td>66500.00</td>\n",
       "      <td>Petrol</td>\n",
       "      <td>230000.00</td>\n",
       "    </tr>\n",
       "  </tbody>\n",
       "</table>\n",
       "</div>"
      ],
      "text/plain": [
       "                                               Title           Make  Year  \\\n",
       "0             Mahindra Scorpio S4 Plus, 2017, Diesel       Mahindra  2017   \n",
       "1  Maruti Suzuki S Cross Zeta DDiS 200 SH, 2018, ...  Maruti Suzuki  2018   \n",
       "2                 Renault Fluence E4 D, 2012, Diesel        Renault  2012   \n",
       "3       Toyota Innova Crysta 2.8 ZX AT, 2018, Diesel         Toyota  2018   \n",
       "4           Maruti Suzuki Alto K10 VXI, 2012, Petrol  Maruti Suzuki  2012   \n",
       "\n",
       "        KM Fuel Type      Price  \n",
       "0 57000.00    Diesel  951000.00  \n",
       "1 37982.00    Diesel  950000.00  \n",
       "2 99447.00    Diesel  365000.00  \n",
       "3 98000.00    Diesel 2000000.00  \n",
       "4 66500.00    Petrol  230000.00  "
      ]
     },
     "execution_count": 13,
     "metadata": {},
     "output_type": "execute_result"
    }
   ],
   "source": [
    "df_new.head()"
   ]
  },
  {
   "cell_type": "markdown",
   "metadata": {},
   "source": [
    "## EDA"
   ]
  },
  {
   "cell_type": "markdown",
   "metadata": {},
   "source": [
    "#### Title \n"
   ]
  },
  {
   "cell_type": "code",
   "execution_count": 14,
   "metadata": {},
   "outputs": [
    {
     "data": {
      "text/plain": [
       "Maruti Suzuki    123\n",
       "Hyundai           59\n",
       "Tata              52\n",
       "Mahindra          48\n",
       "Chevrolet         27\n",
       "Toyota            26\n",
       "Skoda             14\n",
       "Ford              14\n",
       "Renault            8\n",
       "Nissan             5\n",
       "BMW                4\n",
       "Fiat               4\n",
       "Bajaj              3\n",
       "Audi               3\n",
       "Mitsubishi         2\n",
       "Datsun             2\n",
       "Jeep               1\n",
       "Opel               1\n",
       "Mercedes-Benz      1\n",
       "Name: Make, dtype: int64"
      ]
     },
     "execution_count": 14,
     "metadata": {},
     "output_type": "execute_result"
    }
   ],
   "source": [
    "df_new.Make.value_counts()"
   ]
  },
  {
   "cell_type": "code",
   "execution_count": 15,
   "metadata": {},
   "outputs": [
    {
     "data": {
      "image/png": "[encoded data removed]",
      "text/plain": [
       "<Figure size 864x432 with 1 Axes>"
      ]
     },
     "metadata": {
      "needs_background": "light"
     },
     "output_type": "display_data"
    }
   ],
   "source": [
    "plt.figure(figsize = (12,6))\n",
    "\n",
    "sns.countplot(df_new['Make'])\n",
    "\n",
    "plt.title('Count of the Vehicles by Make')\n",
    "plt.xlabel('Make of Vehicle')\n",
    "plt.ylabel('Count')\n",
    "plt.xticks(rotation  = '90')\n",
    "\n",
    "plt.show()"
   ]
  },
  {
   "cell_type": "markdown",
   "metadata": {},
   "source": [
    "#### Fuel"
   ]
  },
  {
   "cell_type": "code",
   "execution_count": 16,
   "metadata": {},
   "outputs": [
    {
     "data": {
      "text/plain": [
       "Diesel    315\n",
       "Petrol     82\n",
       "Name: Fuel Type, dtype: int64"
      ]
     },
     "execution_count": 16,
     "metadata": {},
     "output_type": "execute_result"
    }
   ],
   "source": [
    "df_new['Fuel Type'].value_counts()"
   ]
  },
  {
   "cell_type": "code",
   "execution_count": 17,
   "metadata": {},
   "outputs": [
    {
     "data": {
      "image/png": "[encoded data removed]",
      "text/plain": [
       "<Figure size 864x432 with 1 Axes>"
      ]
     },
     "metadata": {
      "needs_background": "light"
     },
     "output_type": "display_data"
    }
   ],
   "source": [
    "plt.figure(figsize = (12,6))\n",
    "\n",
    "sns.countplot(df_new['Fuel Type'])\n",
    "\n",
    "plt.title('Count of Vehicles by Fuel Type')\n",
    "plt.xlabel('Fuel Type')\n",
    "plt.ylabel('Count')\n",
    "plt.xticks(rotation  = '90')\n",
    "\n",
    "plt.show()"
   ]
  },
  {
   "cell_type": "markdown",
   "metadata": {},
   "source": [
    "#### Year"
   ]
  },
  {
   "cell_type": "code",
   "execution_count": 18,
   "metadata": {},
   "outputs": [
    {
     "data": {
      "text/plain": [
       "2012    41\n",
       "2013    37\n",
       "2015    33\n",
       "2011    31\n",
       "2017    30\n",
       "2016    28\n",
       "2018    26\n",
       "2014    26\n",
       "2010    23\n",
       "2019    20\n",
       "2007    19\n",
       "2009    18\n",
       "2008    16\n",
       "2006    11\n",
       "2001     6\n",
       "2000     5\n",
       "2004     4\n",
       "2003     4\n",
       "1998     3\n",
       "2021     3\n",
       "2020     3\n",
       "2005     2\n",
       "1999     2\n",
       "1996     2\n",
       "2002     1\n",
       "1995     1\n",
       "1993     1\n",
       "1964     1\n",
       "Name: Year, dtype: int64"
      ]
     },
     "execution_count": 18,
     "metadata": {},
     "output_type": "execute_result"
    }
   ],
   "source": [
    "df_new.Year.value_counts()"
   ]
  },
  {
   "cell_type": "code",
   "execution_count": 19,
   "metadata": {},
   "outputs": [
    {
     "data": {
      "image/png": "[encoded data removed]",
      "text/plain": [
       "<Figure size 864x432 with 1 Axes>"
      ]
     },
     "metadata": {
      "needs_background": "light"
     },
     "output_type": "display_data"
    }
   ],
   "source": [
    "plt.figure(figsize = (12,6))\n",
    "\n",
    "sns.countplot(df_new['Year'])\n",
    "\n",
    "plt.title('Count of Vehicles for the Year of First Hand Purchase')\n",
    "plt.xlabel('Year')\n",
    "plt.xticks(rotation  = '90')\n",
    "\n",
    "plt.show()"
   ]
  },
  {
   "cell_type": "code",
   "execution_count": 20,
   "metadata": {},
   "outputs": [
    {
     "data": {
      "image/png": "[encoded data removed]",
      "text/plain": [
       "<Figure size 864x432 with 1 Axes>"
      ]
     },
     "metadata": {
      "needs_background": "light"
     },
     "output_type": "display_data"
    }
   ],
   "source": [
    "plt.figure(figsize = (12,6))\n",
    "\n",
    "sns.countplot(df_new['Year'], hue=  df_new['Fuel Type'], palette='rocket')\n",
    "plt.title('Count of Vehicles for the Year of First Hand Purchase by Fuel Type')\n",
    "plt.xlabel('Year')\n",
    "plt.ylabel('count')\n",
    "plt.xticks(rotation  = '90')\n",
    "\n",
    "plt.show()"
   ]
  },
  {
   "cell_type": "markdown",
   "metadata": {},
   "source": [
    "#### KM"
   ]
  },
  {
   "cell_type": "code",
   "execution_count": 21,
   "metadata": {},
   "outputs": [
    {
     "data": {
      "image/png": "[encoded data removed]",
      "text/plain": [
       "<Figure size 864x432 with 1 Axes>"
      ]
     },
     "metadata": {
      "needs_background": "light"
     },
     "output_type": "display_data"
    }
   ],
   "source": [
    "plt.figure(figsize = (12,6))\n",
    "\n",
    "sns.histplot(df_new['KM'], color = 'Orange')\n",
    "plt.title('Distribution of Distance travelled by Vehicles')\n",
    "plt.xlabel('Distance (in KMs)')\n",
    "plt.ylabel('Count')\n",
    "\n",
    "plt.show()"
   ]
  },
  {
   "cell_type": "code",
   "execution_count": 22,
   "metadata": {},
   "outputs": [],
   "source": [
    "# Most of the Vehicles had travelled 50,000 to 1,00,000 KMs"
   ]
  },
  {
   "cell_type": "code",
   "execution_count": 23,
   "metadata": {},
   "outputs": [
    {
     "data": {
      "image/png": "[encoded data removed]",
      "text/plain": [
       "<Figure size 864x432 with 1 Axes>"
      ]
     },
     "metadata": {
      "needs_background": "light"
     },
     "output_type": "display_data"
    }
   ],
   "source": [
    "plt.figure(figsize = (12,6))\n",
    "\n",
    "sns.boxplot(df_new['KM'])\n",
    "plt.title('Box Plot of Distance Travelled by Vehicles')\n",
    "plt.xlabel('Distance (in KMs)')\n",
    "\n",
    "plt.show()"
   ]
  },
  {
   "cell_type": "markdown",
   "metadata": {},
   "source": [
    "### Outlier Analysis"
   ]
  },
  {
   "cell_type": "code",
   "execution_count": 24,
   "metadata": {},
   "outputs": [
    {
     "data": {
      "text/html": [
       "<div>\n",
       "<style scoped>\n",
       "    .dataframe tbody tr th:only-of-type {\n",
       "        vertical-align: middle;\n",
       "    }\n",
       "\n",
       "    .dataframe tbody tr th {\n",
       "        vertical-align: top;\n",
       "    }\n",
       "\n",
       "    .dataframe thead th {\n",
       "        text-align: right;\n",
       "    }\n",
       "</style>\n",
       "<table border=\"1\" class=\"dataframe\">\n",
       "  <thead>\n",
       "    <tr style=\"text-align: right;\">\n",
       "      <th></th>\n",
       "      <th>Year</th>\n",
       "      <th>KM</th>\n",
       "      <th>Price</th>\n",
       "    </tr>\n",
       "  </thead>\n",
       "  <tbody>\n",
       "    <tr>\n",
       "      <th>count</th>\n",
       "      <td>397.00</td>\n",
       "      <td>397.00</td>\n",
       "      <td>397.00</td>\n",
       "    </tr>\n",
       "    <tr>\n",
       "      <th>mean</th>\n",
       "      <td>2012.10</td>\n",
       "      <td>70322.84</td>\n",
       "      <td>462029.66</td>\n",
       "    </tr>\n",
       "    <tr>\n",
       "      <th>std</th>\n",
       "      <td>5.51</td>\n",
       "      <td>42449.55</td>\n",
       "      <td>399187.15</td>\n",
       "    </tr>\n",
       "    <tr>\n",
       "      <th>min</th>\n",
       "      <td>1964.00</td>\n",
       "      <td>0.00</td>\n",
       "      <td>15000.00</td>\n",
       "    </tr>\n",
       "    <tr>\n",
       "      <th>25%</th>\n",
       "      <td>2010.00</td>\n",
       "      <td>45000.00</td>\n",
       "      <td>185000.00</td>\n",
       "    </tr>\n",
       "    <tr>\n",
       "      <th>50%</th>\n",
       "      <td>2013.00</td>\n",
       "      <td>66200.00</td>\n",
       "      <td>350000.00</td>\n",
       "    </tr>\n",
       "    <tr>\n",
       "      <th>75%</th>\n",
       "      <td>2016.00</td>\n",
       "      <td>85000.00</td>\n",
       "      <td>611000.00</td>\n",
       "    </tr>\n",
       "    <tr>\n",
       "      <th>max</th>\n",
       "      <td>2021.00</td>\n",
       "      <td>350000.00</td>\n",
       "      <td>2500000.00</td>\n",
       "    </tr>\n",
       "  </tbody>\n",
       "</table>\n",
       "</div>"
      ],
      "text/plain": [
       "         Year        KM      Price\n",
       "count  397.00    397.00     397.00\n",
       "mean  2012.10  70322.84  462029.66\n",
       "std      5.51  42449.55  399187.15\n",
       "min   1964.00      0.00   15000.00\n",
       "25%   2010.00  45000.00  185000.00\n",
       "50%   2013.00  66200.00  350000.00\n",
       "75%   2016.00  85000.00  611000.00\n",
       "max   2021.00 350000.00 2500000.00"
      ]
     },
     "execution_count": 24,
     "metadata": {},
     "output_type": "execute_result"
    }
   ],
   "source": [
    "df_new.describe()"
   ]
  },
  {
   "cell_type": "code",
   "execution_count": 25,
   "metadata": {},
   "outputs": [],
   "source": [
    "# Removing top 1% records based on KM to avoid outliers."
   ]
  },
  {
   "cell_type": "code",
   "execution_count": 26,
   "metadata": {},
   "outputs": [
    {
     "data": {
      "text/plain": [
       "201200.0000000006"
      ]
     },
     "execution_count": 26,
     "metadata": {},
     "output_type": "execute_result"
    }
   ],
   "source": [
    "np.quantile(df_new['KM'], 0.99)"
   ]
  },
  {
   "cell_type": "code",
   "execution_count": 27,
   "metadata": {},
   "outputs": [],
   "source": [
    "df_no_ot = df_new[df_new['KM'] < np.quantile(df_new['KM'], 0.99)]"
   ]
  },
  {
   "cell_type": "code",
   "execution_count": 28,
   "metadata": {},
   "outputs": [
    {
     "data": {
      "text/html": [
       "<div>\n",
       "<style scoped>\n",
       "    .dataframe tbody tr th:only-of-type {\n",
       "        vertical-align: middle;\n",
       "    }\n",
       "\n",
       "    .dataframe tbody tr th {\n",
       "        vertical-align: top;\n",
       "    }\n",
       "\n",
       "    .dataframe thead th {\n",
       "        text-align: right;\n",
       "    }\n",
       "</style>\n",
       "<table border=\"1\" class=\"dataframe\">\n",
       "  <thead>\n",
       "    <tr style=\"text-align: right;\">\n",
       "      <th></th>\n",
       "      <th>Year</th>\n",
       "      <th>KM</th>\n",
       "      <th>Price</th>\n",
       "    </tr>\n",
       "  </thead>\n",
       "  <tbody>\n",
       "    <tr>\n",
       "      <th>count</th>\n",
       "      <td>393.00</td>\n",
       "      <td>393.00</td>\n",
       "      <td>393.00</td>\n",
       "    </tr>\n",
       "    <tr>\n",
       "      <th>mean</th>\n",
       "      <td>2012.11</td>\n",
       "      <td>68239.87</td>\n",
       "      <td>464073.22</td>\n",
       "    </tr>\n",
       "    <tr>\n",
       "      <th>std</th>\n",
       "      <td>5.53</td>\n",
       "      <td>36985.92</td>\n",
       "      <td>400424.32</td>\n",
       "    </tr>\n",
       "    <tr>\n",
       "      <th>min</th>\n",
       "      <td>1964.00</td>\n",
       "      <td>0.00</td>\n",
       "      <td>15000.00</td>\n",
       "    </tr>\n",
       "    <tr>\n",
       "      <th>25%</th>\n",
       "      <td>2010.00</td>\n",
       "      <td>45000.00</td>\n",
       "      <td>190000.00</td>\n",
       "    </tr>\n",
       "    <tr>\n",
       "      <th>50%</th>\n",
       "      <td>2013.00</td>\n",
       "      <td>65870.00</td>\n",
       "      <td>350000.00</td>\n",
       "    </tr>\n",
       "    <tr>\n",
       "      <th>75%</th>\n",
       "      <td>2016.00</td>\n",
       "      <td>85000.00</td>\n",
       "      <td>611000.00</td>\n",
       "    </tr>\n",
       "    <tr>\n",
       "      <th>max</th>\n",
       "      <td>2021.00</td>\n",
       "      <td>200000.00</td>\n",
       "      <td>2500000.00</td>\n",
       "    </tr>\n",
       "  </tbody>\n",
       "</table>\n",
       "</div>"
      ],
      "text/plain": [
       "         Year        KM      Price\n",
       "count  393.00    393.00     393.00\n",
       "mean  2012.11  68239.87  464073.22\n",
       "std      5.53  36985.92  400424.32\n",
       "min   1964.00      0.00   15000.00\n",
       "25%   2010.00  45000.00  190000.00\n",
       "50%   2013.00  65870.00  350000.00\n",
       "75%   2016.00  85000.00  611000.00\n",
       "max   2021.00 200000.00 2500000.00"
      ]
     },
     "execution_count": 28,
     "metadata": {},
     "output_type": "execute_result"
    }
   ],
   "source": [
    "df_no_ot.describe()"
   ]
  },
  {
   "cell_type": "code",
   "execution_count": 29,
   "metadata": {},
   "outputs": [
    {
     "data": {
      "image/png": "[encoded data removed]",
      "text/plain": [
       "<Figure size 864x432 with 1 Axes>"
      ]
     },
     "metadata": {
      "needs_background": "light"
     },
     "output_type": "display_data"
    }
   ],
   "source": [
    "plt.figure(figsize = (12,6))\n",
    "\n",
    "sns.distplot(df_no_ot['KM'], color = 'Orange')\n",
    "plt.title('Density Plot of Distance Travelled by Vehicles')\n",
    "plt.xlabel('Distance (in KMs)')\n",
    "\n",
    "plt.show()"
   ]
  },
  {
   "cell_type": "code",
   "execution_count": 30,
   "metadata": {},
   "outputs": [
    {
     "data": {
      "image/png": "[encoded data removed]",
      "text/plain": [
       "<Figure size 864x432 with 1 Axes>"
      ]
     },
     "metadata": {
      "needs_background": "light"
     },
     "output_type": "display_data"
    }
   ],
   "source": [
    "plt.figure(figsize = (12,6))\n",
    "\n",
    "sns.boxplot(df_no_ot['KM'])\n",
    "plt.title('Updated Box Plot of Distance Travelled by Vehicles')\n",
    "plt.xlabel('Distance (in KMs)')\n",
    "\n",
    "plt.show()"
   ]
  },
  {
   "cell_type": "code",
   "execution_count": 31,
   "metadata": {},
   "outputs": [
    {
     "data": {
      "image/png": "[encoded data removed]",
      "text/plain": [
       "<Figure size 607x540 with 12 Axes>"
      ]
     },
     "metadata": {
      "needs_background": "light"
     },
     "output_type": "display_data"
    }
   ],
   "source": [
    "sns.pairplot(df_no_ot, hue = 'Fuel Type')\n",
    "plt.title('Seaborn PairPlot of Numerical / Datetime Features')\n",
    "plt.xlabel('Features')\n",
    "\n",
    "plt.show()"
   ]
  },
  {
   "cell_type": "markdown",
   "metadata": {},
   "source": [
    "#### Dummies for Categorical Features"
   ]
  },
  {
   "cell_type": "code",
   "execution_count": 32,
   "metadata": {},
   "outputs": [],
   "source": [
    "X = df_no_ot[['Make', 'Year', 'KM', 'Fuel Type']]\n",
    "y = df_no_ot['Price']"
   ]
  },
  {
   "cell_type": "code",
   "execution_count": 33,
   "metadata": {},
   "outputs": [],
   "source": [
    "x = pd.get_dummies(X, drop_first = True)"
   ]
  },
  {
   "cell_type": "markdown",
   "metadata": {},
   "source": [
    "#### Train Test Split"
   ]
  },
  {
   "cell_type": "code",
   "execution_count": 34,
   "metadata": {},
   "outputs": [],
   "source": [
    "x_train, x_test, y_train, y_test = train_test_split(x, y, test_size = 0.3, random_state = 66)"
   ]
  },
  {
   "cell_type": "markdown",
   "metadata": {},
   "source": [
    "### Linear Regression"
   ]
  },
  {
   "cell_type": "code",
   "execution_count": 35,
   "metadata": {},
   "outputs": [],
   "source": [
    "linreg = LinearRegression()"
   ]
  },
  {
   "cell_type": "code",
   "execution_count": 36,
   "metadata": {},
   "outputs": [
    {
     "data": {
      "text/plain": [
       "LinearRegression()"
      ]
     },
     "execution_count": 36,
     "metadata": {},
     "output_type": "execute_result"
    }
   ],
   "source": [
    "linreg.fit(x_train, y_train)"
   ]
  },
  {
   "cell_type": "code",
   "execution_count": 37,
   "metadata": {},
   "outputs": [
    {
     "data": {
      "text/plain": [
       "262839.138"
      ]
     },
     "execution_count": 37,
     "metadata": {},
     "output_type": "execute_result"
    }
   ],
   "source": [
    "np.round(np.sqrt(metrics.mean_squared_error(y_train, linreg.predict(x_train))),3)"
   ]
  },
  {
   "cell_type": "code",
   "execution_count": 38,
   "metadata": {},
   "outputs": [
    {
     "data": {
      "text/plain": [
       "373217.674"
      ]
     },
     "execution_count": 38,
     "metadata": {},
     "output_type": "execute_result"
    }
   ],
   "source": [
    "np.round(np.sqrt(metrics.mean_squared_error(y_test, linreg.predict(x_test))),3)"
   ]
  },
  {
   "cell_type": "code",
   "execution_count": 39,
   "metadata": {},
   "outputs": [
    {
     "data": {
      "text/plain": [
       "0.51"
      ]
     },
     "execution_count": 39,
     "metadata": {},
     "output_type": "execute_result"
    }
   ],
   "source": [
    "np.round(metrics.r2_score(y_train, linreg.predict(x_train)), 2)"
   ]
  },
  {
   "cell_type": "markdown",
   "metadata": {},
   "source": [
    "### Lasso"
   ]
  },
  {
   "cell_type": "code",
   "execution_count": 40,
   "metadata": {},
   "outputs": [],
   "source": [
    "lasso = Lasso(max_iter=15000)"
   ]
  },
  {
   "cell_type": "code",
   "execution_count": 41,
   "metadata": {},
   "outputs": [
    {
     "data": {
      "text/plain": [
       "Lasso(max_iter=15000)"
      ]
     },
     "execution_count": 41,
     "metadata": {},
     "output_type": "execute_result"
    }
   ],
   "source": [
    "lasso.fit(x_train, y_train)"
   ]
  },
  {
   "cell_type": "code",
   "execution_count": 42,
   "metadata": {},
   "outputs": [
    {
     "data": {
      "text/plain": [
       "262839.274"
      ]
     },
     "execution_count": 42,
     "metadata": {},
     "output_type": "execute_result"
    }
   ],
   "source": [
    "np.round(np.sqrt(metrics.mean_squared_error(y_train, lasso.predict(x_train))),3)"
   ]
  },
  {
   "cell_type": "code",
   "execution_count": 43,
   "metadata": {},
   "outputs": [
    {
     "data": {
      "text/plain": [
       "373014.505"
      ]
     },
     "execution_count": 43,
     "metadata": {},
     "output_type": "execute_result"
    }
   ],
   "source": [
    "np.round(np.sqrt(metrics.mean_squared_error(y_test, lasso.predict(x_test))),3)"
   ]
  },
  {
   "cell_type": "code",
   "execution_count": 44,
   "metadata": {},
   "outputs": [
    {
     "data": {
      "text/plain": [
       "0.51"
      ]
     },
     "execution_count": 44,
     "metadata": {},
     "output_type": "execute_result"
    }
   ],
   "source": [
    "np.round(metrics.r2_score(y_train, lasso.predict(x_train)), 2)"
   ]
  },
  {
   "cell_type": "markdown",
   "metadata": {},
   "source": [
    "### Ridge"
   ]
  },
  {
   "cell_type": "code",
   "execution_count": 45,
   "metadata": {},
   "outputs": [],
   "source": [
    "ridge = Ridge(max_iter = 1500)"
   ]
  },
  {
   "cell_type": "code",
   "execution_count": 46,
   "metadata": {},
   "outputs": [
    {
     "data": {
      "text/plain": [
       "Ridge(max_iter=1500)"
      ]
     },
     "execution_count": 46,
     "metadata": {},
     "output_type": "execute_result"
    }
   ],
   "source": [
    "ridge.fit(x_train, y_train)"
   ]
  },
  {
   "cell_type": "code",
   "execution_count": 47,
   "metadata": {},
   "outputs": [
    {
     "data": {
      "text/plain": [
       "270423.858"
      ]
     },
     "execution_count": 47,
     "metadata": {},
     "output_type": "execute_result"
    }
   ],
   "source": [
    "np.round(np.sqrt(metrics.mean_squared_error(y_train, ridge.predict(x_train))),3)"
   ]
  },
  {
   "cell_type": "code",
   "execution_count": 48,
   "metadata": {},
   "outputs": [
    {
     "data": {
      "text/plain": [
       "372726.876"
      ]
     },
     "execution_count": 48,
     "metadata": {},
     "output_type": "execute_result"
    }
   ],
   "source": [
    "np.round(np.sqrt(metrics.mean_squared_error(y_test, ridge.predict(x_test))),3)"
   ]
  },
  {
   "cell_type": "code",
   "execution_count": 49,
   "metadata": {},
   "outputs": [
    {
     "data": {
      "text/plain": [
       "0.48"
      ]
     },
     "execution_count": 49,
     "metadata": {},
     "output_type": "execute_result"
    }
   ],
   "source": [
    "np.round(metrics.r2_score(y_train, ridge.predict(x_train)) , 2)"
   ]
  },
  {
   "cell_type": "markdown",
   "metadata": {},
   "source": [
    "### ElasticNet"
   ]
  },
  {
   "cell_type": "code",
   "execution_count": 50,
   "metadata": {},
   "outputs": [],
   "source": [
    "enet = ElasticNet(max_iter = 1500)"
   ]
  },
  {
   "cell_type": "code",
   "execution_count": 51,
   "metadata": {},
   "outputs": [
    {
     "data": {
      "text/plain": [
       "ElasticNet(max_iter=1500)"
      ]
     },
     "execution_count": 51,
     "metadata": {},
     "output_type": "execute_result"
    }
   ],
   "source": [
    "enet.fit(x_train, y_train)"
   ]
  },
  {
   "cell_type": "code",
   "execution_count": 52,
   "metadata": {},
   "outputs": [
    {
     "data": {
      "text/plain": [
       "298837.951"
      ]
     },
     "execution_count": 52,
     "metadata": {},
     "output_type": "execute_result"
    }
   ],
   "source": [
    "np.round(np.sqrt(metrics.mean_squared_error(y_train, enet.predict(x_train))),3)"
   ]
  },
  {
   "cell_type": "code",
   "execution_count": 53,
   "metadata": {},
   "outputs": [
    {
     "data": {
      "text/plain": [
       "397702.368"
      ]
     },
     "execution_count": 53,
     "metadata": {},
     "output_type": "execute_result"
    }
   ],
   "source": [
    "np.round(np.sqrt(metrics.mean_squared_error(y_test, enet.predict(x_test))),3)"
   ]
  },
  {
   "cell_type": "code",
   "execution_count": 54,
   "metadata": {},
   "outputs": [
    {
     "data": {
      "text/plain": [
       "0.37"
      ]
     },
     "execution_count": 54,
     "metadata": {},
     "output_type": "execute_result"
    }
   ],
   "source": [
    "np.round(metrics.r2_score(y_train, enet.predict(x_train)),2)"
   ]
  },
  {
   "cell_type": "markdown",
   "metadata": {},
   "source": [
    "### OLS"
   ]
  },
  {
   "cell_type": "code",
   "execution_count": 55,
   "metadata": {},
   "outputs": [],
   "source": [
    "x_train_ols = sm.add_constant(x_train)"
   ]
  },
  {
   "cell_type": "code",
   "execution_count": 56,
   "metadata": {},
   "outputs": [],
   "source": [
    "model = sm.OLS(y_train, x_train_ols)"
   ]
  },
  {
   "cell_type": "code",
   "execution_count": 57,
   "metadata": {},
   "outputs": [],
   "source": [
    "results = model.fit()"
   ]
  },
  {
   "cell_type": "code",
   "execution_count": 58,
   "metadata": {},
   "outputs": [
    {
     "name": "stdout",
     "output_type": "stream",
     "text": [
      "                              Results: Ordinary least squares\n",
      "============================================================================================\n",
      "Model:                       OLS                      Adj. R-squared:             0.476     \n",
      "Dependent Variable:          Price                    AIC:                        7684.0298 \n",
      "Date:                        2021-08-06 21:22         BIC:                        7756.3652 \n",
      "No. Observations:            275                      Log-Likelihood:             -3822.0   \n",
      "Df Model:                    19                       F-statistic:                14.11     \n",
      "Df Residuals:                255                      Prob (F-statistic):         5.46e-30  \n",
      "R-squared:                   0.512                    Scale:                      7.4503e+10\n",
      "--------------------------------------------------------------------------------------------\n",
      "                       Coef.        Std.Err.      t     P>|t|      [0.025         0.975]    \n",
      "--------------------------------------------------------------------------------------------\n",
      "const              -77518504.3902 7523584.4950 -10.3034 0.0000 -92334778.8594 -62702229.9210\n",
      "Year                   39349.8335    3730.0403  10.5494 0.0000     32004.2257     46695.4412\n",
      "KM                        -1.2920       0.5068  -2.5495 0.0114        -2.2900        -0.2940\n",
      "Make_BMW             -892981.9408  305251.3015  -2.9254 0.0038  -1494116.5553   -291847.3262\n",
      "Make_Bajaj          -1271001.4553  335876.6446  -3.7841 0.0002  -1932446.8818   -609556.0289\n",
      "Make_Chevrolet      -1167859.4663  282164.4614  -4.1389 0.0000  -1723528.9226   -612190.0101\n",
      "Make_Datsun         -1397067.0943  338219.0244  -4.1307 0.0000  -2063125.3939   -731008.7947\n",
      "Make_Fiat           -1241092.4002  315601.8871  -3.9325 0.0001  -1862610.5324   -619574.2680\n",
      "Make_Ford           -1108798.7894  286301.2912  -3.8728 0.0001  -1672614.9483   -544982.6305\n",
      "Make_Hyundai        -1071678.3753  277089.2834  -3.8676 0.0001  -1617353.2299   -526003.5206\n",
      "Make_Jeep                 -0.0000       0.0000 -10.3242 0.0000        -0.0000        -0.0000\n",
      "Make_Mahindra        -890373.4314  276849.9643  -3.2161 0.0015  -1435576.9925   -345169.8704\n",
      "Make_Maruti Suzuki  -1161810.8347  274891.7020  -4.2264 0.0000  -1703157.9689   -620463.7004\n",
      "Make_Mercedes-Benz   -670986.2210  386064.9685  -1.7380 0.0834  -1431268.0440     89295.6021\n",
      "Make_Mitsubishi     -1030912.0361  389026.4970  -2.6500 0.0086  -1797026.0286   -264798.0435\n",
      "Make_Nissan         -1162445.7459  305287.1357  -3.8077 0.0002  -1763650.9291   -561240.5627\n",
      "Make_Opel                  0.0000       0.0000   7.2375 0.0000         0.0000         0.0000\n",
      "Make_Renault        -1175409.0023  299565.0935  -3.9237 0.0001  -1765345.7072   -585472.2974\n",
      "Make_Skoda           -794343.6410  289632.1914  -2.7426 0.0065  -1364719.3768   -223967.9052\n",
      "Make_Tata           -1265988.3705  276470.7096  -4.5791 0.0000  -1810445.0612   -721531.6799\n",
      "Make_Toyota          -906738.8570  280180.6108  -3.2363 0.0014  -1458501.4953   -354976.2187\n",
      "Fuel Type_Petrol     -157607.4152   45662.1987  -3.4516 0.0007   -247530.4656    -67684.3647\n",
      "--------------------------------------------------------------------------------------------\n",
      "Omnibus:                 107.573          Durbin-Watson:             1.905                  \n",
      "Prob(Omnibus):           0.000            Jarque-Bera (JB):          571.000                \n",
      "Skew:                    1.503            Prob(JB):                  0.000                  \n",
      "Kurtosis:                9.388            Condition No.:             12506993611419718516736\n",
      "============================================================================================\n",
      "* The condition number is large (1e+22). This might indicate             strong\n",
      "multicollinearity or other numerical problems.\n"
     ]
    }
   ],
   "source": [
    "print(results.summary2())"
   ]
  },
  {
   "cell_type": "code",
   "execution_count": 59,
   "metadata": {},
   "outputs": [],
   "source": [
    "# Removing 'Make_Mercedes-Benz' as it has p-value > 0.05"
   ]
  },
  {
   "cell_type": "code",
   "execution_count": 60,
   "metadata": {},
   "outputs": [],
   "source": [
    "x_train_ols_2 = x_train_ols.drop('Make_Mercedes-Benz', axis = 1)"
   ]
  },
  {
   "cell_type": "code",
   "execution_count": 61,
   "metadata": {},
   "outputs": [],
   "source": [
    "model2 = sm.OLS(y_train, x_train_ols_2)"
   ]
  },
  {
   "cell_type": "code",
   "execution_count": 62,
   "metadata": {},
   "outputs": [],
   "source": [
    "results2 = model2.fit()"
   ]
  },
  {
   "cell_type": "code",
   "execution_count": 63,
   "metadata": {},
   "outputs": [
    {
     "name": "stdout",
     "output_type": "stream",
     "text": [
      "                              Results: Ordinary least squares\n",
      "============================================================================================\n",
      "Model:                       OLS                      Adj. R-squared:             0.472     \n",
      "Dependent Variable:          Price                    AIC:                        7685.2683 \n",
      "Date:                        2021-08-06 21:22         BIC:                        7753.9869 \n",
      "No. Observations:            275                      Log-Likelihood:             -3823.6   \n",
      "Df Model:                    18                       F-statistic:                14.61     \n",
      "Df Residuals:                256                      Prob (F-statistic):         5.72e-30  \n",
      "R-squared:                   0.507                    Scale:                      7.5091e+10\n",
      "--------------------------------------------------------------------------------------------\n",
      "                       Coef.        Std.Err.      t     P>|t|      [0.025         0.975]    \n",
      "--------------------------------------------------------------------------------------------\n",
      "const              -78027163.6804 7547502.2377 -10.3381 0.0000 -92890262.7692 -63164064.5916\n",
      "Year                   39435.4635    3744.4059  10.5318 0.0000     32061.7027     46809.2242\n",
      "KM                        -1.2799       0.5087  -2.5159 0.0125        -2.2817        -0.2781\n",
      "Make_BMW             -557708.9670  237502.5382  -2.3482 0.0196  -1025416.5141    -90001.4199\n",
      "Make_Bajaj           -934669.3733  275608.1769  -3.3913 0.0008  -1477417.3599   -391921.3868\n",
      "Make_Chevrolet       -832239.2193  206545.6316  -4.0293 0.0001  -1238984.1387   -425494.2999\n",
      "Make_Datsun         -1061507.9343  278791.3134  -3.8075 0.0002  -1610524.3885   -512491.4801\n",
      "Make_Fiat            -905687.4767  250708.6875  -3.6125 0.0004  -1399401.5490   -411973.4045\n",
      "Make_Ford            -773502.3552  212376.5408  -3.6421 0.0003  -1191729.9318   -355274.7785\n",
      "Make_Hyundai         -736104.7740  199526.5105  -3.6893 0.0003  -1129027.1214   -343182.4267\n",
      "Make_Jeep                 -0.0000       0.0000  -9.7549 0.0000        -0.0000        -0.0000\n",
      "Make_Mahindra        -555079.6238  199348.5485  -2.7845 0.0058   -947651.5152   -162507.7324\n",
      "Make_Maruti Suzuki   -826192.6131  196413.4354  -4.2064 0.0000  -1212984.4629   -439400.7632\n",
      "Make_Mitsubishi      -694204.6030  338685.9728  -2.0497 0.0414  -1361170.0461    -27239.1599\n",
      "Make_Nissan          -826892.9768  237417.1012  -3.4829 0.0006  -1294432.2751   -359353.6785\n",
      "Make_Opel                 -0.0000       0.0000  -3.2176 0.0015        -0.0000        -0.0000\n",
      "Make_Renault         -840096.7098  230070.4244  -3.6515 0.0003  -1293168.3892   -387025.0303\n",
      "Make_Skoda           -459088.5599  216902.2054  -2.1166 0.0353   -886228.4095    -31948.7103\n",
      "Make_Tata            -930561.7985  198742.6122  -4.6822 0.0000  -1321940.4355   -539183.1614\n",
      "Make_Toyota          -571521.3771  204026.5580  -2.8012 0.0055   -973305.5507   -169737.2036\n",
      "Fuel Type_Petrol     -157478.0286   45841.9969  -3.4352 0.0007   -247753.4760    -67202.5811\n",
      "--------------------------------------------------------------------------------------------\n",
      "Omnibus:                 105.138          Durbin-Watson:             1.921                  \n",
      "Prob(Omnibus):           0.000            Jarque-Bera (JB):          538.231                \n",
      "Skew:                    1.476            Prob(JB):                  0.000                  \n",
      "Kurtosis:                9.185            Condition No.:             11776526336336798416896\n",
      "============================================================================================\n",
      "* The condition number is large (1e+22). This might indicate             strong\n",
      "multicollinearity or other numerical problems.\n"
     ]
    }
   ],
   "source": [
    "print(results2.summary2())"
   ]
  },
  {
   "cell_type": "code",
   "execution_count": 64,
   "metadata": {},
   "outputs": [],
   "source": [
    "# Regression Models after Removing 'Make_Mercedes-Benz' Feature."
   ]
  },
  {
   "cell_type": "code",
   "execution_count": 65,
   "metadata": {},
   "outputs": [],
   "source": [
    "x_2 = x.drop('Make_Mercedes-Benz', axis = 1)"
   ]
  },
  {
   "cell_type": "code",
   "execution_count": 66,
   "metadata": {},
   "outputs": [],
   "source": [
    "x_train_2, x_test_2, y_train_2, y_test_2 = train_test_split(x_2, y, test_size=0.3, random_state=66)"
   ]
  },
  {
   "cell_type": "code",
   "execution_count": 67,
   "metadata": {},
   "outputs": [
    {
     "name": "stdout",
     "output_type": "stream",
     "text": [
      "264391.331\n",
      "362733.379\n",
      "0.51\n"
     ]
    }
   ],
   "source": [
    "linreg2 = LinearRegression()\n",
    "linreg2.fit(x_train_2, y_train_2)\n",
    "print(np.round(np.sqrt(metrics.mean_squared_error(y_train_2, linreg2.predict(x_train_2))),3))\n",
    "print(np.round(np.sqrt(metrics.mean_squared_error(y_test_2, linreg2.predict(x_test_2))),3))\n",
    "print(np.round(metrics.r2_score(y_train_2, linreg2.predict(x_train_2)), 2))"
   ]
  },
  {
   "cell_type": "code",
   "execution_count": 68,
   "metadata": {},
   "outputs": [
    {
     "name": "stdout",
     "output_type": "stream",
     "text": [
      "264391.391\n",
      "362699.505\n",
      "0.51\n"
     ]
    }
   ],
   "source": [
    "lasso2 = Lasso()\n",
    "lasso2.fit(x_train_2, y_train_2)\n",
    "print(np.round(np.sqrt(metrics.mean_squared_error(y_train_2, lasso2.predict(x_train_2))),3))\n",
    "print(np.round(np.sqrt(metrics.mean_squared_error(y_test_2, lasso2.predict(x_test_2))),3))\n",
    "print(np.round(metrics.r2_score(y_train_2, lasso2.predict(x_train_2)), 2))"
   ]
  },
  {
   "cell_type": "code",
   "execution_count": 69,
   "metadata": {},
   "outputs": [
    {
     "name": "stdout",
     "output_type": "stream",
     "text": [
      "270809.559\n",
      "372194.005\n",
      "0.48\n"
     ]
    }
   ],
   "source": [
    "ridge2 = Ridge()\n",
    "ridge2.fit(x_train_2, y_train_2)\n",
    "print(np.round(np.sqrt(metrics.mean_squared_error(y_train_2, ridge2.predict(x_train_2))),3))\n",
    "print(np.round(np.sqrt(metrics.mean_squared_error(y_test_2, ridge2.predict(x_test_2))),3))\n",
    "print(np.round(metrics.r2_score(y_train_2, ridge2.predict(x_train_2)), 2))"
   ]
  },
  {
   "cell_type": "code",
   "execution_count": 70,
   "metadata": {},
   "outputs": [
    {
     "name": "stdout",
     "output_type": "stream",
     "text": [
      "298854.109\n",
      "397699.154\n",
      "0.37\n"
     ]
    }
   ],
   "source": [
    "enet2 = ElasticNet()\n",
    "enet2.fit(x_train_2, y_train_2)\n",
    "print(np.round(np.sqrt(metrics.mean_squared_error(y_train_2, enet2.predict(x_train_2))),3))\n",
    "print(np.round(np.sqrt(metrics.mean_squared_error(y_test_2, enet2.predict(x_test_2))),3))\n",
    "print(np.round(metrics.r2_score(y_train_2, enet2.predict(x_train_2)), 2))"
   ]
  },
  {
   "cell_type": "code",
   "execution_count": 71,
   "metadata": {},
   "outputs": [],
   "source": [
    "# Models performed bad after Removign the 'Make_Mercedes-Benz' Feature."
   ]
  }
 ],
 "metadata": {
  "kernelspec": {
   "display_name": "Python 3",
   "language": "python",
   "name": "python3"
  },
  "language_info": {
   "codemirror_mode": {
    "name": "ipython",
    "version": 3
   },
   "file_extension": ".py",
   "mimetype": "text/x-python",
   "name": "python",
   "nbconvert_exporter": "python",
   "pygments_lexer": "ipython3",
   "version": "3.8.5"
  }
 },
 "nbformat": 4,
 "nbformat_minor": 4
}
